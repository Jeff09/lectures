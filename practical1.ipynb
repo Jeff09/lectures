{
 "cells": [
  {
   "cell_type": "markdown",
   "metadata": {},
   "source": [
    "### Practical 1: word2vec\n",
    "Oxford CS - Deep NLP 2017\n",
    "https://www.cs.ox.ac.uk/teaching/courses/2016-2017/dl/\n",
    "\n",
    "[Yannis Assael, Brendan Shillingford, Chris Dyer]\n",
    "\n",
    "This practical is presented as an IPython Notebook, with the code written for recent versions of Python 3. The code in this practical will not work with Python 2 unless you modify it. If you are using your own Python installation, ensure you have a setup identical to that described in the installation shell script (which is intended for use with the department lab machines). We will be unable to support installation on personal machines due to time constraints, so please use the lab machines and the setup script if you are unfamiliar with how to install Anaconda.\n",
    "\n",
    "To execute a notebook cell, press shift-enter. The return value of the last command will be displayed, if it is not None.\n",
    "\n",
    "Potentially useful library documentation, references, and resources:\n",
    "\n",
    "* IPython notebooks: https://ipython.org/ipython-doc/3/notebook/notebook.html#introduction\n",
    "* Numpy numerical array library: https://docs.scipy.org/doc/\n",
    "* Gensim's word2vec: https://radimrehurek.com/gensim/models/word2vec.html\n",
    "* Bokeh interactive plots: http://bokeh.pydata.org/en/latest/ (we provide plotting code here, but click the thumbnails for more examples to copy-paste)\n",
    "* scikit-learn ML library (aka sklearn): http://scikit-learn.org/stable/documentation.html\n",
    "* nltk NLP toolkit: http://www.nltk.org/\n",
    "* tutorial for processing xml in python using lxml: http://lxml.de/tutorial.html (we did this for you below, but in case you need it in the future)"
   ]
  },
  {
   "cell_type": "code",
   "execution_count": 1,
   "metadata": {
    "ExecuteTime": {
     "end_time": "2017-12-24T05:16:20.543390Z",
     "start_time": "2017-12-24T05:16:20.486668Z"
    },
    "collapsed": true
   },
   "outputs": [],
   "source": [
    "import numpy as np\n",
    "import os\n",
    "from random import shuffle\n",
    "import re"
   ]
  },
  {
   "cell_type": "code",
   "execution_count": 2,
   "metadata": {
    "ExecuteTime": {
     "end_time": "2017-12-24T05:16:31.267709Z",
     "start_time": "2017-12-24T05:16:26.038878Z"
    }
   },
   "outputs": [
    {
     "data": {
      "text/html": [
       "\n",
       "    <div class=\"bk-root\">\n",
       "        <a href=\"https://bokeh.pydata.org\" target=\"_blank\" class=\"bk-logo bk-logo-small bk-logo-notebook\"></a>\n",
       "        <span id=\"77c58d7e-a002-4559-b7f0-fcd54f68a4b2\">Loading BokehJS ...</span>\n",
       "    </div>"
      ]
     },
     "metadata": {},
     "output_type": "display_data"
    },
    {
     "data": {
      "application/javascript": [
       "\n",
       "(function(root) {\n",
       "  function now() {\n",
       "    return new Date();\n",
       "  }\n",
       "\n",
       "  var force = true;\n",
       "\n",
       "  if (typeof (root._bokeh_onload_callbacks) === \"undefined\" || force === true) {\n",
       "    root._bokeh_onload_callbacks = [];\n",
       "    root._bokeh_is_loading = undefined;\n",
       "  }\n",
       "\n",
       "  var JS_MIME_TYPE = 'application/javascript';\n",
       "  var HTML_MIME_TYPE = 'text/html';\n",
       "  var EXEC_MIME_TYPE = 'application/vnd.bokehjs_exec.v0+json';\n",
       "  var CLASS_NAME = 'output_bokeh rendered_html';\n",
       "\n",
       "  /**\n",
       "   * Render data to the DOM node\n",
       "   */\n",
       "  function render(props, node) {\n",
       "    var script = document.createElement(\"script\");\n",
       "    node.appendChild(script);\n",
       "  }\n",
       "\n",
       "  /**\n",
       "   * Handle when an output is cleared or removed\n",
       "   */\n",
       "  function handleClearOutput(event, handle) {\n",
       "    var cell = handle.cell;\n",
       "\n",
       "    var id = cell.output_area._bokeh_element_id;\n",
       "    var server_id = cell.output_area._bokeh_server_id;\n",
       "    // Clean up Bokeh references\n",
       "    if (id !== undefined) {\n",
       "      Bokeh.index[id].model.document.clear();\n",
       "      delete Bokeh.index[id];\n",
       "    }\n",
       "\n",
       "    if (server_id !== undefined) {\n",
       "      // Clean up Bokeh references\n",
       "      var cmd = \"from bokeh.io.state import curstate; print(curstate().uuid_to_server['\" + server_id + \"'].get_sessions()[0].document.roots[0]._id)\";\n",
       "      cell.notebook.kernel.execute(cmd, {\n",
       "        iopub: {\n",
       "          output: function(msg) {\n",
       "            var element_id = msg.content.text.trim();\n",
       "            Bokeh.index[element_id].model.document.clear();\n",
       "            delete Bokeh.index[element_id];\n",
       "          }\n",
       "        }\n",
       "      });\n",
       "      // Destroy server and session\n",
       "      var cmd = \"import bokeh.io.notebook as ion; ion.destroy_server('\" + server_id + \"')\";\n",
       "      cell.notebook.kernel.execute(cmd);\n",
       "    }\n",
       "  }\n",
       "\n",
       "  /**\n",
       "   * Handle when a new output is added\n",
       "   */\n",
       "  function handleAddOutput(event, handle) {\n",
       "    var output_area = handle.output_area;\n",
       "    var output = handle.output;\n",
       "\n",
       "    // limit handleAddOutput to display_data with EXEC_MIME_TYPE content only\n",
       "    if ((output.output_type != \"display_data\") || (!output.data.hasOwnProperty(EXEC_MIME_TYPE))) {\n",
       "      return\n",
       "    }\n",
       "\n",
       "    var toinsert = output_area.element.find(`.${CLASS_NAME.split(' ')[0]}`);\n",
       "\n",
       "    if (output.metadata[EXEC_MIME_TYPE][\"id\"] !== undefined) {\n",
       "      toinsert[0].firstChild.textContent = output.data[JS_MIME_TYPE];\n",
       "      // store reference to embed id on output_area\n",
       "      output_area._bokeh_element_id = output.metadata[EXEC_MIME_TYPE][\"id\"];\n",
       "    }\n",
       "    if (output.metadata[EXEC_MIME_TYPE][\"server_id\"] !== undefined) {\n",
       "      var bk_div = document.createElement(\"div\");\n",
       "      bk_div.innerHTML = output.data[HTML_MIME_TYPE];\n",
       "      var script_attrs = bk_div.children[0].attributes;\n",
       "      for (var i = 0; i < script_attrs.length; i++) {\n",
       "        toinsert[0].firstChild.setAttribute(script_attrs[i].name, script_attrs[i].value);\n",
       "      }\n",
       "      // store reference to server id on output_area\n",
       "      output_area._bokeh_server_id = output.metadata[EXEC_MIME_TYPE][\"server_id\"];\n",
       "    }\n",
       "  }\n",
       "\n",
       "  function register_renderer(events, OutputArea) {\n",
       "\n",
       "    function append_mime(data, metadata, element) {\n",
       "      // create a DOM node to render to\n",
       "      var toinsert = this.create_output_subarea(\n",
       "        metadata,\n",
       "        CLASS_NAME,\n",
       "        EXEC_MIME_TYPE\n",
       "      );\n",
       "      this.keyboard_manager.register_events(toinsert);\n",
       "      // Render to node\n",
       "      var props = {data: data, metadata: metadata[EXEC_MIME_TYPE]};\n",
       "      render(props, toinsert[0]);\n",
       "      element.append(toinsert);\n",
       "      return toinsert\n",
       "    }\n",
       "\n",
       "    /* Handle when an output is cleared or removed */\n",
       "    events.on('clear_output.CodeCell', handleClearOutput);\n",
       "    events.on('delete.Cell', handleClearOutput);\n",
       "\n",
       "    /* Handle when a new output is added */\n",
       "    events.on('output_added.OutputArea', handleAddOutput);\n",
       "\n",
       "    /**\n",
       "     * Register the mime type and append_mime function with output_area\n",
       "     */\n",
       "    OutputArea.prototype.register_mime_type(EXEC_MIME_TYPE, append_mime, {\n",
       "      /* Is output safe? */\n",
       "      safe: true,\n",
       "      /* Index of renderer in `output_area.display_order` */\n",
       "      index: 0\n",
       "    });\n",
       "  }\n",
       "\n",
       "  // register the mime type if in Jupyter Notebook environment and previously unregistered\n",
       "  if (root.Jupyter !== undefined) {\n",
       "    var events = require('base/js/events');\n",
       "    var OutputArea = require('notebook/js/outputarea').OutputArea;\n",
       "\n",
       "    if (OutputArea.prototype.mime_types().indexOf(EXEC_MIME_TYPE) == -1) {\n",
       "      register_renderer(events, OutputArea);\n",
       "    }\n",
       "  }\n",
       "\n",
       "  \n",
       "  if (typeof (root._bokeh_timeout) === \"undefined\" || force === true) {\n",
       "    root._bokeh_timeout = Date.now() + 5000;\n",
       "    root._bokeh_failed_load = false;\n",
       "  }\n",
       "\n",
       "  var NB_LOAD_WARNING = {'data': {'text/html':\n",
       "     \"<div style='background-color: #fdd'>\\n\"+\n",
       "     \"<p>\\n\"+\n",
       "     \"BokehJS does not appear to have successfully loaded. If loading BokehJS from CDN, this \\n\"+\n",
       "     \"may be due to a slow or bad network connection. Possible fixes:\\n\"+\n",
       "     \"</p>\\n\"+\n",
       "     \"<ul>\\n\"+\n",
       "     \"<li>re-rerun `output_notebook()` to attempt to load from CDN again, or</li>\\n\"+\n",
       "     \"<li>use INLINE resources instead, as so:</li>\\n\"+\n",
       "     \"</ul>\\n\"+\n",
       "     \"<code>\\n\"+\n",
       "     \"from bokeh.resources import INLINE\\n\"+\n",
       "     \"output_notebook(resources=INLINE)\\n\"+\n",
       "     \"</code>\\n\"+\n",
       "     \"</div>\"}};\n",
       "\n",
       "  function display_loaded() {\n",
       "    var el = document.getElementById(\"77c58d7e-a002-4559-b7f0-fcd54f68a4b2\");\n",
       "    if (el != null) {\n",
       "      el.textContent = \"BokehJS is loading...\";\n",
       "    }\n",
       "    if (root.Bokeh !== undefined) {\n",
       "      if (el != null) {\n",
       "        el.textContent = \"BokehJS \" + root.Bokeh.version + \" successfully loaded.\";\n",
       "      }\n",
       "    } else if (Date.now() < root._bokeh_timeout) {\n",
       "      setTimeout(display_loaded, 100)\n",
       "    }\n",
       "  }\n",
       "\n",
       "\n",
       "  function run_callbacks() {\n",
       "    try {\n",
       "      root._bokeh_onload_callbacks.forEach(function(callback) { callback() });\n",
       "    }\n",
       "    finally {\n",
       "      delete root._bokeh_onload_callbacks\n",
       "    }\n",
       "    console.info(\"Bokeh: all callbacks have finished\");\n",
       "  }\n",
       "\n",
       "  function load_libs(js_urls, callback) {\n",
       "    root._bokeh_onload_callbacks.push(callback);\n",
       "    if (root._bokeh_is_loading > 0) {\n",
       "      console.log(\"Bokeh: BokehJS is being loaded, scheduling callback at\", now());\n",
       "      return null;\n",
       "    }\n",
       "    if (js_urls == null || js_urls.length === 0) {\n",
       "      run_callbacks();\n",
       "      return null;\n",
       "    }\n",
       "    console.log(\"Bokeh: BokehJS not loaded, scheduling load and callback at\", now());\n",
       "    root._bokeh_is_loading = js_urls.length;\n",
       "    for (var i = 0; i < js_urls.length; i++) {\n",
       "      var url = js_urls[i];\n",
       "      var s = document.createElement('script');\n",
       "      s.src = url;\n",
       "      s.async = false;\n",
       "      s.onreadystatechange = s.onload = function() {\n",
       "        root._bokeh_is_loading--;\n",
       "        if (root._bokeh_is_loading === 0) {\n",
       "          console.log(\"Bokeh: all BokehJS libraries loaded\");\n",
       "          run_callbacks()\n",
       "        }\n",
       "      };\n",
       "      s.onerror = function() {\n",
       "        console.warn(\"failed to load library \" + url);\n",
       "      };\n",
       "      console.log(\"Bokeh: injecting script tag for BokehJS library: \", url);\n",
       "      document.getElementsByTagName(\"head\")[0].appendChild(s);\n",
       "    }\n",
       "  };var element = document.getElementById(\"77c58d7e-a002-4559-b7f0-fcd54f68a4b2\");\n",
       "  if (element == null) {\n",
       "    console.log(\"Bokeh: ERROR: autoload.js configured with elementid '77c58d7e-a002-4559-b7f0-fcd54f68a4b2' but no matching script tag was found. \")\n",
       "    return false;\n",
       "  }\n",
       "\n",
       "  var js_urls = [\"https://cdn.pydata.org/bokeh/release/bokeh-0.12.10.min.js\", \"https://cdn.pydata.org/bokeh/release/bokeh-widgets-0.12.10.min.js\", \"https://cdn.pydata.org/bokeh/release/bokeh-tables-0.12.10.min.js\", \"https://cdn.pydata.org/bokeh/release/bokeh-gl-0.12.10.min.js\"];\n",
       "\n",
       "  var inline_js = [\n",
       "    function(Bokeh) {\n",
       "      Bokeh.set_log_level(\"info\");\n",
       "    },\n",
       "    \n",
       "    function(Bokeh) {\n",
       "      \n",
       "    },\n",
       "    function(Bokeh) {\n",
       "      console.log(\"Bokeh: injecting CSS: https://cdn.pydata.org/bokeh/release/bokeh-0.12.10.min.css\");\n",
       "      Bokeh.embed.inject_css(\"https://cdn.pydata.org/bokeh/release/bokeh-0.12.10.min.css\");\n",
       "      console.log(\"Bokeh: injecting CSS: https://cdn.pydata.org/bokeh/release/bokeh-widgets-0.12.10.min.css\");\n",
       "      Bokeh.embed.inject_css(\"https://cdn.pydata.org/bokeh/release/bokeh-widgets-0.12.10.min.css\");\n",
       "      console.log(\"Bokeh: injecting CSS: https://cdn.pydata.org/bokeh/release/bokeh-tables-0.12.10.min.css\");\n",
       "      Bokeh.embed.inject_css(\"https://cdn.pydata.org/bokeh/release/bokeh-tables-0.12.10.min.css\");\n",
       "    }\n",
       "  ];\n",
       "\n",
       "  function run_inline_js() {\n",
       "    \n",
       "    if ((root.Bokeh !== undefined) || (force === true)) {\n",
       "      for (var i = 0; i < inline_js.length; i++) {\n",
       "        inline_js[i].call(root, root.Bokeh);\n",
       "      }if (force === true) {\n",
       "        display_loaded();\n",
       "      }} else if (Date.now() < root._bokeh_timeout) {\n",
       "      setTimeout(run_inline_js, 100);\n",
       "    } else if (!root._bokeh_failed_load) {\n",
       "      console.log(\"Bokeh: BokehJS failed to load within specified timeout.\");\n",
       "      root._bokeh_failed_load = true;\n",
       "    } else if (force !== true) {\n",
       "      var cell = $(document.getElementById(\"77c58d7e-a002-4559-b7f0-fcd54f68a4b2\")).parents('.cell').data().cell;\n",
       "      cell.output_area.append_execute_result(NB_LOAD_WARNING)\n",
       "    }\n",
       "\n",
       "  }\n",
       "\n",
       "  if (root._bokeh_is_loading === 0) {\n",
       "    console.log(\"Bokeh: BokehJS loaded, going straight to plotting\");\n",
       "    run_inline_js();\n",
       "  } else {\n",
       "    load_libs(js_urls, function() {\n",
       "      console.log(\"Bokeh: BokehJS plotting callback run at\", now());\n",
       "      run_inline_js();\n",
       "    });\n",
       "  }\n",
       "}(window));"
      ],
      "application/vnd.bokehjs_load.v0+json": "\n(function(root) {\n  function now() {\n    return new Date();\n  }\n\n  var force = true;\n\n  if (typeof (root._bokeh_onload_callbacks) === \"undefined\" || force === true) {\n    root._bokeh_onload_callbacks = [];\n    root._bokeh_is_loading = undefined;\n  }\n\n  \n\n  \n  if (typeof (root._bokeh_timeout) === \"undefined\" || force === true) {\n    root._bokeh_timeout = Date.now() + 5000;\n    root._bokeh_failed_load = false;\n  }\n\n  var NB_LOAD_WARNING = {'data': {'text/html':\n     \"<div style='background-color: #fdd'>\\n\"+\n     \"<p>\\n\"+\n     \"BokehJS does not appear to have successfully loaded. If loading BokehJS from CDN, this \\n\"+\n     \"may be due to a slow or bad network connection. Possible fixes:\\n\"+\n     \"</p>\\n\"+\n     \"<ul>\\n\"+\n     \"<li>re-rerun `output_notebook()` to attempt to load from CDN again, or</li>\\n\"+\n     \"<li>use INLINE resources instead, as so:</li>\\n\"+\n     \"</ul>\\n\"+\n     \"<code>\\n\"+\n     \"from bokeh.resources import INLINE\\n\"+\n     \"output_notebook(resources=INLINE)\\n\"+\n     \"</code>\\n\"+\n     \"</div>\"}};\n\n  function display_loaded() {\n    var el = document.getElementById(\"77c58d7e-a002-4559-b7f0-fcd54f68a4b2\");\n    if (el != null) {\n      el.textContent = \"BokehJS is loading...\";\n    }\n    if (root.Bokeh !== undefined) {\n      if (el != null) {\n        el.textContent = \"BokehJS \" + root.Bokeh.version + \" successfully loaded.\";\n      }\n    } else if (Date.now() < root._bokeh_timeout) {\n      setTimeout(display_loaded, 100)\n    }\n  }\n\n\n  function run_callbacks() {\n    try {\n      root._bokeh_onload_callbacks.forEach(function(callback) { callback() });\n    }\n    finally {\n      delete root._bokeh_onload_callbacks\n    }\n    console.info(\"Bokeh: all callbacks have finished\");\n  }\n\n  function load_libs(js_urls, callback) {\n    root._bokeh_onload_callbacks.push(callback);\n    if (root._bokeh_is_loading > 0) {\n      console.log(\"Bokeh: BokehJS is being loaded, scheduling callback at\", now());\n      return null;\n    }\n    if (js_urls == null || js_urls.length === 0) {\n      run_callbacks();\n      return null;\n    }\n    console.log(\"Bokeh: BokehJS not loaded, scheduling load and callback at\", now());\n    root._bokeh_is_loading = js_urls.length;\n    for (var i = 0; i < js_urls.length; i++) {\n      var url = js_urls[i];\n      var s = document.createElement('script');\n      s.src = url;\n      s.async = false;\n      s.onreadystatechange = s.onload = function() {\n        root._bokeh_is_loading--;\n        if (root._bokeh_is_loading === 0) {\n          console.log(\"Bokeh: all BokehJS libraries loaded\");\n          run_callbacks()\n        }\n      };\n      s.onerror = function() {\n        console.warn(\"failed to load library \" + url);\n      };\n      console.log(\"Bokeh: injecting script tag for BokehJS library: \", url);\n      document.getElementsByTagName(\"head\")[0].appendChild(s);\n    }\n  };var element = document.getElementById(\"77c58d7e-a002-4559-b7f0-fcd54f68a4b2\");\n  if (element == null) {\n    console.log(\"Bokeh: ERROR: autoload.js configured with elementid '77c58d7e-a002-4559-b7f0-fcd54f68a4b2' but no matching script tag was found. \")\n    return false;\n  }\n\n  var js_urls = [\"https://cdn.pydata.org/bokeh/release/bokeh-0.12.10.min.js\", \"https://cdn.pydata.org/bokeh/release/bokeh-widgets-0.12.10.min.js\", \"https://cdn.pydata.org/bokeh/release/bokeh-tables-0.12.10.min.js\", \"https://cdn.pydata.org/bokeh/release/bokeh-gl-0.12.10.min.js\"];\n\n  var inline_js = [\n    function(Bokeh) {\n      Bokeh.set_log_level(\"info\");\n    },\n    \n    function(Bokeh) {\n      \n    },\n    function(Bokeh) {\n      console.log(\"Bokeh: injecting CSS: https://cdn.pydata.org/bokeh/release/bokeh-0.12.10.min.css\");\n      Bokeh.embed.inject_css(\"https://cdn.pydata.org/bokeh/release/bokeh-0.12.10.min.css\");\n      console.log(\"Bokeh: injecting CSS: https://cdn.pydata.org/bokeh/release/bokeh-widgets-0.12.10.min.css\");\n      Bokeh.embed.inject_css(\"https://cdn.pydata.org/bokeh/release/bokeh-widgets-0.12.10.min.css\");\n      console.log(\"Bokeh: injecting CSS: https://cdn.pydata.org/bokeh/release/bokeh-tables-0.12.10.min.css\");\n      Bokeh.embed.inject_css(\"https://cdn.pydata.org/bokeh/release/bokeh-tables-0.12.10.min.css\");\n    }\n  ];\n\n  function run_inline_js() {\n    \n    if ((root.Bokeh !== undefined) || (force === true)) {\n      for (var i = 0; i < inline_js.length; i++) {\n        inline_js[i].call(root, root.Bokeh);\n      }if (force === true) {\n        display_loaded();\n      }} else if (Date.now() < root._bokeh_timeout) {\n      setTimeout(run_inline_js, 100);\n    } else if (!root._bokeh_failed_load) {\n      console.log(\"Bokeh: BokehJS failed to load within specified timeout.\");\n      root._bokeh_failed_load = true;\n    } else if (force !== true) {\n      var cell = $(document.getElementById(\"77c58d7e-a002-4559-b7f0-fcd54f68a4b2\")).parents('.cell').data().cell;\n      cell.output_area.append_execute_result(NB_LOAD_WARNING)\n    }\n\n  }\n\n  if (root._bokeh_is_loading === 0) {\n    console.log(\"Bokeh: BokehJS loaded, going straight to plotting\");\n    run_inline_js();\n  } else {\n    load_libs(js_urls, function() {\n      console.log(\"Bokeh: BokehJS plotting callback run at\", now());\n      run_inline_js();\n    });\n  }\n}(window));"
     },
     "metadata": {},
     "output_type": "display_data"
    }
   ],
   "source": [
    "from bokeh.models import ColumnDataSource, LabelSet\n",
    "from bokeh.plotting import figure, show, output_file\n",
    "from bokeh.io import output_notebook\n",
    "output_notebook()"
   ]
  },
  {
   "cell_type": "markdown",
   "metadata": {},
   "source": [
    "### Part 0: Download the TED dataset"
   ]
  },
  {
   "cell_type": "code",
   "execution_count": 3,
   "metadata": {
    "ExecuteTime": {
     "end_time": "2017-12-24T05:17:56.914515Z",
     "start_time": "2017-12-24T05:17:56.294633Z"
    },
    "collapsed": true
   },
   "outputs": [],
   "source": [
    "import urllib.request\n",
    "import zipfile\n",
    "import lxml.etree"
   ]
  },
  {
   "cell_type": "code",
   "execution_count": 4,
   "metadata": {
    "ExecuteTime": {
     "end_time": "2017-12-24T05:18:13.129481Z",
     "start_time": "2017-12-24T05:18:04.406350Z"
    },
    "collapsed": true
   },
   "outputs": [],
   "source": [
    "# Download the dataset if it's not already there: this may take a minute as it is 75MB\n",
    "if not os.path.isfile('ted_en-20160408.zip'):\n",
    "    urllib.request.urlretrieve(\"https://wit3.fbk.eu/get.php?path=XML_releases/xml/ted_en-20160408.zip&filename=ted_en-20160408.zip\", filename=\"ted_en-20160408.zip\")"
   ]
  },
  {
   "cell_type": "code",
   "execution_count": 5,
   "metadata": {
    "ExecuteTime": {
     "end_time": "2017-12-24T05:18:39.708744Z",
     "start_time": "2017-12-24T05:18:38.398400Z"
    },
    "collapsed": true
   },
   "outputs": [],
   "source": [
    "# For now, we're only interested in the subtitle text, so let's extract that from the XML:\n",
    "with zipfile.ZipFile('ted_en-20160408.zip', 'r') as z:\n",
    "    doc = lxml.etree.parse(z.open('ted_en-20160408.xml', 'r'))\n",
    "input_text = '\\n'.join(doc.xpath('//content/text()'))\n",
    "del doc"
   ]
  },
  {
   "cell_type": "code",
   "execution_count": 12,
   "metadata": {
    "ExecuteTime": {
     "end_time": "2017-12-24T05:26:10.241259Z",
     "start_time": "2017-12-24T05:26:10.237248Z"
    }
   },
   "outputs": [
    {
     "data": {
      "text/plain": [
       "\"Here are two reasons companies fail: they only do more of the same, or they only do what's new.\\nTo me the real, real solution to quality growth is figuring out the balance between two activities: expl\""
      ]
     },
     "execution_count": 12,
     "metadata": {},
     "output_type": "execute_result"
    }
   ],
   "source": [
    "input_text[:200]"
   ]
  },
  {
   "cell_type": "markdown",
   "metadata": {},
   "source": [
    "### Part 1: Preprocessing\n",
    "In this part, we attempt to clean up the raw subtitles a bit, so that we get only sentences. The following substring shows examples of what we're trying to get rid of. Since it's hard to define precisely what we want to get rid of, we'll just use some simple heuristics."
   ]
  },
  {
   "cell_type": "code",
   "execution_count": 6,
   "metadata": {
    "ExecuteTime": {
     "end_time": "2017-12-24T05:20:12.800369Z",
     "start_time": "2017-12-24T05:20:12.790343Z"
    }
   },
   "outputs": [
    {
     "data": {
      "text/plain": [
       "' baby does.\\n(Video) Hyowon Gweon: See this? (Ball squeaks) Did you see that? (Ball squeaks) Cool. See this one? (Ball squeaks) Wow.\\nLaura Schulz: Told you. (Laughs)\\n(Vide'"
      ]
     },
     "execution_count": 6,
     "metadata": {},
     "output_type": "execute_result"
    }
   ],
   "source": [
    "i = input_text.find(\"Hyowon Gweon: See this?\")\n",
    "input_text[i-20:i+150]"
   ]
  },
  {
   "cell_type": "markdown",
   "metadata": {},
   "source": [
    "Let's start by removing all parenthesized strings using a regex:"
   ]
  },
  {
   "cell_type": "code",
   "execution_count": 9,
   "metadata": {
    "ExecuteTime": {
     "end_time": "2017-12-24T05:22:04.164656Z",
     "start_time": "2017-12-24T05:22:04.101990Z"
    },
    "collapsed": true
   },
   "outputs": [],
   "source": [
    "input_text_noparens = re.sub(r'\\([^)]*\\)', '', input_text)"
   ]
  },
  {
   "cell_type": "markdown",
   "metadata": {},
   "source": [
    "We can verify the same location in the text is now clean as follows. We won't worry about the irregular spaces since we'll later split the text into sentences and tokenize it anyway."
   ]
  },
  {
   "cell_type": "code",
   "execution_count": 10,
   "metadata": {
    "ExecuteTime": {
     "end_time": "2017-12-24T05:22:32.483508Z",
     "start_time": "2017-12-24T05:22:32.477987Z"
    }
   },
   "outputs": [
    {
     "data": {
      "text/plain": [
       "\"hat the baby does.\\n Hyowon Gweon: See this?  Did you see that?  Cool. See this one?  Wow.\\nLaura Schulz: Told you. \\n HG: See this one?  Hey Clara, this one's for you. You \""
      ]
     },
     "execution_count": 10,
     "metadata": {},
     "output_type": "execute_result"
    }
   ],
   "source": [
    "i = input_text_noparens.find(\"Hyowon Gweon: See this?\")\n",
    "input_text_noparens[i-20:i+150]"
   ]
  },
  {
   "cell_type": "markdown",
   "metadata": {},
   "source": [
    "Now, let's attempt to remove speakers' names that occur at the beginning of a line, by deleting pieces of the form \"up to 20 characters:\", as shown in this example. Of course, this is an imperfect heuristic."
   ]
  },
  {
   "cell_type": "code",
   "execution_count": 11,
   "metadata": {
    "ExecuteTime": {
     "end_time": "2017-12-24T05:25:36.639877Z",
     "start_time": "2017-12-24T05:25:36.421791Z"
    }
   },
   "outputs": [
    {
     "data": {
      "text/plain": [
       "[\"Here are two reasons companies fail: they only do more of the same, or they only do what's new\",\n",
       " 'To me the real, real solution to quality growth is figuring out the balance between two activities: exploration and exploitation',\n",
       " ' Both are necessary, but it can be too much of a good thing',\n",
       " 'Consider Facit',\n",
       " \" I'm actually old enough to remember them\"]"
      ]
     },
     "execution_count": 11,
     "metadata": {},
     "output_type": "execute_result"
    }
   ],
   "source": [
    "sentences_strings_ted = []\n",
    "for line in input_text_noparens.split('\\n'):\n",
    "    m = re.match(r'^(?:(?P<precolon>[^:]{,20}):)?(?P<postcolon>.*)$', line)\n",
    "    sentences_strings_ted.extend(sent for sent in m.groupdict()['postcolon'].split('.') if sent)\n",
    "\n",
    "# Uncomment if you need to save some RAM: these strings are about 50MB.\n",
    "# del input_text, input_text_noparens\n",
    "\n",
    "# Let's view the first few:\n",
    "sentences_strings_ted[:5]"
   ]
  },
  {
   "cell_type": "markdown",
   "metadata": {},
   "source": [
    "Now that we have sentences, we're ready to tokenize each of them into words. This tokenization is imperfect, of course. For instance, how many tokens is \"can't\", and where/how do we split it? We'll take the simplest naive approach of splitting on spaces. Before splitting, we remove non-alphanumeric characters, such as punctuation. You may want to consider the following question: why do we replace these characters with spaces rather than deleting them? Think of a case where this yields a different answer."
   ]
  },
  {
   "cell_type": "code",
   "execution_count": 13,
   "metadata": {
    "ExecuteTime": {
     "end_time": "2017-12-24T05:27:39.872269Z",
     "start_time": "2017-12-24T05:27:37.749935Z"
    },
    "collapsed": true
   },
   "outputs": [],
   "source": [
    "sentences_ted = []\n",
    "for sent_str in sentences_strings_ted:\n",
    "    tokens = re.sub(r\"[^a-z0-9]+\", \" \", sent_str.lower()).split()\n",
    "    sentences_ted.append(tokens)"
   ]
  },
  {
   "cell_type": "code",
   "execution_count": 14,
   "metadata": {
    "ExecuteTime": {
     "end_time": "2017-12-24T05:27:51.161339Z",
     "start_time": "2017-12-24T05:27:51.157330Z"
    }
   },
   "outputs": [
    {
     "data": {
      "text/plain": [
       "266694"
      ]
     },
     "execution_count": 14,
     "metadata": {},
     "output_type": "execute_result"
    }
   ],
   "source": [
    "len(sentences_ted)"
   ]
  },
  {
   "cell_type": "code",
   "execution_count": 15,
   "metadata": {
    "ExecuteTime": {
     "end_time": "2017-12-24T05:27:57.108477Z",
     "start_time": "2017-12-24T05:27:57.101486Z"
    }
   },
   "outputs": [
    {
     "name": "stdout",
     "output_type": "stream",
     "text": [
      "['here', 'are', 'two', 'reasons', 'companies', 'fail', 'they', 'only', 'do', 'more', 'of', 'the', 'same', 'or', 'they', 'only', 'do', 'what', 's', 'new']\n",
      "['to', 'me', 'the', 'real', 'real', 'solution', 'to', 'quality', 'growth', 'is', 'figuring', 'out', 'the', 'balance', 'between', 'two', 'activities', 'exploration', 'and', 'exploitation']\n"
     ]
    }
   ],
   "source": [
    "print(sentences_ted[0])\n",
    "print(sentences_ted[1])"
   ]
  },
  {
   "cell_type": "markdown",
   "metadata": {},
   "source": [
    "### Part 2: Word Frequencies\n",
    "If you store the counts of the top 1000 words in a list called counts_ted_top1000, the code below will plot the histogram requested in the writeup."
   ]
  },
  {
   "cell_type": "code",
   "execution_count": 17,
   "metadata": {
    "ExecuteTime": {
     "end_time": "2017-12-24T05:36:06.565304Z",
     "start_time": "2017-12-24T05:36:05.494399Z"
    }
   },
   "outputs": [],
   "source": [
    "import operator\n",
    "\n",
    "counts_ted = {} # dicitonary of word frequences pairs\n",
    "for sen in sentences_ted:\n",
    "    for word in sen:\n",
    "        if word not in counts_ted:\n",
    "            counts_ted[word] = 0\n",
    "        counts_ted[word] += 1\n",
    "\n",
    "sorted_counts_ted = sorted(counts_ted.items(), key=operator.itemgetter(1))\n",
    "sorted_counts_ted.reverse()\n"
   ]
  },
  {
   "cell_type": "code",
   "execution_count": 21,
   "metadata": {
    "ExecuteTime": {
     "end_time": "2017-12-24T05:37:42.457573Z",
     "start_time": "2017-12-24T05:37:42.453585Z"
    }
   },
   "outputs": [],
   "source": [
    "counts_ted_top1000 = [x[1] for x in sorted_counts_ted[:1000]] "
   ]
  },
  {
   "cell_type": "markdown",
   "metadata": {
    "ExecuteTime": {
     "end_time": "2017-12-24T05:36:35.520514Z",
     "start_time": "2017-12-24T05:36:35.517005Z"
    }
   },
   "source": [
    "Plot distribution of top-1000 words"
   ]
  },
  {
   "cell_type": "code",
   "execution_count": 22,
   "metadata": {
    "ExecuteTime": {
     "end_time": "2017-12-24T05:37:44.452564Z",
     "start_time": "2017-12-24T05:37:44.054235Z"
    }
   },
   "outputs": [
    {
     "data": {
      "text/html": [
       "\n",
       "<div class=\"bk-root\">\n",
       "    <div class=\"bk-plotdiv\" id=\"848b4196-768d-41b8-b281-803ebddf3b5a\"></div>\n",
       "</div>"
      ]
     },
     "metadata": {},
     "output_type": "display_data"
    },
    {
     "data": {
      "application/javascript": [
       "(function(root) {\n",
       "  function embed_document(root) {\n",
       "    var docs_json = {\"8a49c0b5-8200-480b-8c37-9f83bec3ca93\":{\"roots\":{\"references\":[{\"attributes\":{\"callback\":null},\"id\":\"9ee6b94d-b8cc-4c85-a30b-34f024a8f540\",\"type\":\"DataRange1d\"},{\"attributes\":{\"active_drag\":\"auto\",\"active_inspect\":\"auto\",\"active_scroll\":\"auto\",\"active_tap\":\"auto\",\"tools\":[{\"id\":\"fd6f29e5-b686-4127-9a03-46a2772978a4\",\"type\":\"PanTool\"},{\"id\":\"5739ede8-4399-4689-9023-5e79f841d8f7\",\"type\":\"WheelZoomTool\"},{\"id\":\"7d18a506-13c5-4f90-abdf-4db985be432f\",\"type\":\"ResetTool\"},{\"id\":\"45cd2e3d-a81e-4b73-a939-67c508369389\",\"type\":\"SaveTool\"}]},\"id\":\"e5a775ea-4f59-42b9-951f-705f76c9d64b\",\"type\":\"Toolbar\"},{\"attributes\":{},\"id\":\"72636055-41e2-4637-8e1f-c8eee0bb291d\",\"type\":\"LinearScale\"},{\"attributes\":{\"source\":{\"id\":\"8b9f6dcd-704e-4da0-92f6-f705e667c806\",\"type\":\"ColumnDataSource\"}},\"id\":\"9098a08c-565f-4c36-9bb1-771ce1361134\",\"type\":\"CDSView\"},{\"attributes\":{\"formatter\":{\"id\":\"6b4c8a44-6694-4e94-bf4a-06748ee28b4b\",\"type\":\"BasicTickFormatter\"},\"plot\":{\"id\":\"0097cdbf-06dd-4950-9674-41f923a9965b\",\"subtype\":\"Figure\",\"type\":\"Plot\"},\"ticker\":{\"id\":\"6129800f-a94f-4386-8218-1bd882dfbcff\",\"type\":\"BasicTicker\"}},\"id\":\"1b92b4c1-bb2a-4061-9dbd-7ab84d865afd\",\"type\":\"LinearAxis\"},{\"attributes\":{},\"id\":\"6129800f-a94f-4386-8218-1bd882dfbcff\",\"type\":\"BasicTicker\"},{\"attributes\":{\"plot\":{\"id\":\"0097cdbf-06dd-4950-9674-41f923a9965b\",\"subtype\":\"Figure\",\"type\":\"Plot\"},\"ticker\":{\"id\":\"6129800f-a94f-4386-8218-1bd882dfbcff\",\"type\":\"BasicTicker\"}},\"id\":\"d54c5454-4b3e-4d5e-88f2-2a466450d35a\",\"type\":\"Grid\"},{\"attributes\":{\"bottom\":{\"value\":0},\"fill_alpha\":{\"value\":0.1},\"fill_color\":{\"value\":\"#1f77b4\"},\"left\":{\"field\":\"left\"},\"line_alpha\":{\"value\":0.1},\"line_color\":{\"value\":\"#1f77b4\"},\"right\":{\"field\":\"right\"},\"top\":{\"field\":\"top\"}},\"id\":\"7a54e751-256b-4e24-b391-bc2e087032d7\",\"type\":\"Quad\"},{\"attributes\":{\"formatter\":{\"id\":\"3c9f1706-334a-4c8c-bccb-d3a420311063\",\"type\":\"BasicTickFormatter\"},\"plot\":{\"id\":\"0097cdbf-06dd-4950-9674-41f923a9965b\",\"subtype\":\"Figure\",\"type\":\"Plot\"},\"ticker\":{\"id\":\"46b6129e-88c0-42f9-a8b5-9134bb776808\",\"type\":\"BasicTicker\"}},\"id\":\"50432cb7-5c0e-44a9-ad22-b1c32287e7cc\",\"type\":\"LinearAxis\"},{\"attributes\":{},\"id\":\"46b6129e-88c0-42f9-a8b5-9134bb776808\",\"type\":\"BasicTicker\"},{\"attributes\":{\"dimension\":1,\"plot\":{\"id\":\"0097cdbf-06dd-4950-9674-41f923a9965b\",\"subtype\":\"Figure\",\"type\":\"Plot\"},\"ticker\":{\"id\":\"46b6129e-88c0-42f9-a8b5-9134bb776808\",\"type\":\"BasicTicker\"}},\"id\":\"bd46b3c3-a75b-4133-96a6-b4474c39ecd0\",\"type\":\"Grid\"},{\"attributes\":{\"callback\":null,\"column_names\":[\"left\",\"right\",\"top\"],\"data\":{\"left\":{\"__ndarray__\":\"AAAAAABAeUB7FK5H4VqjQHsUrkfhxrFAuB6F61HguUB7FK5H4fzAQJqZmZmZCcVAuB6F61EWyUDXo3A9CiPNQHsUrkfhl9BACtejcD2e0kCamZmZmaTUQClcj8L1qtZAuB6F61Gx2EBI4XoUrrfaQNejcD0KvtxAZ2ZmZmbE3kB7FK5HYWXgQMP1KFyPaOFACtejcL1r4kBSuB6F627jQJqZmZkZcuRA4XoUrkd15UApXI/CdXjmQHE9Cteje+dAuB6F69F+6EAAAAAAAILpQEjhehQuhepAkML1KFyI60DXo3A9iovsQB+F61G4ju1AZ2ZmZuaR7kCuR+F6FJXvQHsUrkchTPBAH4XrUbjN8EDD9ShcT0/xQGdmZmbm0PFACtejcH1S8kCuR+F6FNTyQFK4HoWrVfNA9ihcj0LX80CamZmZ2Vj0QD4K16Nw2vRA4XoUrgdc9UCF61G4nt31QClcj8I1X/ZAzczMzMzg9kBxPQrXY2L3QBWuR+H64/dAuB6F65Fl+EBcj8L1KOf4QAAAAADAaPlApHA9Clfq+UBI4XoU7mv6QOxRuB6F7fpAkML1KBxv+0AzMzMzs/D7QNejcD1KcvxAexSuR+Hz/EAfhetReHX9QMP1KFwP9/1AZ2ZmZqZ4/kAK16NwPfr+QK5H4XrUe/9AUrgehWv9/0B7FK5HgT8AQc3MzMxMgABBH4XrURjBAEFxPQrX4wEBQcP1KFyvQgFBFa5H4XqDAUFnZmZmRsQBQbgehesRBQJBCtejcN1FAkFcj8L1qIYCQa5H4Xp0xwJBAAAAAEAIA0FSuB6FC0kDQaRwPQrXiQNB9ihcj6LKA0FI4XoUbgsEQZqZmZk5TARB7FG4HgWNBEE+Ctej0M0EQZDC9SicDgVB4XoUrmdPBUEzMzMzM5AFQYXrUbj+0AVB16NwPcoRBkEpXI/ClVIGQXsUrkdhkwZBzczMzCzUBkEfhetR+BQHQXE9CtfDVQdBw/UoXI+WB0EVrkfhWtcHQWdmZmYmGAhBuB6F6/FYCEEK16NwvZkIQVyPwvWI2ghBrkfhelQbCUE=\",\"dtype\":\"float64\",\"shape\":[100]},\"right\":{\"__ndarray__\":\"exSuR+Fao0B7FK5H4caxQLgehetR4LlAexSuR+H8wECamZmZmQnFQLgehetRFslA16NwPQojzUB7FK5H4ZfQQArXo3A9ntJAmpmZmZmk1EApXI/C9arWQLgehetRsdhASOF6FK632kDXo3A9Cr7cQGdmZmZmxN5AexSuR2Fl4EDD9Shcj2jhQArXo3C9a+JAUrgehetu40CamZmZGXLkQOF6FK5HdeVAKVyPwnV45kBxPQrXo3vnQLgehevRfuhAAAAAAACC6UBI4XoULoXqQJDC9ShciOtA16NwPYqL7EAfhetRuI7tQGdmZmbmke5ArkfhehSV70B7FK5HIUzwQB+F61G4zfBAw/UoXE9P8UBnZmZm5tDxQArXo3B9UvJArkfhehTU8kBSuB6Fq1XzQPYoXI9C1/NAmpmZmdlY9EA+CtejcNr0QOF6FK4HXPVAhetRuJ7d9UApXI/CNV/2QM3MzMzM4PZAcT0K12Ni90AVrkfh+uP3QLgeheuRZfhAXI/C9Sjn+EAAAAAAwGj5QKRwPQpX6vlASOF6FO5r+kDsUbgehe36QJDC9Sgcb/tAMzMzM7Pw+0DXo3A9SnL8QHsUrkfh8/xAH4XrUXh1/UDD9ShcD/f9QGdmZmameP5ACtejcD36/kCuR+F61Hv/QFK4HoVr/f9AexSuR4E/AEHNzMzMTIAAQR+F61EYwQBBcT0K1+MBAUHD9Shcr0IBQRWuR+F6gwFBZ2ZmZkbEAUG4HoXrEQUCQQrXo3DdRQJBXI/C9aiGAkGuR+F6dMcCQQAAAABACANBUrgehQtJA0GkcD0K14kDQfYoXI+iygNBSOF6FG4LBEGamZmZOUwEQexRuB4FjQRBPgrXo9DNBEGQwvUonA4FQeF6FK5nTwVBMzMzMzOQBUGF61G4/tAFQdejcD3KEQZBKVyPwpVSBkF7FK5HYZMGQc3MzMws1AZBH4XrUfgUB0FxPQrXw1UHQcP1KFyPlgdBFa5H4VrXB0FnZmZmJhgIQbgehevxWAhBCtejcL2ZCEFcj8L1iNoIQa5H4XpUGwlBAAAAACBcCUE=\",\"dtype\":\"float64\",\"shape\":[100]},\"top\":{\"__ndarray__\":\"50H1zNSBOT/ypb1tgHIBPwsriUb5Uew+zuTFiLI04j78kGUPxTHhPh40R25oQNY+zuTFiLI00j4pPQWW1y7APsTbB2FDRsg+JT0FltcuwD4tPQWW1y6wPi09BZbXLrA+JT0FltcuwD4tPQWW1y6gPiU9BZbXLrA+LT0FltcuoD4AAAAAAAAAADU9BZbXLqA+AAAAAAAAAAAAAAAAAAAAAAAAAAAAAAAAAAAAAAAAAAAAAAAAAAAAADU9BZbXLqA+AAAAAAAAAAAAAAAAAAAAAAAAAAAAAAAANT0FltcuoD4AAAAAAAAAAAAAAAAAAAAANT0FltcuoD4AAAAAAAAAACU9BZbXLqA+AAAAAAAAAAAlPQWW1y6gPkU9BZbXLqA+AAAAAAAAAAAlPQWW1y6gPgAAAAAAAAAAJT0FltcuoD4AAAAAAAAAAAAAAAAAAAAAAAAAAAAAAAAAAAAAAAAAAAAAAAAAAAAAJT0FltcuoD4AAAAAAAAAAAAAAAAAAAAAAAAAAAAAAAAAAAAAAAAAACU9BZbXLqA+AAAAAAAAAAAAAAAAAAAAAAAAAAAAAAAAAAAAAAAAAAAlPQWW1y6gPgAAAAAAAAAAAAAAAAAAAAAAAAAAAAAAAAAAAAAAAAAART0FltcuoD4AAAAAAAAAAAAAAAAAAAAAAAAAAAAAAAAAAAAAAAAAAAAAAAAAAAAAAAAAAAAAAAAAAAAAAAAAAAAAAAAAAAAAAAAAAAAAAAAAAAAAAAAAACU9BZbXLqA+AAAAAAAAAAAAAAAAAAAAAAAAAAAAAAAAAAAAAAAAAAAAAAAAAAAAAAAAAAAAAAAAAAAAAAAAAAAAAAAAAAAAAAAAAAAAAAAAAAAAAAAAAAAAAAAAAAAAAAAAAAAAAAAAAAAAAAAAAAAAAAAAAAAAAAAAAAAAAAAAAAAAAAAAAAAAAAAAAAAAAAAAAAAAAAAAAAAAAAAAAAAAAAAAAAAAAAAAAAAAAAAAAAAAAAAAAAAAAAAAAAAAAAAAAAAAAAAAAAAAAAAAAAAAAAAAAAAAAAAAAAAAAAAAJT0FltcuoD4=\",\"dtype\":\"float64\",\"shape\":[100]}}},\"id\":\"8b9f6dcd-704e-4da0-92f6-f705e667c806\",\"type\":\"ColumnDataSource\"},{\"attributes\":{},\"id\":\"fd6f29e5-b686-4127-9a03-46a2772978a4\",\"type\":\"PanTool\"},{\"attributes\":{\"below\":[{\"id\":\"1b92b4c1-bb2a-4061-9dbd-7ab84d865afd\",\"type\":\"LinearAxis\"}],\"left\":[{\"id\":\"50432cb7-5c0e-44a9-ad22-b1c32287e7cc\",\"type\":\"LinearAxis\"}],\"renderers\":[{\"id\":\"1b92b4c1-bb2a-4061-9dbd-7ab84d865afd\",\"type\":\"LinearAxis\"},{\"id\":\"d54c5454-4b3e-4d5e-88f2-2a466450d35a\",\"type\":\"Grid\"},{\"id\":\"50432cb7-5c0e-44a9-ad22-b1c32287e7cc\",\"type\":\"LinearAxis\"},{\"id\":\"bd46b3c3-a75b-4133-96a6-b4474c39ecd0\",\"type\":\"Grid\"},{\"id\":\"367be4c8-5437-453c-ba5a-38950945b153\",\"type\":\"GlyphRenderer\"}],\"title\":{\"id\":\"093c20cd-bb8f-4348-a051-8486e98184f9\",\"type\":\"Title\"},\"toolbar\":{\"id\":\"e5a775ea-4f59-42b9-951f-705f76c9d64b\",\"type\":\"Toolbar\"},\"toolbar_location\":\"above\",\"x_range\":{\"id\":\"a3b77cd2-ffc0-466a-8ef4-1aa24d891479\",\"type\":\"DataRange1d\"},\"x_scale\":{\"id\":\"5137bf3d-ffda-4888-a6de-1a996f78c3b4\",\"type\":\"LinearScale\"},\"y_range\":{\"id\":\"9ee6b94d-b8cc-4c85-a30b-34f024a8f540\",\"type\":\"DataRange1d\"},\"y_scale\":{\"id\":\"72636055-41e2-4637-8e1f-c8eee0bb291d\",\"type\":\"LinearScale\"}},\"id\":\"0097cdbf-06dd-4950-9674-41f923a9965b\",\"subtype\":\"Figure\",\"type\":\"Plot\"},{\"attributes\":{\"data_source\":{\"id\":\"8b9f6dcd-704e-4da0-92f6-f705e667c806\",\"type\":\"ColumnDataSource\"},\"glyph\":{\"id\":\"880bc0e7-1b5b-4863-a111-f16c9978017b\",\"type\":\"Quad\"},\"hover_glyph\":null,\"muted_glyph\":null,\"nonselection_glyph\":{\"id\":\"7a54e751-256b-4e24-b391-bc2e087032d7\",\"type\":\"Quad\"},\"selection_glyph\":null,\"view\":{\"id\":\"9098a08c-565f-4c36-9bb1-771ce1361134\",\"type\":\"CDSView\"}},\"id\":\"367be4c8-5437-453c-ba5a-38950945b153\",\"type\":\"GlyphRenderer\"},{\"attributes\":{},\"id\":\"3c9f1706-334a-4c8c-bccb-d3a420311063\",\"type\":\"BasicTickFormatter\"},{\"attributes\":{},\"id\":\"6b4c8a44-6694-4e94-bf4a-06748ee28b4b\",\"type\":\"BasicTickFormatter\"},{\"attributes\":{},\"id\":\"5739ede8-4399-4689-9023-5e79f841d8f7\",\"type\":\"WheelZoomTool\"},{\"attributes\":{\"plot\":null,\"text\":\"Top-1000 words distribution\"},\"id\":\"093c20cd-bb8f-4348-a051-8486e98184f9\",\"type\":\"Title\"},{\"attributes\":{},\"id\":\"7d18a506-13c5-4f90-abdf-4db985be432f\",\"type\":\"ResetTool\"},{\"attributes\":{\"callback\":null},\"id\":\"a3b77cd2-ffc0-466a-8ef4-1aa24d891479\",\"type\":\"DataRange1d\"},{\"attributes\":{},\"id\":\"45cd2e3d-a81e-4b73-a939-67c508369389\",\"type\":\"SaveTool\"},{\"attributes\":{\"bottom\":{\"value\":0},\"fill_color\":{\"value\":\"#1f77b4\"},\"left\":{\"field\":\"left\"},\"line_color\":{\"value\":\"#555555\"},\"right\":{\"field\":\"right\"},\"top\":{\"field\":\"top\"}},\"id\":\"880bc0e7-1b5b-4863-a111-f16c9978017b\",\"type\":\"Quad\"},{\"attributes\":{},\"id\":\"5137bf3d-ffda-4888-a6de-1a996f78c3b4\",\"type\":\"LinearScale\"}],\"root_ids\":[\"0097cdbf-06dd-4950-9674-41f923a9965b\"]},\"title\":\"Bokeh Application\",\"version\":\"0.12.10\"}};\n",
       "    var render_items = [{\"docid\":\"8a49c0b5-8200-480b-8c37-9f83bec3ca93\",\"elementid\":\"848b4196-768d-41b8-b281-803ebddf3b5a\",\"modelid\":\"0097cdbf-06dd-4950-9674-41f923a9965b\"}];\n",
       "\n",
       "    root.Bokeh.embed.embed_items(docs_json, render_items);\n",
       "  }\n",
       "\n",
       "  if (root.Bokeh !== undefined) {\n",
       "    embed_document(root);\n",
       "  } else {\n",
       "    var attempts = 0;\n",
       "    var timer = setInterval(function(root) {\n",
       "      if (root.Bokeh !== undefined) {\n",
       "        embed_document(root);\n",
       "        clearInterval(timer);\n",
       "      }\n",
       "      attempts++;\n",
       "      if (attempts > 100) {\n",
       "        console.log(\"Bokeh: ERROR: Unable to embed document because BokehJS library is missing\")\n",
       "        clearInterval(timer);\n",
       "      }\n",
       "    }, 10, root)\n",
       "  }\n",
       "})(window);"
      ],
      "application/vnd.bokehjs_exec.v0+json": ""
     },
     "metadata": {
      "application/vnd.bokehjs_exec.v0+json": {
       "id": "0097cdbf-06dd-4950-9674-41f923a9965b"
      }
     },
     "output_type": "display_data"
    }
   ],
   "source": [
    "hist, edges = np.histogram(counts_ted_top1000, density=True, bins=100, normed=True)\n",
    "\n",
    "p = figure(tools=\"pan,wheel_zoom,reset,save\",\n",
    "           toolbar_location=\"above\",\n",
    "           title=\"Top-1000 words distribution\")\n",
    "p.quad(top=hist, bottom=0, left=edges[:-1], right=edges[1:], line_color=\"#555555\")\n",
    "show(p)"
   ]
  },
  {
   "cell_type": "markdown",
   "metadata": {},
   "source": [
    "### Part 3: Train Word2Vec"
   ]
  },
  {
   "cell_type": "code",
   "execution_count": 24,
   "metadata": {
    "ExecuteTime": {
     "end_time": "2017-12-24T05:40:54.742064Z",
     "start_time": "2017-12-24T05:40:51.157408Z"
    }
   },
   "outputs": [
    {
     "name": "stderr",
     "output_type": "stream",
     "text": [
      "E:\\software\\anaconda\\lib\\site-packages\\gensim\\utils.py:860: UserWarning: detected Windows; aliasing chunkize to chunkize_serial\n",
      "  warnings.warn(\"detected Windows; aliasing chunkize to chunkize_serial\")\n"
     ]
    }
   ],
   "source": [
    "from gensim.models import Word2Vec"
   ]
  },
  {
   "cell_type": "code",
   "execution_count": 25,
   "metadata": {
    "ExecuteTime": {
     "end_time": "2017-12-24T05:43:05.127099Z",
     "start_time": "2017-12-24T05:42:55.805625Z"
    },
    "collapsed": true
   },
   "outputs": [],
   "source": [
    "model_ted = Word2Vec(sentences_ted, size=100, window=5, min_count=5, workers=4)"
   ]
  },
  {
   "cell_type": "markdown",
   "metadata": {},
   "source": [
    "### Part 4: Ted Learnt Representations\n",
    "Finding similar words: (see gensim docs for more functionality of most_similar)"
   ]
  },
  {
   "cell_type": "code",
   "execution_count": 26,
   "metadata": {
    "ExecuteTime": {
     "end_time": "2017-12-24T05:43:15.292532Z",
     "start_time": "2017-12-24T05:43:15.028462Z"
    }
   },
   "outputs": [
    {
     "name": "stderr",
     "output_type": "stream",
     "text": [
      "E:\\software\\anaconda\\lib\\site-packages\\ipykernel_launcher.py:1: DeprecationWarning: Call to deprecated `most_similar` (Method will be removed in 4.0.0, use self.wv.most_similar() instead).\n",
      "  \"\"\"Entry point for launching an IPython kernel.\n"
     ]
    },
    {
     "data": {
      "text/plain": [
       "[('woman', 0.8282467126846313),\n",
       " ('guy', 0.7929847240447998),\n",
       " ('lady', 0.7604687213897705),\n",
       " ('boy', 0.7457311153411865),\n",
       " ('girl', 0.7402995824813843),\n",
       " ('soldier', 0.724999189376831),\n",
       " ('poet', 0.7176022529602051),\n",
       " ('gentleman', 0.7118340134620667),\n",
       " ('kid', 0.6729626059532166),\n",
       " ('john', 0.6636587381362915)]"
      ]
     },
     "execution_count": 26,
     "metadata": {},
     "output_type": "execute_result"
    }
   ],
   "source": [
    "model_ted.most_similar(\"man\")"
   ]
  },
  {
   "cell_type": "code",
   "execution_count": 27,
   "metadata": {
    "ExecuteTime": {
     "end_time": "2017-12-24T05:43:27.691506Z",
     "start_time": "2017-12-24T05:43:27.684988Z"
    }
   },
   "outputs": [
    {
     "name": "stderr",
     "output_type": "stream",
     "text": [
      "E:\\software\\anaconda\\lib\\site-packages\\ipykernel_launcher.py:1: DeprecationWarning: Call to deprecated `most_similar` (Method will be removed in 4.0.0, use self.wv.most_similar() instead).\n",
      "  \"\"\"Entry point for launching an IPython kernel.\n"
     ]
    },
    {
     "data": {
      "text/plain": [
       "[('machine', 0.7459859848022461),\n",
       " ('software', 0.7353410720825195),\n",
       " ('robot', 0.6879939436912537),\n",
       " ('device', 0.6633172631263733),\n",
       " ('3d', 0.6586312651634216),\n",
       " ('program', 0.6487716436386108),\n",
       " ('video', 0.6450298428535461),\n",
       " ('circuit', 0.6373192667961121),\n",
       " ('printer', 0.6349138617515564),\n",
       " ('camera', 0.6334660649299622)]"
      ]
     },
     "execution_count": 27,
     "metadata": {},
     "output_type": "execute_result"
    }
   ],
   "source": [
    "model_ted.most_similar(\"computer\")"
   ]
  },
  {
   "cell_type": "markdown",
   "metadata": {},
   "source": [
    "### t-SNE visualization\n",
    "To use the t-SNE code below, first put a list of the top 1000 words (as strings) into a variable words_top_ted. The following code gets the corresponding vectors from the model, assuming it's called model_ted:"
   ]
  },
  {
   "cell_type": "code",
   "execution_count": 29,
   "metadata": {
    "ExecuteTime": {
     "end_time": "2017-12-24T05:45:10.148481Z",
     "start_time": "2017-12-24T05:45:10.141455Z"
    }
   },
   "outputs": [
    {
     "name": "stderr",
     "output_type": "stream",
     "text": [
      "E:\\software\\anaconda\\lib\\site-packages\\ipykernel_launcher.py:3: DeprecationWarning: Call to deprecated `__getitem__` (Method will be removed in 4.0.0, use self.wv.__getitem__() instead).\n",
      "  This is separate from the ipykernel package so we can avoid doing imports until\n"
     ]
    }
   ],
   "source": [
    "# This assumes words_top_ted is a list of strings, the top 1000 words\n",
    "words_top_ted = [x[0] for x in sorted_counts_ted[:1000]] \n",
    "words_top_vec_ted = model_ted[words_top_ted]"
   ]
  },
  {
   "cell_type": "code",
   "execution_count": 30,
   "metadata": {
    "ExecuteTime": {
     "end_time": "2017-12-24T05:45:44.568630Z",
     "start_time": "2017-12-24T05:45:18.140551Z"
    },
    "collapsed": true
   },
   "outputs": [],
   "source": [
    "from sklearn.manifold import TSNE\n",
    "tsne = TSNE(n_components=2, random_state=0)\n",
    "words_top_ted_tsne = tsne.fit_transform(words_top_vec_ted)"
   ]
  },
  {
   "cell_type": "code",
   "execution_count": 31,
   "metadata": {
    "ExecuteTime": {
     "end_time": "2017-12-24T05:45:44.616760Z",
     "start_time": "2017-12-24T05:45:44.569635Z"
    }
   },
   "outputs": [
    {
     "data": {
      "text/html": [
       "\n",
       "<div class=\"bk-root\">\n",
       "    <div class=\"bk-plotdiv\" id=\"3f22f165-1f0d-4497-b148-f707fd540344\"></div>\n",
       "</div>"
      ]
     },
     "metadata": {},
     "output_type": "display_data"
    },
    {
     "data": {
      "application/javascript": [
       "(function(root) {\n",
       "  function embed_document(root) {\n",
       "    var docs_json = {\"792593ea-9557-47d6-bf5f-24d402581160\":{\"roots\":{\"references\":[{\"attributes\":{},\"id\":\"9af4b61a-1833-47c2-9a72-023c39f1459e\",\"type\":\"ResetTool\"},{\"attributes\":{},\"id\":\"5a2423b5-6a09-4166-8f92-6b9dfca137b7\",\"type\":\"SaveTool\"},{\"attributes\":{},\"id\":\"61099462-f9ca-431c-b5b1-0cdffe491235\",\"type\":\"LinearScale\"},{\"attributes\":{\"callback\":null},\"id\":\"43baa8fd-e375-442a-bf02-f95639f8e8e6\",\"type\":\"DataRange1d\"},{\"attributes\":{},\"id\":\"22e3fb70-2354-4583-bf40-25621e649c08\",\"type\":\"LinearScale\"},{\"attributes\":{\"source\":{\"id\":\"b3f8d573-5c0f-4f98-a212-f70e25e6370a\",\"type\":\"ColumnDataSource\"}},\"id\":\"9132d2e9-391b-4c16-8fb2-390d96eb6c73\",\"type\":\"CDSView\"},{\"attributes\":{\"plot\":{\"id\":\"43fcbe57-700d-4586-a45a-f08816fdb2a0\",\"subtype\":\"Figure\",\"type\":\"Plot\"},\"ticker\":{\"id\":\"afbb0f7a-8b0f-4a6d-aaff-9f09bd960b2d\",\"type\":\"BasicTicker\"}},\"id\":\"1047db60-4dc9-400f-a6c4-8ccb4066e69e\",\"type\":\"Grid\"},{\"attributes\":{\"fill_alpha\":{\"value\":0.1},\"fill_color\":{\"value\":\"#1f77b4\"},\"line_alpha\":{\"value\":0.1},\"line_color\":{\"value\":\"#1f77b4\"},\"size\":{\"units\":\"screen\",\"value\":8},\"x\":{\"field\":\"x1\"},\"y\":{\"field\":\"x2\"}},\"id\":\"7d5b7a9b-a3e3-4d21-878c-e8a0f60f47bb\",\"type\":\"Circle\"},{\"attributes\":{\"formatter\":{\"id\":\"08a61baf-9604-4079-9f70-59fcf1bb7119\",\"type\":\"BasicTickFormatter\"},\"plot\":{\"id\":\"43fcbe57-700d-4586-a45a-f08816fdb2a0\",\"subtype\":\"Figure\",\"type\":\"Plot\"},\"ticker\":{\"id\":\"afbb0f7a-8b0f-4a6d-aaff-9f09bd960b2d\",\"type\":\"BasicTicker\"}},\"id\":\"11ec44f5-82ae-4b3b-9cfa-df25366d9304\",\"type\":\"LinearAxis\"},{\"attributes\":{},\"id\":\"1a260e6c-a537-4539-b9f9-6a58c4b4b306\",\"type\":\"BasicTickFormatter\"},{\"attributes\":{},\"id\":\"afbb0f7a-8b0f-4a6d-aaff-9f09bd960b2d\",\"type\":\"BasicTicker\"},{\"attributes\":{\"formatter\":{\"id\":\"1a260e6c-a537-4539-b9f9-6a58c4b4b306\",\"type\":\"BasicTickFormatter\"},\"plot\":{\"id\":\"43fcbe57-700d-4586-a45a-f08816fdb2a0\",\"subtype\":\"Figure\",\"type\":\"Plot\"},\"ticker\":{\"id\":\"d7e9ddba-a651-48eb-af4c-1900f7d5ba48\",\"type\":\"BasicTicker\"}},\"id\":\"47105785-21e7-4c27-8d33-f8f0bfd32e6b\",\"type\":\"LinearAxis\"},{\"attributes\":{},\"id\":\"d7e9ddba-a651-48eb-af4c-1900f7d5ba48\",\"type\":\"BasicTicker\"},{\"attributes\":{\"dimension\":1,\"plot\":{\"id\":\"43fcbe57-700d-4586-a45a-f08816fdb2a0\",\"subtype\":\"Figure\",\"type\":\"Plot\"},\"ticker\":{\"id\":\"d7e9ddba-a651-48eb-af4c-1900f7d5ba48\",\"type\":\"BasicTicker\"}},\"id\":\"f2b18d47-6dd3-44a9-a27c-82b8d23f8641\",\"type\":\"Grid\"},{\"attributes\":{\"fill_color\":{\"value\":\"#1f77b4\"},\"line_color\":{\"value\":\"#1f77b4\"},\"size\":{\"units\":\"screen\",\"value\":8},\"x\":{\"field\":\"x1\"},\"y\":{\"field\":\"x2\"}},\"id\":\"08f31f97-c249-4a17-a4f4-6fb39b1f8bf3\",\"type\":\"Circle\"},{\"attributes\":{},\"id\":\"08a61baf-9604-4079-9f70-59fcf1bb7119\",\"type\":\"BasicTickFormatter\"},{\"attributes\":{\"below\":[{\"id\":\"11ec44f5-82ae-4b3b-9cfa-df25366d9304\",\"type\":\"LinearAxis\"}],\"left\":[{\"id\":\"47105785-21e7-4c27-8d33-f8f0bfd32e6b\",\"type\":\"LinearAxis\"}],\"renderers\":[{\"id\":\"11ec44f5-82ae-4b3b-9cfa-df25366d9304\",\"type\":\"LinearAxis\"},{\"id\":\"1047db60-4dc9-400f-a6c4-8ccb4066e69e\",\"type\":\"Grid\"},{\"id\":\"47105785-21e7-4c27-8d33-f8f0bfd32e6b\",\"type\":\"LinearAxis\"},{\"id\":\"f2b18d47-6dd3-44a9-a27c-82b8d23f8641\",\"type\":\"Grid\"},{\"id\":\"24cc3b41-0e54-41df-8a03-eaf0e113f7f7\",\"type\":\"GlyphRenderer\"},{\"id\":\"544ac3fe-6716-4086-8739-18d8c7453f17\",\"type\":\"LabelSet\"}],\"title\":{\"id\":\"1654f40b-c2ad-4114-ae07-64c66d1a02fd\",\"type\":\"Title\"},\"toolbar\":{\"id\":\"da272a38-2bb6-4e50-9015-58ee044abc20\",\"type\":\"Toolbar\"},\"toolbar_location\":\"above\",\"x_range\":{\"id\":\"cd7c448c-0d70-41cb-bb98-5700e4cc597c\",\"type\":\"DataRange1d\"},\"x_scale\":{\"id\":\"61099462-f9ca-431c-b5b1-0cdffe491235\",\"type\":\"LinearScale\"},\"y_range\":{\"id\":\"43baa8fd-e375-442a-bf02-f95639f8e8e6\",\"type\":\"DataRange1d\"},\"y_scale\":{\"id\":\"22e3fb70-2354-4583-bf40-25621e649c08\",\"type\":\"LinearScale\"}},\"id\":\"43fcbe57-700d-4586-a45a-f08816fdb2a0\",\"subtype\":\"Figure\",\"type\":\"Plot\"},{\"attributes\":{\"callback\":null,\"column_names\":[\"x1\",\"x2\",\"names\"],\"data\":{\"names\":[\"the\",\"and\",\"to\",\"of\",\"a\",\"that\",\"i\",\"in\",\"it\",\"you\",\"we\",\"is\",\"s\",\"this\",\"so\",\"they\",\"was\",\"for\",\"are\",\"have\",\"but\",\"what\",\"on\",\"with\",\"can\",\"t\",\"about\",\"there\",\"be\",\"as\",\"at\",\"all\",\"not\",\"do\",\"my\",\"one\",\"re\",\"people\",\"like\",\"if\",\"from\",\"now\",\"our\",\"he\",\"an\",\"just\",\"these\",\"or\",\"when\",\"because\",\"very\",\"me\",\"out\",\"by\",\"them\",\"how\",\"know\",\"up\",\"going\",\"had\",\"more\",\"think\",\"who\",\"were\",\"see\",\"your\",\"their\",\"which\",\"would\",\"here\",\"really\",\"get\",\"ve\",\"then\",\"m\",\"world\",\"us\",\"time\",\"some\",\"has\",\"don\",\"actually\",\"into\",\"way\",\"where\",\"will\",\"years\",\"things\",\"other\",\"no\",\"could\",\"go\",\"well\",\"want\",\"been\",\"make\",\"right\",\"she\",\"said\",\"something\",\"those\",\"first\",\"two\",\"than\",\"much\",\"also\",\"look\",\"new\",\"thing\",\"little\",\"got\",\"back\",\"over\",\"most\",\"say\",\"even\",\"his\",\"life\",\"only\",\"work\",\"many\",\"take\",\"need\",\"did\",\"lot\",\"kind\",\"why\",\"good\",\"around\",\"every\",\"different\",\"down\",\"ll\",\"let\",\"her\",\"through\",\"same\",\"being\",\"come\",\"d\",\"day\",\"year\",\"three\",\"use\",\"doing\",\"put\",\"called\",\"any\",\"today\",\"percent\",\"made\",\"after\",\"thank\",\"tell\",\"great\",\"human\",\"find\",\"didn\",\"fact\",\"talk\",\"change\",\"started\",\"another\",\"idea\",\"big\",\"last\",\"own\",\"before\",\"its\",\"never\",\"should\",\"better\",\"give\",\"thought\",\"went\",\"might\",\"important\",\"000\",\"again\",\"together\",\"able\",\"still\",\"problem\",\"off\",\"next\",\"part\",\"course\",\"system\",\"him\",\"does\",\"each\",\"start\",\"show\",\"long\",\"ago\",\"story\",\"came\",\"brain\",\"few\",\"bit\",\"between\",\"used\",\"place\",\"technology\",\"women\",\"too\",\"old\",\"mean\",\"data\",\"water\",\"looking\",\"question\",\"maybe\",\"found\",\"love\",\"doesn\",\"end\",\"example\",\"10\",\"done\",\"point\",\"four\",\"real\",\"wanted\",\"ever\",\"understand\",\"school\",\"sort\",\"live\",\"call\",\"whole\",\"always\",\"children\",\"trying\",\"may\",\"person\",\"away\",\"feel\",\"believe\",\"try\",\"million\",\"working\",\"help\",\"everything\",\"five\",\"country\",\"thinking\",\"second\",\"using\",\"information\",\"money\",\"means\",\"took\",\"power\",\"times\",\"high\",\"space\",\"number\",\"kids\",\"home\",\"become\",\"create\",\"small\",\"design\",\"making\",\"best\",\"left\",\"getting\",\"future\",\"enough\",\"man\",\"quite\",\"city\",\"without\",\"sense\",\"happened\",\"comes\",\"social\",\"probably\",\"light\",\"less\",\"energy\",\"talking\",\"am\",\"building\",\"science\",\"food\",\"body\",\"told\",\"interesting\",\"half\",\"ask\",\"pretty\",\"play\",\"hard\",\"anything\",\"lives\",\"countries\",\"such\",\"coming\",\"family\",\"stuff\",\"dollars\",\"moment\",\"earth\",\"20\",\"imagine\",\"across\",\"side\",\"saw\",\"while\",\"happen\",\"okay\",\"once\",\"build\",\"having\",\"men\",\"later\",\"experience\",\"asked\",\"makes\",\"living\",\"says\",\"seen\",\"room\",\"hand\",\"simple\",\"health\",\"ways\",\"else\",\"case\",\"almost\",\"yet\",\"young\",\"days\",\"nothing\",\"bad\",\"care\",\"happens\",\"goes\",\"move\",\"states\",\"reason\",\"computer\",\"open\",\"africa\",\"learn\",\"process\",\"inside\",\"someone\",\"six\",\"far\",\"project\",\"mind\",\"remember\",\"single\",\"picture\",\"both\",\"whether\",\"problems\",\"basically\",\"community\",\"saying\",\"already\",\"within\",\"looked\",\"myself\",\"billion\",\"possible\",\"often\",\"business\",\"planet\",\"global\",\"top\",\"everybody\",\"public\",\"sure\",\"set\",\"wrong\",\"book\",\"car\",\"keep\",\"answer\",\"yes\",\"oh\",\"sometimes\",\"hope\",\"history\",\"true\",\"war\",\"child\",\"guy\",\"instead\",\"months\",\"ideas\",\"looks\",\"matter\",\"government\",\"amazing\",\"united\",\"since\",\"cells\",\"age\",\"bring\",\"job\",\"heard\",\"until\",\"face\",\"wasn\",\"100\",\"read\",\"control\",\"isn\",\"research\",\"30\",\"words\",\"u\",\"group\",\"under\",\"self\",\"somebody\",\"built\",\"state\",\"woman\",\"turn\",\"beautiful\",\"friends\",\"line\",\"knew\",\"couple\",\"order\",\"form\",\"yeah\",\"internet\",\"middle\",\"music\",\"piece\",\"nature\",\"head\",\"though\",\"stop\",\"everyone\",\"50\",\"places\",\"video\",\"language\",\"learned\",\"run\",\"night\",\"decided\",\"word\",\"study\",\"cancer\",\"works\",\"taking\",\"became\",\"exactly\",\"species\",\"completely\",\"society\",\"education\",\"against\",\"stories\",\"large\",\"share\",\"level\",\"heart\",\"america\",\"model\",\"gets\",\"questions\",\"mother\",\"god\",\"company\",\"turns\",\"ourselves\",\"happening\",\"art\",\"hear\",\"themselves\",\"must\",\"itself\",\"kinds\",\"rather\",\"students\",\"name\",\"hours\",\"disease\",\"front\",\"house\",\"couldn\",\"huge\",\"created\",\"universe\",\"ok\",\"animals\",\"american\",\"environment\",\"worked\",\"minutes\",\"ones\",\"black\",\"1\",\"perhaps\",\"past\",\"third\",\"along\",\"finally\",\"others\",\"early\",\"sound\",\"game\",\"thousands\",\"century\",\"least\",\"based\",\"per\",\"ted\",\"lots\",\"figure\",\"free\",\"particular\",\"guys\",\"happy\",\"news\",\"learning\",\"entire\",\"won\",\"gave\",\"india\",\"machine\",\"during\",\"systems\",\"air\",\"difference\",\"outside\",\"taken\",\"natural\",\"seven\",\"changed\",\"given\",\"leave\",\"cell\",\"15\",\"close\",\"cities\",\"behind\",\"full\",\"scale\",\"china\",\"difficult\",\"takes\",\"companies\",\"area\",\"yourself\",\"reality\",\"seeing\",\"easy\",\"turned\",\"cost\",\"eyes\",\"moving\",\"team\",\"population\",\"culture\",\"york\",\"hands\",\"began\",\"whatever\",\"terms\",\"needs\",\"image\",\"needed\",\"simply\",\"beginning\",\"father\",\"local\",\"realized\",\"media\",\"parents\",\"death\",\"walk\",\"view\",\"white\",\"market\",\"parts\",\"ocean\",\"eight\",\"economic\",\"powerful\",\"week\",\"known\",\"size\",\"felt\",\"humans\",\"certain\",\"spend\",\"longer\",\"phone\",\"wonderful\",\"cannot\",\"common\",\"grow\",\"tried\",\"center\",\"fish\",\"land\",\"oil\",\"deal\",\"interested\",\"political\",\"red\",\"gone\",\"amount\",\"weeks\",\"opportunity\",\"spent\",\"lost\",\"paper\",\"quickly\",\"national\",\"blue\",\"step\",\"poor\",\"green\",\"buy\",\"wouldn\",\"growth\",\"either\",\"patients\",\"sitting\",\"ability\",\"changes\",\"write\",\"south\",\"challenge\",\"low\",\"friend\",\"growing\",\"field\",\"2\",\"shows\",\"rest\",\"born\",\"climate\",\"40\",\"test\",\"street\",\"incredible\",\"surface\",\"average\",\"value\",\"pay\",\"program\",\"scientists\",\"morning\",\"physical\",\"behavior\",\"met\",\"girl\",\"hundreds\",\"feeling\",\"economy\",\"dna\",\"complex\",\"access\",\"risk\",\"animal\",\"structure\",\"feet\",\"attention\",\"anyone\",\"areas\",\"deep\",\"watch\",\"short\",\"absolutely\",\"brought\",\"speak\",\"bottom\",\"die\",\"audience\",\"numbers\",\"stage\",\"realize\",\"images\",\"law\",\"wrote\",\"understanding\",\"books\",\"literally\",\"knowledge\",\"movement\",\"giving\",\"ground\",\"eat\",\"force\",\"alone\",\"seems\",\"telling\",\"hold\",\"starting\",\"nice\",\"sea\",\"forward\",\"developed\",\"kid\",\"individual\",\"millions\",\"support\",\"running\",\"tools\",\"miles\",\"online\",\"result\",\"technologies\",\"medical\",\"act\",\"north\",\"development\",\"lab\",\"blood\",\"fear\",\"map\",\"nobody\",\"personal\",\"voice\",\"issue\",\"key\",\"material\",\"recently\",\"12\",\"theory\",\"cut\",\"cars\",\"fast\",\"sun\",\"changing\",\"clear\",\"playing\",\"especially\",\"patient\",\"girls\",\"soon\",\"fly\",\"choice\",\"creating\",\"relationship\",\"talked\",\"europe\",\"discovered\",\"normal\",\"gives\",\"generation\",\"dark\",\"showed\",\"type\",\"asking\",\"industry\",\"seem\",\"chance\",\"rate\",\"hour\",\"designed\",\"color\",\"issues\",\"fun\",\"computers\",\"class\",\"several\",\"innovation\",\"university\",\"tiny\",\"english\",\"focus\",\"save\",\"allow\",\"developing\",\"solve\",\"digital\",\"film\",\"network\",\"special\",\"wall\",\"baby\",\"situation\",\"solution\",\"knows\",\"box\",\"reasons\",\"stand\",\"dead\",\"meet\",\"anybody\",\"impact\",\"haven\",\"begin\",\"term\",\"pictures\",\"beyond\",\"please\",\"produce\",\"ice\",\"shape\",\"non\",\"cool\",\"robot\",\"resources\",\"stay\",\"likely\",\"groups\",\"major\",\"rights\",\"truth\",\"available\",\"experiment\",\"writing\",\"obviously\",\"evidence\",\"cause\",\"drug\",\"modern\",\"incredibly\",\"becomes\",\"guess\",\"bigger\",\"aren\",\"drugs\",\"product\",\"nine\",\"lived\",\"involved\",\"month\",\"google\",\"perfect\",\"putting\",\"similar\",\"effect\",\"pick\",\"eye\",\"message\",\"web\",\"violence\",\"quality\",\"office\",\"security\",\"evolution\",\"general\",\"indeed\",\"solar\",\"basic\",\"towards\",\"drive\",\"present\",\"worth\",\"listen\",\"send\",\"revolution\",\"hundred\",\"explain\",\"died\",\"certainly\",\"teach\",\"ready\",\"25\",\"journey\",\"walking\",\"hit\",\"led\",\"international\",\"approach\",\"200\",\"games\",\"scientific\",\"chinese\",\"communities\",\"crazy\",\"potential\",\"60\",\"device\",\"camera\",\"source\",\"carbon\",\"sex\",\"rules\",\"sounds\",\"boy\",\"reach\",\"starts\",\"west\",\"examples\",\"3\",\"software\",\"particularly\",\"measure\",\"success\",\"totally\",\"suddenly\",\"action\",\"higher\",\"college\",\"code\",\"eventually\",\"democracy\",\"sit\",\"minute\",\"among\",\"largest\",\"hospital\",\"showing\",\"period\",\"notice\",\"develop\",\"mass\",\"onto\",\"dream\",\"memory\",\"add\",\"break\",\"plants\",\"zero\",\"11\",\"favorite\",\"everywhere\",\"response\",\"moved\",\"schools\",\"speed\",\"wants\",\"wait\",\"table\",\"individuals\",\"movie\",\"extremely\",\"trust\",\"anyway\",\"follow\",\"medicine\",\"biggest\",\"plant\",\"organization\",\"watching\",\"road\",\"creative\",\"worse\",\"choose\",\"500\",\"results\",\"lead\",\"exciting\",\"materials\",\"grew\",\"jobs\",\"positive\",\"poverty\",\"east\",\"plan\",\"fall\",\"strong\",\"safe\",\"essentially\",\"door\",\"object\",\"continue\",\"happiness\",\"further\",\"vision\",\"son\",\"doctor\",\"student\",\"objects\",\"role\",\"named\",\"including\",\"extraordinary\",\"standing\",\"projects\",\"conversation\",\"african\",\"usually\",\"leaders\",\"skin\",\"models\",\"allowed\",\"supposed\",\"interest\",\"faster\",\"fight\",\"police\",\"families\",\"connected\",\"tree\",\"cases\",\"5\",\"screen\",\"somewhere\",\"goal\",\"shown\",\"buildings\",\"finding\"],\"x1\":{\"__ndarray__\":\"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\",\"dtype\":\"float32\",\"shape\":[1000]},\"x2\":{\"__ndarray__\":\"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\",\"dtype\":\"float32\",\"shape\":[1000]}}},\"id\":\"b3f8d573-5c0f-4f98-a212-f70e25e6370a\",\"type\":\"ColumnDataSource\"},{\"attributes\":{\"data_source\":{\"id\":\"b3f8d573-5c0f-4f98-a212-f70e25e6370a\",\"type\":\"ColumnDataSource\"},\"glyph\":{\"id\":\"08f31f97-c249-4a17-a4f4-6fb39b1f8bf3\",\"type\":\"Circle\"},\"hover_glyph\":null,\"muted_glyph\":null,\"nonselection_glyph\":{\"id\":\"7d5b7a9b-a3e3-4d21-878c-e8a0f60f47bb\",\"type\":\"Circle\"},\"selection_glyph\":null,\"view\":{\"id\":\"9132d2e9-391b-4c16-8fb2-390d96eb6c73\",\"type\":\"CDSView\"}},\"id\":\"24cc3b41-0e54-41df-8a03-eaf0e113f7f7\",\"type\":\"GlyphRenderer\"},{\"attributes\":{},\"id\":\"0b17e91d-21b7-4325-8e02-16138422ba08\",\"type\":\"PanTool\"},{\"attributes\":{\"plot\":null,\"text\":\"word2vec T-SNE for most common words\"},\"id\":\"1654f40b-c2ad-4114-ae07-64c66d1a02fd\",\"type\":\"Title\"},{\"attributes\":{\"callback\":null},\"id\":\"cd7c448c-0d70-41cb-bb98-5700e4cc597c\",\"type\":\"DataRange1d\"},{\"attributes\":{\"plot\":{\"id\":\"43fcbe57-700d-4586-a45a-f08816fdb2a0\",\"subtype\":\"Figure\",\"type\":\"Plot\"},\"source\":{\"id\":\"b3f8d573-5c0f-4f98-a212-f70e25e6370a\",\"type\":\"ColumnDataSource\"},\"text\":{\"field\":\"names\"},\"text_align\":\"center\",\"text_color\":{\"value\":\"#555555\"},\"text_font_size\":{\"value\":\"8pt\"},\"x\":{\"field\":\"x1\"},\"y\":{\"field\":\"x2\"},\"y_offset\":{\"value\":6}},\"id\":\"544ac3fe-6716-4086-8739-18d8c7453f17\",\"type\":\"LabelSet\"},{\"attributes\":{},\"id\":\"92621de1-86e6-4b5c-a5b7-593a4c8e4718\",\"type\":\"WheelZoomTool\"},{\"attributes\":{\"active_drag\":\"auto\",\"active_inspect\":\"auto\",\"active_scroll\":\"auto\",\"active_tap\":\"auto\",\"tools\":[{\"id\":\"0b17e91d-21b7-4325-8e02-16138422ba08\",\"type\":\"PanTool\"},{\"id\":\"92621de1-86e6-4b5c-a5b7-593a4c8e4718\",\"type\":\"WheelZoomTool\"},{\"id\":\"9af4b61a-1833-47c2-9a72-023c39f1459e\",\"type\":\"ResetTool\"},{\"id\":\"5a2423b5-6a09-4166-8f92-6b9dfca137b7\",\"type\":\"SaveTool\"}]},\"id\":\"da272a38-2bb6-4e50-9015-58ee044abc20\",\"type\":\"Toolbar\"}],\"root_ids\":[\"43fcbe57-700d-4586-a45a-f08816fdb2a0\"]},\"title\":\"Bokeh Application\",\"version\":\"0.12.10\"}};\n",
       "    var render_items = [{\"docid\":\"792593ea-9557-47d6-bf5f-24d402581160\",\"elementid\":\"3f22f165-1f0d-4497-b148-f707fd540344\",\"modelid\":\"43fcbe57-700d-4586-a45a-f08816fdb2a0\"}];\n",
       "\n",
       "    root.Bokeh.embed.embed_items(docs_json, render_items);\n",
       "  }\n",
       "\n",
       "  if (root.Bokeh !== undefined) {\n",
       "    embed_document(root);\n",
       "  } else {\n",
       "    var attempts = 0;\n",
       "    var timer = setInterval(function(root) {\n",
       "      if (root.Bokeh !== undefined) {\n",
       "        embed_document(root);\n",
       "        clearInterval(timer);\n",
       "      }\n",
       "      attempts++;\n",
       "      if (attempts > 100) {\n",
       "        console.log(\"Bokeh: ERROR: Unable to embed document because BokehJS library is missing\")\n",
       "        clearInterval(timer);\n",
       "      }\n",
       "    }, 10, root)\n",
       "  }\n",
       "})(window);"
      ],
      "application/vnd.bokehjs_exec.v0+json": ""
     },
     "metadata": {
      "application/vnd.bokehjs_exec.v0+json": {
       "id": "43fcbe57-700d-4586-a45a-f08816fdb2a0"
      }
     },
     "output_type": "display_data"
    }
   ],
   "source": [
    "p = figure(tools=\"pan,wheel_zoom,reset,save\",\n",
    "           toolbar_location=\"above\",\n",
    "           title=\"word2vec T-SNE for most common words\")\n",
    "\n",
    "source = ColumnDataSource(data=dict(x1=words_top_ted_tsne[:,0],\n",
    "                                    x2=words_top_ted_tsne[:,1],\n",
    "                                    names=words_top_ted))\n",
    "\n",
    "p.scatter(x=\"x1\", y=\"x2\", size=8, source=source)\n",
    "\n",
    "labels = LabelSet(x=\"x1\", y=\"x2\", text=\"names\", y_offset=6,\n",
    "                  text_font_size=\"8pt\", text_color=\"#555555\",\n",
    "                  source=source, text_align='center')\n",
    "p.add_layout(labels)\n",
    "\n",
    "show(p)"
   ]
  },
  {
   "cell_type": "markdown",
   "metadata": {},
   "source": [
    "### Part 5: Wiki Learnt Representations"
   ]
  },
  {
   "cell_type": "code",
   "execution_count": 32,
   "metadata": {
    "ExecuteTime": {
     "end_time": "2017-12-24T05:47:55.049732Z",
     "start_time": "2017-12-24T05:47:28.684908Z"
    },
    "collapsed": true
   },
   "outputs": [],
   "source": [
    "if not os.path.isfile('wikitext-103-raw-v1.zip'):\n",
    "    urllib.request.urlretrieve(\"https://s3.amazonaws.com/research.metamind.io/wikitext/wikitext-103-raw-v1.zip\", filename=\"wikitext-103-raw-v1.zip\")"
   ]
  },
  {
   "cell_type": "code",
   "execution_count": 33,
   "metadata": {
    "ExecuteTime": {
     "end_time": "2017-12-24T05:47:58.599202Z",
     "start_time": "2017-12-24T05:47:55.051236Z"
    },
    "collapsed": true
   },
   "outputs": [],
   "source": [
    "with zipfile.ZipFile('wikitext-103-raw-v1.zip', 'r') as z:\n",
    "    input_text = str(z.open('wikitext-103-raw/wiki.train.raw', 'r').read(), encoding='utf-8') # Thanks Robert Bastian"
   ]
  },
  {
   "cell_type": "markdown",
   "metadata": {},
   "source": [
    "Preprocess sentences (note that it's important to remove small sentences for performance)"
   ]
  },
  {
   "cell_type": "code",
   "execution_count": 34,
   "metadata": {
    "ExecuteTime": {
     "end_time": "2017-12-24T05:49:17.678825Z",
     "start_time": "2017-12-24T05:48:35.013195Z"
    },
    "collapsed": true
   },
   "outputs": [],
   "source": [
    "sentences_wiki = []\n",
    "for line in input_text.split('\\n'):\n",
    "    s = [x for x in line.split('.') if x and len(x.split()) >= 5]\n",
    "    sentences_wiki.extend(s)\n",
    "    \n",
    "for s_i in range(len(sentences_wiki)):\n",
    "    sentences_wiki[s_i] = re.sub(\"[^a-z]\", \" \", sentences_wiki[s_i].lower())\n",
    "    sentences_wiki[s_i] = re.sub(r'\\([^)]*\\)', '', sentences_wiki[s_i])\n",
    "del input_text"
   ]
  },
  {
   "cell_type": "code",
   "execution_count": 35,
   "metadata": {
    "ExecuteTime": {
     "end_time": "2017-12-24T05:49:21.522545Z",
     "start_time": "2017-12-24T05:49:17.681834Z"
    }
   },
   "outputs": [
    {
     "name": "stdout",
     "output_type": "stream",
     "text": [
      "4267112\n",
      "853422\n"
     ]
    }
   ],
   "source": [
    "# sample 1/5 of the data\n",
    "shuffle(sentences_wiki)\n",
    "print(len(sentences_wiki))\n",
    "sentences_wiki = sentences_wiki[:int(len(sentences_wiki)/5)]\n",
    "print(len(sentences_wiki))"
   ]
  },
  {
   "cell_type": "code",
   "execution_count": 44,
   "metadata": {
    "ExecuteTime": {
     "end_time": "2017-12-24T05:55:36.480891Z",
     "start_time": "2017-12-24T05:55:36.476376Z"
    }
   },
   "outputs": [
    {
     "data": {
      "text/plain": [
       "[' rather than increasing the dollar amount   the mfp formula artificially increases the number of students it funds ',\n",
       " ' for this purpose   the judicial education board was set up to provide guidance   training programmes and workshops for members of the judiciary   and is supported by a training unit within the strategic planning and training division of the subordinate courts ',\n",
       " ' upon achieving a new level   the player receives a set of skill points that can be assigned to improve any of the skill percentages ',\n",
       " ' the rockets went         in nissalke  s last season as coach   and finished second in the central division   but they lost to atlanta in a best     of     three first round series ',\n",
       " ' talbot wrote a song called   building bridges     which she has performed live a number of times but is yet to be released commercially ']"
      ]
     },
     "execution_count": 44,
     "metadata": {},
     "output_type": "execute_result"
    }
   ],
   "source": [
    "sentences_wiki[:5]"
   ]
  },
  {
   "cell_type": "code",
   "execution_count": 45,
   "metadata": {
    "ExecuteTime": {
     "end_time": "2017-12-24T05:57:43.296045Z",
     "start_time": "2017-12-24T05:57:34.172791Z"
    },
    "collapsed": true
   },
   "outputs": [],
   "source": [
    "sentences_w = []\n",
    "for sent_str in sentences_wiki:\n",
    "    tokens = re.sub(r\"[^a-z0-9]+\", \" \", sent_str.lower()).split()\n",
    "    sentences_w.append(tokens)"
   ]
  },
  {
   "cell_type": "code",
   "execution_count": 46,
   "metadata": {
    "ExecuteTime": {
     "end_time": "2017-12-24T05:57:57.970118Z",
     "start_time": "2017-12-24T05:57:57.964079Z"
    }
   },
   "outputs": [
    {
     "name": "stdout",
     "output_type": "stream",
     "text": [
      "853422\n"
     ]
    },
    {
     "data": {
      "text/plain": [
       "[['rather',\n",
       "  'than',\n",
       "  'increasing',\n",
       "  'the',\n",
       "  'dollar',\n",
       "  'amount',\n",
       "  'the',\n",
       "  'mfp',\n",
       "  'formula',\n",
       "  'artificially',\n",
       "  'increases',\n",
       "  'the',\n",
       "  'number',\n",
       "  'of',\n",
       "  'students',\n",
       "  'it',\n",
       "  'funds'],\n",
       " ['for',\n",
       "  'this',\n",
       "  'purpose',\n",
       "  'the',\n",
       "  'judicial',\n",
       "  'education',\n",
       "  'board',\n",
       "  'was',\n",
       "  'set',\n",
       "  'up',\n",
       "  'to',\n",
       "  'provide',\n",
       "  'guidance',\n",
       "  'training',\n",
       "  'programmes',\n",
       "  'and',\n",
       "  'workshops',\n",
       "  'for',\n",
       "  'members',\n",
       "  'of',\n",
       "  'the',\n",
       "  'judiciary',\n",
       "  'and',\n",
       "  'is',\n",
       "  'supported',\n",
       "  'by',\n",
       "  'a',\n",
       "  'training',\n",
       "  'unit',\n",
       "  'within',\n",
       "  'the',\n",
       "  'strategic',\n",
       "  'planning',\n",
       "  'and',\n",
       "  'training',\n",
       "  'division',\n",
       "  'of',\n",
       "  'the',\n",
       "  'subordinate',\n",
       "  'courts'],\n",
       " ['upon',\n",
       "  'achieving',\n",
       "  'a',\n",
       "  'new',\n",
       "  'level',\n",
       "  'the',\n",
       "  'player',\n",
       "  'receives',\n",
       "  'a',\n",
       "  'set',\n",
       "  'of',\n",
       "  'skill',\n",
       "  'points',\n",
       "  'that',\n",
       "  'can',\n",
       "  'be',\n",
       "  'assigned',\n",
       "  'to',\n",
       "  'improve',\n",
       "  'any',\n",
       "  'of',\n",
       "  'the',\n",
       "  'skill',\n",
       "  'percentages'],\n",
       " ['the',\n",
       "  'rockets',\n",
       "  'went',\n",
       "  'in',\n",
       "  'nissalke',\n",
       "  's',\n",
       "  'last',\n",
       "  'season',\n",
       "  'as',\n",
       "  'coach',\n",
       "  'and',\n",
       "  'finished',\n",
       "  'second',\n",
       "  'in',\n",
       "  'the',\n",
       "  'central',\n",
       "  'division',\n",
       "  'but',\n",
       "  'they',\n",
       "  'lost',\n",
       "  'to',\n",
       "  'atlanta',\n",
       "  'in',\n",
       "  'a',\n",
       "  'best',\n",
       "  'of',\n",
       "  'three',\n",
       "  'first',\n",
       "  'round',\n",
       "  'series'],\n",
       " ['talbot',\n",
       "  'wrote',\n",
       "  'a',\n",
       "  'song',\n",
       "  'called',\n",
       "  'building',\n",
       "  'bridges',\n",
       "  'which',\n",
       "  'she',\n",
       "  'has',\n",
       "  'performed',\n",
       "  'live',\n",
       "  'a',\n",
       "  'number',\n",
       "  'of',\n",
       "  'times',\n",
       "  'but',\n",
       "  'is',\n",
       "  'yet',\n",
       "  'to',\n",
       "  'be',\n",
       "  'released',\n",
       "  'commercially']]"
      ]
     },
     "execution_count": 46,
     "metadata": {},
     "output_type": "execute_result"
    }
   ],
   "source": [
    "sentences_w[:5]"
   ]
  },
  {
   "cell_type": "markdown",
   "metadata": {},
   "source": [
    "Now, repeat all the same steps that you performed above. You should be able to reuse essentially all the code."
   ]
  },
  {
   "cell_type": "code",
   "execution_count": 47,
   "metadata": {
    "ExecuteTime": {
     "end_time": "2017-12-24T05:58:32.788030Z",
     "start_time": "2017-12-24T05:58:28.555720Z"
    },
    "collapsed": true
   },
   "outputs": [],
   "source": [
    "import operator\n",
    "\n",
    "counts_wiki = {} # dicitonary of word frequences pairs\n",
    "for sen in sentences_w:\n",
    "    for word in sen:\n",
    "        if word not in counts_wiki:\n",
    "            counts_wiki[word] = 0\n",
    "        counts_wiki[word] += 1\n",
    "\n",
    "sorted_counts_wiki = sorted(counts_wiki.items(), key=operator.itemgetter(1))\n",
    "sorted_counts_wiki.reverse()"
   ]
  },
  {
   "cell_type": "code",
   "execution_count": 48,
   "metadata": {
    "ExecuteTime": {
     "end_time": "2017-12-24T05:58:38.071979Z",
     "start_time": "2017-12-24T05:58:38.067991Z"
    }
   },
   "outputs": [
    {
     "data": {
      "text/plain": [
       "[('the', 1285863),\n",
       " ('of', 547862),\n",
       " ('and', 499960),\n",
       " ('in', 434288),\n",
       " ('to', 399153),\n",
       " ('a', 358455),\n",
       " ('was', 215523),\n",
       " ('s', 163703),\n",
       " ('on', 153607),\n",
       " ('as', 144542)]"
      ]
     },
     "execution_count": 48,
     "metadata": {},
     "output_type": "execute_result"
    }
   ],
   "source": [
    "sorted_counts_wiki[:10]"
   ]
  },
  {
   "cell_type": "code",
   "execution_count": 50,
   "metadata": {
    "ExecuteTime": {
     "end_time": "2017-12-24T05:59:52.190897Z",
     "start_time": "2017-12-24T05:59:04.180930Z"
    }
   },
   "outputs": [],
   "source": [
    "model_wiki = Word2Vec(sentences_w, size=100, window=5, min_count=5, workers=4)"
   ]
  },
  {
   "cell_type": "code",
   "execution_count": 51,
   "metadata": {
    "ExecuteTime": {
     "end_time": "2017-12-24T05:59:52.200422Z",
     "start_time": "2017-12-24T05:59:52.192903Z"
    }
   },
   "outputs": [
    {
     "name": "stderr",
     "output_type": "stream",
     "text": [
      "E:\\software\\anaconda\\lib\\site-packages\\ipykernel_launcher.py:2: DeprecationWarning: Call to deprecated `__getitem__` (Method will be removed in 4.0.0, use self.wv.__getitem__() instead).\n",
      "  \n"
     ]
    }
   ],
   "source": [
    "words_top_wiki = [x[0] for x in sorted_counts_wiki[:1000]] \n",
    "words_top_vec_wiki = model_wiki[words_top_wiki]"
   ]
  },
  {
   "cell_type": "code",
   "execution_count": 52,
   "metadata": {
    "ExecuteTime": {
     "end_time": "2017-12-24T05:59:52.274118Z",
     "start_time": "2017-12-24T05:59:52.201926Z"
    }
   },
   "outputs": [
    {
     "data": {
      "text/plain": [
       "['the', 'of', 'and', 'in', 'to', 'a', 'was', 's', 'on', 'as']"
      ]
     },
     "execution_count": 52,
     "metadata": {},
     "output_type": "execute_result"
    }
   ],
   "source": [
    "words_top_wiki[:10]"
   ]
  },
  {
   "cell_type": "code",
   "execution_count": 53,
   "metadata": {
    "ExecuteTime": {
     "end_time": "2017-12-24T06:00:25.241611Z",
     "start_time": "2017-12-24T06:00:03.172287Z"
    },
    "collapsed": true
   },
   "outputs": [],
   "source": [
    "tsne = TSNE(n_components=2, random_state=0)\n",
    "words_top_wiki_tsne = tsne.fit_transform(words_top_vec_wiki)"
   ]
  },
  {
   "cell_type": "code",
   "execution_count": 54,
   "metadata": {
    "ExecuteTime": {
     "end_time": "2017-12-24T06:00:25.293202Z",
     "start_time": "2017-12-24T06:00:25.243068Z"
    }
   },
   "outputs": [
    {
     "data": {
      "text/html": [
       "\n",
       "<div class=\"bk-root\">\n",
       "    <div class=\"bk-plotdiv\" id=\"7654b43a-005b-4e3a-a2a2-9b1c2915d360\"></div>\n",
       "</div>"
      ]
     },
     "metadata": {},
     "output_type": "display_data"
    },
    {
     "data": {
      "application/javascript": [
       "(function(root) {\n",
       "  function embed_document(root) {\n",
       "    var docs_json = {\"8aa2a395-ab09-4846-8b97-68557c6b1563\":{\"roots\":{\"references\":[{\"attributes\":{\"data_source\":{\"id\":\"59130611-f489-46c3-9db3-0fbc58303736\",\"type\":\"ColumnDataSource\"},\"glyph\":{\"id\":\"9a56ddcd-8712-4213-b5da-7119e8d7515a\",\"type\":\"Circle\"},\"hover_glyph\":null,\"muted_glyph\":null,\"nonselection_glyph\":{\"id\":\"39aff897-0260-4c5b-b9eb-0fba0a5c989e\",\"type\":\"Circle\"},\"selection_glyph\":null,\"view\":{\"id\":\"af0e22dc-ec87-43f4-ad28-766562afb798\",\"type\":\"CDSView\"}},\"id\":\"7329f8b5-d038-4e1a-815b-a293bcf334b5\",\"type\":\"GlyphRenderer\"},{\"attributes\":{},\"id\":\"3db9ee72-d4d0-4284-93f9-dd33ee312295\",\"type\":\"WheelZoomTool\"},{\"attributes\":{\"plot\":null,\"text\":\"word2vec T-SNE for most common words\"},\"id\":\"dbfab2e7-a746-438c-9c8d-ff7c0c37d930\",\"type\":\"Title\"},{\"attributes\":{},\"id\":\"8a19bf50-5298-407d-8c54-25657905a7c9\",\"type\":\"ResetTool\"},{\"attributes\":{\"callback\":null},\"id\":\"0c387f82-06e6-478c-9424-6882061dd340\",\"type\":\"DataRange1d\"},{\"attributes\":{},\"id\":\"1e911af2-3d93-4d13-be0c-80c06f7ff2f7\",\"type\":\"SaveTool\"},{\"attributes\":{\"active_drag\":\"auto\",\"active_inspect\":\"auto\",\"active_scroll\":\"auto\",\"active_tap\":\"auto\",\"tools\":[{\"id\":\"d0fe5b95-f532-428e-b72f-390cdb885d4c\",\"type\":\"PanTool\"},{\"id\":\"3db9ee72-d4d0-4284-93f9-dd33ee312295\",\"type\":\"WheelZoomTool\"},{\"id\":\"8a19bf50-5298-407d-8c54-25657905a7c9\",\"type\":\"ResetTool\"},{\"id\":\"1e911af2-3d93-4d13-be0c-80c06f7ff2f7\",\"type\":\"SaveTool\"}]},\"id\":\"60e532db-f68e-44a1-b8b9-4eebef50aa27\",\"type\":\"Toolbar\"},{\"attributes\":{\"fill_color\":{\"value\":\"#1f77b4\"},\"line_color\":{\"value\":\"#1f77b4\"},\"size\":{\"units\":\"screen\",\"value\":8},\"x\":{\"field\":\"x1\"},\"y\":{\"field\":\"x2\"}},\"id\":\"9a56ddcd-8712-4213-b5da-7119e8d7515a\",\"type\":\"Circle\"},{\"attributes\":{\"callback\":null,\"column_names\":[\"x1\",\"x2\",\"names\"],\"data\":{\"names\":[\"the\",\"of\",\"and\",\"in\",\"to\",\"a\",\"was\",\"s\",\"on\",\"as\",\"for\",\"that\",\"with\",\"by\",\"is\",\"his\",\"at\",\"he\",\"it\",\"from\",\"were\",\"an\",\"had\",\"which\",\"be\",\"this\",\"but\",\"are\",\"first\",\"not\",\"their\",\"after\",\"her\",\"one\",\"also\",\"its\",\"they\",\"two\",\"have\",\"or\",\"who\",\"new\",\"been\",\"has\",\"she\",\"when\",\"during\",\"time\",\"other\",\"would\",\"into\",\"all\",\"i\",\"more\",\"while\",\"over\",\"him\",\"only\",\"later\",\"game\",\"most\",\"up\",\"out\",\"three\",\"about\",\"between\",\"th\",\"than\",\"there\",\"some\",\"film\",\"may\",\"before\",\"year\",\"no\",\"made\",\"such\",\"second\",\"season\",\"where\",\"war\",\"years\",\"world\",\"both\",\"then\",\"used\",\"through\",\"however\",\"song\",\"them\",\"being\",\"against\",\"these\",\"series\",\"many\",\"m\",\"album\",\"team\",\"number\",\"city\",\"north\",\"part\",\"including\",\"became\",\"several\",\"united\",\"well\",\"four\",\"can\",\"early\",\"state\",\"under\",\"music\",\"south\",\"so\",\"episode\",\"day\",\"states\",\"said\",\"following\",\"american\",\"although\",\"known\",\"work\",\"did\",\"could\",\"until\",\"began\",\"released\",\"because\",\"called\",\"like\",\"t\",\"people\",\"high\",\"end\",\"british\",\"since\",\"around\",\"each\",\"long\",\"september\",\"national\",\"life\",\"found\",\"same\",\"if\",\"best\",\"another\",\"west\",\"us\",\"million\",\"along\",\"back\",\"five\",\"show\",\"you\",\"any\",\"took\",\"km\",\"area\",\"group\",\"final\",\"use\",\"received\",\"off\",\"august\",\"due\",\"century\",\"what\",\"school\",\"will\",\"john\",\"october\",\"line\",\"government\",\"june\",\"east\",\"november\",\"july\",\"games\",\"single\",\"march\",\"home\",\"system\",\"much\",\"third\",\"april\",\"general\",\"major\",\"family\",\"set\",\"down\",\"york\",\"based\",\"large\",\"left\",\"army\",\"place\",\"house\",\"just\",\"we\",\"history\",\"included\",\"six\",\"january\",\"road\",\"character\",\"name\",\"company\",\"played\",\"december\",\"band\",\"now\",\"king\",\"death\",\"won\",\"led\",\"wrote\",\"own\",\"described\",\"those\",\"near\",\"main\",\"men\",\"last\",\"according\",\"d\",\"video\",\"named\",\"river\",\"battle\",\"st\",\"times\",\"record\",\"release\",\"way\",\"next\",\"within\",\"top\",\"original\",\"late\",\"de\",\"air\",\"still\",\"route\",\"species\",\"make\",\"very\",\"league\",\"production\",\"great\",\"even\",\"u\",\"storm\",\"february\",\"man\",\"small\",\"ship\",\"again\",\"club\",\"public\",\"old\",\"force\",\"though\",\"built\",\"days\",\"among\",\"b\",\"division\",\"further\",\"play\",\"having\",\"held\",\"service\",\"book\",\"german\",\"do\",\"role\",\"story\",\"french\",\"university\",\"side\",\"power\",\"white\",\"water\",\"members\",\"continued\",\"h\",\"match\",\"often\",\"player\",\"point\",\"park\",\"local\",\"despite\",\"black\",\"order\",\"came\",\"career\",\"england\",\"former\",\"town\",\"without\",\"take\",\"songs\",\"considered\",\"county\",\"half\",\"party\",\"form\",\"few\",\"support\",\"become\",\"military\",\"different\",\"version\",\"written\",\"development\",\"period\",\"c\",\"forces\",\"island\",\"moved\",\"lost\",\"english\",\"ii\",\"international\",\"country\",\"court\",\"tropical\",\"president\",\"building\",\"church\",\"royal\",\"given\",\"tour\",\"re\",\"little\",\"using\",\"n\",\"london\",\"short\",\"lead\",\"street\",\"my\",\"gave\",\"position\",\"similar\",\"never\",\"published\",\"highway\",\"produced\",\"performance\",\"attack\",\"returned\",\"went\",\"class\",\"run\",\"recorded\",\"children\",\"track\",\"control\",\"how\",\"aircraft\",\"ships\",\"making\",\"live\",\"stated\",\"land\",\"television\",\"week\",\"per\",\"star\",\"upon\",\"include\",\"right\",\"western\",\"good\",\"women\",\"total\",\"once\",\"throughout\",\"fire\",\"father\",\"head\",\"himself\",\"central\",\"design\",\"love\",\"instead\",\"previous\",\"less\",\"seven\",\"australia\",\"title\",\"age\",\"away\",\"me\",\"sea\",\"young\",\"ten\",\"remained\",\"players\",\"characters\",\"writing\",\"months\",\"law\",\"return\",\"r\",\"red\",\"political\",\"light\",\"across\",\"result\",\"ft\",\"died\",\"too\",\"developed\",\"center\",\"rock\",\"low\",\"james\",\"station\",\"hurricane\",\"night\",\"areas\",\"southern\",\"eight\",\"e\",\"america\",\"son\",\"style\",\"field\",\"reported\",\"noted\",\"felt\",\"act\",\"created\",\"announced\",\"william\",\"reached\",\"miles\",\"sent\",\"followed\",\"construction\",\"office\",\"various\",\"should\",\"race\",\"japanese\",\"college\",\"win\",\"performed\",\"served\",\"full\",\"seen\",\"eventually\",\"together\",\"member\",\"taken\",\"action\",\"award\",\"common\",\"level\",\"works\",\"born\",\"campaign\",\"northern\",\"chart\",\"killed\",\"range\",\"able\",\"located\",\"originally\",\"established\",\"points\",\"front\",\"george\",\"addition\",\"others\",\"success\",\"body\",\"behind\",\"decided\",\"australian\",\"mm\",\"special\",\"stage\",\"caused\",\"get\",\"modern\",\"feet\",\"thought\",\"features\",\"playing\",\"appeared\",\"started\",\"post\",\"bridge\",\"rather\",\"fourth\",\"site\",\"project\",\"critics\",\"formed\",\"every\",\"strong\",\"present\",\"heavy\",\"o\",\"football\",\"added\",\"completed\",\"david\",\"popular\",\"sold\",\"director\",\"command\",\"damage\",\"population\",\"saw\",\"f\",\"close\",\"soon\",\"championship\",\"kingdom\",\"non\",\"art\",\"almost\",\"open\",\"case\",\"ground\",\"go\",\"leading\",\"important\",\"see\",\"opened\",\"fleet\",\"initially\",\"awards\",\"weeks\",\"guns\",\"hall\",\"mi\",\"region\",\"worked\",\"free\",\"working\",\"france\",\"ever\",\"towards\",\"coast\",\"mother\",\"provided\",\"henry\",\"sound\",\"scene\",\"michael\",\"wanted\",\"l\",\"eastern\",\"event\",\"union\",\"training\",\"magazine\",\"featured\",\"hit\",\"recording\",\"placed\",\"help\",\"allowed\",\"scored\",\"either\",\"brought\",\"navy\",\"does\",\"runs\",\"records\",\"put\",\"victory\",\"average\",\"least\",\"wife\",\"europe\",\"generally\",\"studio\",\"troops\",\"far\",\"cup\",\"mid\",\"summer\",\"washington\",\"events\",\"designed\",\"hours\",\"example\",\"council\",\"human\",\"joined\",\"japan\",\"successful\",\"radio\",\"co\",\"believed\",\"robert\",\"list\",\"opening\",\"replaced\",\"squadron\",\"involved\",\"european\",\"big\",\"minutes\",\"operation\",\"rest\",\"nine\",\"start\",\"films\",\"finished\",\"official\",\"brown\",\"month\",\"media\",\"police\",\"highest\",\"review\",\"process\",\"ended\",\"saying\",\"society\",\"earlier\",\"crew\",\"significant\",\"increased\",\"x\",\"test\",\"shot\",\"possible\",\"mph\",\"taking\",\"base\",\"particularly\",\"captain\",\"met\",\"association\",\"al\",\"better\",\"outside\",\"forced\",\"research\",\"turned\",\"beginning\",\"section\",\"change\",\"above\",\"available\",\"business\",\"passed\",\"social\",\"cast\",\"largest\",\"goal\",\"stone\",\"relationship\",\"units\",\"praised\",\"real\",\"charles\",\"lower\",\"thus\",\"appearance\",\"future\",\"middle\",\"staff\",\"come\",\"reviews\",\"must\",\"san\",\"community\",\"gun\",\"previously\",\"hill\",\"move\",\"gold\",\"winds\",\"california\",\"ordered\",\"enough\",\"additional\",\"going\",\"don\",\"signed\",\"canada\",\"thomas\",\"program\",\"elements\",\"failed\",\"board\",\"lake\",\"infantry\",\"rights\",\"paul\",\"castle\",\"positive\",\"give\",\"overall\",\"space\",\"grand\",\"interest\",\"spent\",\"news\",\"chief\",\"brother\",\"g\",\"critical\",\"round\",\"parts\",\"cross\",\"plan\",\"type\",\"attempt\",\"itself\",\"reception\",\"female\",\"find\",\"hand\",\"directed\",\"personal\",\"musical\",\"required\",\"sometimes\",\"asked\",\"told\",\"v\",\"groups\",\"lines\",\"already\",\"battalion\",\"bill\",\"entire\",\"money\",\"germany\",\"peter\",\"india\",\"usually\",\"district\",\"term\",\"port\",\"response\",\"cover\",\"room\",\"committee\",\"education\",\"novel\",\"background\",\"debut\",\"limited\",\"study\",\"evidence\",\"square\",\"press\",\"quickly\",\"claimed\",\"turn\",\"plot\",\"idea\",\"complete\",\"smith\",\"especially\",\"decision\",\"prior\",\"p\",\"introduced\",\"episodes\",\"uk\",\"indian\",\"green\",\"whose\",\"la\",\"election\",\"our\",\"score\",\"god\",\"effects\",\"fifth\",\"mark\",\"woman\",\"queen\",\"students\",\"governor\",\"bay\",\"voice\",\"commander\",\"speed\",\"past\",\"stars\",\"britain\",\"minister\",\"flight\",\"ny\",\"science\",\"loss\",\"anti\",\"blue\",\"surface\",\"whom\",\"arrived\",\"structure\",\"estimated\",\"issue\",\"living\",\"might\",\"pressure\",\"larger\",\"department\",\"current\",\"industry\",\"person\",\"teams\",\"shows\",\"food\",\"material\",\"civil\",\"writer\",\"becoming\",\"car\",\"k\",\"latter\",\"operations\",\"cut\",\"scenes\",\"entered\",\"centre\",\"services\",\"naval\",\"richard\",\"islands\",\"remaining\",\"fact\",\"self\",\"running\",\"movement\",\"nearly\",\"destroyed\",\"commercial\",\"village\",\"immediately\",\"defeated\",\"length\",\"pop\",\"proposed\",\"suggested\",\"los\",\"carried\",\"earth\",\"date\",\"depression\",\"wide\",\"virginia\",\"tracks\",\"compared\",\"changes\",\"nd\",\"network\",\"language\",\"shortly\",\"empire\",\"leaving\",\"winning\",\"higher\",\"course\",\"chinese\",\"dark\",\"daughter\",\"spanish\",\"leader\",\"appointed\",\"percent\",\"hot\",\"approximately\",\"railway\",\"intended\",\"done\",\"report\",\"provide\",\"your\",\"health\",\"brigade\",\"size\",\"fort\",\"lack\",\"producer\",\"contract\",\"federal\",\"planned\",\"experience\",\"view\",\"trade\",\"museum\",\"influence\",\"yet\",\"child\",\"today\",\"fans\",\"face\",\"manager\",\"officer\",\"initial\",\"finally\",\"married\",\"awarded\",\"something\",\"regiment\",\"captured\",\"themselves\",\"soldiers\",\"buildings\",\"helped\",\"nature\",\"officers\",\"chicago\",\"books\",\"appear\",\"singles\",\"create\",\"billboard\",\"ball\",\"natural\",\"remains\",\"supported\",\"pacific\",\"mostly\",\"professional\",\"friends\",\"edward\",\"soviet\",\"issued\",\"upper\",\"whether\",\"regular\",\"effect\",\"subsequently\",\"probably\",\"related\",\"moving\",\"information\",\"corps\",\"pass\",\"private\",\"associated\",\"cm\",\"key\",\"cost\",\"agreed\",\"minor\",\"always\",\"numerous\",\"energy\",\"copies\",\"difficult\",\"longer\",\"really\",\"friend\",\"guitar\",\"got\",\"mixed\",\"plans\",\"feature\",\"extended\",\"forward\",\"poor\",\"ran\",\"florida\",\"jackson\",\"lord\",\"suffered\",\"lyrics\",\"independent\",\"countries\",\"know\",\"singer\",\"increase\",\"fell\",\"christian\",\"j\",\"changed\",\"leave\",\"johnson\",\"removed\",\"meeting\",\"conference\",\"roman\",\"location\",\"inspired\",\"raised\",\"goals\",\"dead\",\"ranked\",\"includes\"],\"x1\":{\"__ndarray__\":\"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\",\"dtype\":\"float32\",\"shape\":[1000]},\"x2\":{\"__ndarray__\":\"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\",\"dtype\":\"float32\",\"shape\":[1000]}}},\"id\":\"59130611-f489-46c3-9db3-0fbc58303736\",\"type\":\"ColumnDataSource\"},{\"attributes\":{\"source\":{\"id\":\"59130611-f489-46c3-9db3-0fbc58303736\",\"type\":\"ColumnDataSource\"}},\"id\":\"af0e22dc-ec87-43f4-ad28-766562afb798\",\"type\":\"CDSView\"},{\"attributes\":{},\"id\":\"0adfacc8-f1c7-4229-be86-9f361d113824\",\"type\":\"LinearScale\"},{\"attributes\":{\"callback\":null},\"id\":\"0d4da16d-377a-4664-92a0-22cbf053ec43\",\"type\":\"DataRange1d\"},{\"attributes\":{},\"id\":\"29df9858-7c19-4416-9532-4c36db58ac53\",\"type\":\"LinearScale\"},{\"attributes\":{\"plot\":{\"id\":\"45d18f4a-e8e3-4674-aac3-34b3d5624337\",\"subtype\":\"Figure\",\"type\":\"Plot\"},\"ticker\":{\"id\":\"90483844-b39a-430b-a543-c5c32c4e7201\",\"type\":\"BasicTicker\"}},\"id\":\"2d5f5e61-c0b2-43f5-8236-4dd3de95accc\",\"type\":\"Grid\"},{\"attributes\":{\"formatter\":{\"id\":\"1160774a-b231-442e-b6d3-2c77a76bd650\",\"type\":\"BasicTickFormatter\"},\"plot\":{\"id\":\"45d18f4a-e8e3-4674-aac3-34b3d5624337\",\"subtype\":\"Figure\",\"type\":\"Plot\"},\"ticker\":{\"id\":\"90483844-b39a-430b-a543-c5c32c4e7201\",\"type\":\"BasicTicker\"}},\"id\":\"6d6ddb46-21d0-4008-bca4-a486078aaba8\",\"type\":\"LinearAxis\"},{\"attributes\":{},\"id\":\"90483844-b39a-430b-a543-c5c32c4e7201\",\"type\":\"BasicTicker\"},{\"attributes\":{\"formatter\":{\"id\":\"a56b37d4-2b07-4250-a401-270c77320fc8\",\"type\":\"BasicTickFormatter\"},\"plot\":{\"id\":\"45d18f4a-e8e3-4674-aac3-34b3d5624337\",\"subtype\":\"Figure\",\"type\":\"Plot\"},\"ticker\":{\"id\":\"77961376-af3a-42cc-a6ed-e2d018086d4a\",\"type\":\"BasicTicker\"}},\"id\":\"b80c6692-f4a9-4abc-b960-9a6557326f5c\",\"type\":\"LinearAxis\"},{\"attributes\":{},\"id\":\"77961376-af3a-42cc-a6ed-e2d018086d4a\",\"type\":\"BasicTicker\"},{\"attributes\":{\"plot\":{\"id\":\"45d18f4a-e8e3-4674-aac3-34b3d5624337\",\"subtype\":\"Figure\",\"type\":\"Plot\"},\"source\":{\"id\":\"59130611-f489-46c3-9db3-0fbc58303736\",\"type\":\"ColumnDataSource\"},\"text\":{\"field\":\"names\"},\"text_align\":\"center\",\"text_color\":{\"value\":\"#555555\"},\"text_font_size\":{\"value\":\"8pt\"},\"x\":{\"field\":\"x1\"},\"y\":{\"field\":\"x2\"},\"y_offset\":{\"value\":6}},\"id\":\"fb55f2c9-923c-4c35-998f-d1f06947f6fb\",\"type\":\"LabelSet\"},{\"attributes\":{\"dimension\":1,\"plot\":{\"id\":\"45d18f4a-e8e3-4674-aac3-34b3d5624337\",\"subtype\":\"Figure\",\"type\":\"Plot\"},\"ticker\":{\"id\":\"77961376-af3a-42cc-a6ed-e2d018086d4a\",\"type\":\"BasicTicker\"}},\"id\":\"9775fe76-1110-45d8-9f71-d33dbcf55673\",\"type\":\"Grid\"},{\"attributes\":{\"fill_alpha\":{\"value\":0.1},\"fill_color\":{\"value\":\"#1f77b4\"},\"line_alpha\":{\"value\":0.1},\"line_color\":{\"value\":\"#1f77b4\"},\"size\":{\"units\":\"screen\",\"value\":8},\"x\":{\"field\":\"x1\"},\"y\":{\"field\":\"x2\"}},\"id\":\"39aff897-0260-4c5b-b9eb-0fba0a5c989e\",\"type\":\"Circle\"},{\"attributes\":{},\"id\":\"a56b37d4-2b07-4250-a401-270c77320fc8\",\"type\":\"BasicTickFormatter\"},{\"attributes\":{},\"id\":\"1160774a-b231-442e-b6d3-2c77a76bd650\",\"type\":\"BasicTickFormatter\"},{\"attributes\":{\"below\":[{\"id\":\"6d6ddb46-21d0-4008-bca4-a486078aaba8\",\"type\":\"LinearAxis\"}],\"left\":[{\"id\":\"b80c6692-f4a9-4abc-b960-9a6557326f5c\",\"type\":\"LinearAxis\"}],\"renderers\":[{\"id\":\"6d6ddb46-21d0-4008-bca4-a486078aaba8\",\"type\":\"LinearAxis\"},{\"id\":\"2d5f5e61-c0b2-43f5-8236-4dd3de95accc\",\"type\":\"Grid\"},{\"id\":\"b80c6692-f4a9-4abc-b960-9a6557326f5c\",\"type\":\"LinearAxis\"},{\"id\":\"9775fe76-1110-45d8-9f71-d33dbcf55673\",\"type\":\"Grid\"},{\"id\":\"7329f8b5-d038-4e1a-815b-a293bcf334b5\",\"type\":\"GlyphRenderer\"},{\"id\":\"fb55f2c9-923c-4c35-998f-d1f06947f6fb\",\"type\":\"LabelSet\"}],\"title\":{\"id\":\"dbfab2e7-a746-438c-9c8d-ff7c0c37d930\",\"type\":\"Title\"},\"toolbar\":{\"id\":\"60e532db-f68e-44a1-b8b9-4eebef50aa27\",\"type\":\"Toolbar\"},\"toolbar_location\":\"above\",\"x_range\":{\"id\":\"0c387f82-06e6-478c-9424-6882061dd340\",\"type\":\"DataRange1d\"},\"x_scale\":{\"id\":\"0adfacc8-f1c7-4229-be86-9f361d113824\",\"type\":\"LinearScale\"},\"y_range\":{\"id\":\"0d4da16d-377a-4664-92a0-22cbf053ec43\",\"type\":\"DataRange1d\"},\"y_scale\":{\"id\":\"29df9858-7c19-4416-9532-4c36db58ac53\",\"type\":\"LinearScale\"}},\"id\":\"45d18f4a-e8e3-4674-aac3-34b3d5624337\",\"subtype\":\"Figure\",\"type\":\"Plot\"},{\"attributes\":{},\"id\":\"d0fe5b95-f532-428e-b72f-390cdb885d4c\",\"type\":\"PanTool\"}],\"root_ids\":[\"45d18f4a-e8e3-4674-aac3-34b3d5624337\"]},\"title\":\"Bokeh Application\",\"version\":\"0.12.10\"}};\n",
       "    var render_items = [{\"docid\":\"8aa2a395-ab09-4846-8b97-68557c6b1563\",\"elementid\":\"7654b43a-005b-4e3a-a2a2-9b1c2915d360\",\"modelid\":\"45d18f4a-e8e3-4674-aac3-34b3d5624337\"}];\n",
       "\n",
       "    root.Bokeh.embed.embed_items(docs_json, render_items);\n",
       "  }\n",
       "\n",
       "  if (root.Bokeh !== undefined) {\n",
       "    embed_document(root);\n",
       "  } else {\n",
       "    var attempts = 0;\n",
       "    var timer = setInterval(function(root) {\n",
       "      if (root.Bokeh !== undefined) {\n",
       "        embed_document(root);\n",
       "        clearInterval(timer);\n",
       "      }\n",
       "      attempts++;\n",
       "      if (attempts > 100) {\n",
       "        console.log(\"Bokeh: ERROR: Unable to embed document because BokehJS library is missing\")\n",
       "        clearInterval(timer);\n",
       "      }\n",
       "    }, 10, root)\n",
       "  }\n",
       "})(window);"
      ],
      "application/vnd.bokehjs_exec.v0+json": ""
     },
     "metadata": {
      "application/vnd.bokehjs_exec.v0+json": {
       "id": "45d18f4a-e8e3-4674-aac3-34b3d5624337"
      }
     },
     "output_type": "display_data"
    }
   ],
   "source": [
    "p = figure(tools=\"pan,wheel_zoom,reset,save\",\n",
    "           toolbar_location=\"above\",\n",
    "           title=\"word2vec T-SNE for most common words\")\n",
    "\n",
    "source = ColumnDataSource(data=dict(x1=words_top_wiki_tsne[:,0],\n",
    "                                    x2=words_top_wiki_tsne[:,1],\n",
    "                                    names=words_top_wiki))\n",
    "\n",
    "p.scatter(x=\"x1\", y=\"x2\", size=8, source=source)\n",
    "\n",
    "labels = LabelSet(x=\"x1\", y=\"x2\", text=\"names\", y_offset=6,\n",
    "                  text_font_size=\"8pt\", text_color=\"#555555\",\n",
    "                  source=source, text_align='center')\n",
    "p.add_layout(labels)\n",
    "\n",
    "show(p)"
   ]
  },
  {
   "cell_type": "code",
   "execution_count": null,
   "metadata": {
    "collapsed": true
   },
   "outputs": [],
   "source": []
  }
 ],
 "metadata": {
  "kernelspec": {
   "display_name": "Python 3",
   "language": "python",
   "name": "python3"
  },
  "language_info": {
   "codemirror_mode": {
    "name": "ipython",
    "version": 3
   },
   "file_extension": ".py",
   "mimetype": "text/x-python",
   "name": "python",
   "nbconvert_exporter": "python",
   "pygments_lexer": "ipython3",
   "version": "3.6.3"
  }
 },
 "nbformat": 4,
 "nbformat_minor": 2
}

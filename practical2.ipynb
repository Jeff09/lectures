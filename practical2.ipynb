{
 "cells": [
  {
   "cell_type": "code",
   "execution_count": 1,
   "metadata": {
    "ExecuteTime": {
     "end_time": "2017-12-29T16:52:29.182435Z",
     "start_time": "2017-12-29T16:52:27.611563Z"
    },
    "collapsed": true
   },
   "outputs": [],
   "source": [
    "import numpy as np\n",
    "import os\n",
    "from random import shuffle\n",
    "import re"
   ]
  },
  {
   "cell_type": "code",
   "execution_count": 2,
   "metadata": {
    "ExecuteTime": {
     "end_time": "2017-12-29T16:52:33.670943Z",
     "start_time": "2017-12-29T16:52:29.184389Z"
    }
   },
   "outputs": [
    {
     "data": {
      "text/html": [
       "\n",
       "    <div class=\"bk-root\">\n",
       "        <a href=\"https://bokeh.pydata.org\" target=\"_blank\" class=\"bk-logo bk-logo-small bk-logo-notebook\"></a>\n",
       "        <span id=\"20f9fbf5-9983-4b0b-b9c3-974da1814baf\">Loading BokehJS ...</span>\n",
       "    </div>"
      ]
     },
     "metadata": {},
     "output_type": "display_data"
    },
    {
     "data": {
      "application/javascript": [
       "\n",
       "(function(root) {\n",
       "  function now() {\n",
       "    return new Date();\n",
       "  }\n",
       "\n",
       "  var force = true;\n",
       "\n",
       "  if (typeof (root._bokeh_onload_callbacks) === \"undefined\" || force === true) {\n",
       "    root._bokeh_onload_callbacks = [];\n",
       "    root._bokeh_is_loading = undefined;\n",
       "  }\n",
       "\n",
       "  var JS_MIME_TYPE = 'application/javascript';\n",
       "  var HTML_MIME_TYPE = 'text/html';\n",
       "  var EXEC_MIME_TYPE = 'application/vnd.bokehjs_exec.v0+json';\n",
       "  var CLASS_NAME = 'output_bokeh rendered_html';\n",
       "\n",
       "  /**\n",
       "   * Render data to the DOM node\n",
       "   */\n",
       "  function render(props, node) {\n",
       "    var script = document.createElement(\"script\");\n",
       "    node.appendChild(script);\n",
       "  }\n",
       "\n",
       "  /**\n",
       "   * Handle when an output is cleared or removed\n",
       "   */\n",
       "  function handleClearOutput(event, handle) {\n",
       "    var cell = handle.cell;\n",
       "\n",
       "    var id = cell.output_area._bokeh_element_id;\n",
       "    var server_id = cell.output_area._bokeh_server_id;\n",
       "    // Clean up Bokeh references\n",
       "    if (id !== undefined) {\n",
       "      Bokeh.index[id].model.document.clear();\n",
       "      delete Bokeh.index[id];\n",
       "    }\n",
       "\n",
       "    if (server_id !== undefined) {\n",
       "      // Clean up Bokeh references\n",
       "      var cmd = \"from bokeh.io.state import curstate; print(curstate().uuid_to_server['\" + server_id + \"'].get_sessions()[0].document.roots[0]._id)\";\n",
       "      cell.notebook.kernel.execute(cmd, {\n",
       "        iopub: {\n",
       "          output: function(msg) {\n",
       "            var element_id = msg.content.text.trim();\n",
       "            Bokeh.index[element_id].model.document.clear();\n",
       "            delete Bokeh.index[element_id];\n",
       "          }\n",
       "        }\n",
       "      });\n",
       "      // Destroy server and session\n",
       "      var cmd = \"import bokeh.io.notebook as ion; ion.destroy_server('\" + server_id + \"')\";\n",
       "      cell.notebook.kernel.execute(cmd);\n",
       "    }\n",
       "  }\n",
       "\n",
       "  /**\n",
       "   * Handle when a new output is added\n",
       "   */\n",
       "  function handleAddOutput(event, handle) {\n",
       "    var output_area = handle.output_area;\n",
       "    var output = handle.output;\n",
       "\n",
       "    // limit handleAddOutput to display_data with EXEC_MIME_TYPE content only\n",
       "    if ((output.output_type != \"display_data\") || (!output.data.hasOwnProperty(EXEC_MIME_TYPE))) {\n",
       "      return\n",
       "    }\n",
       "\n",
       "    var toinsert = output_area.element.find(`.${CLASS_NAME.split(' ')[0]}`);\n",
       "\n",
       "    if (output.metadata[EXEC_MIME_TYPE][\"id\"] !== undefined) {\n",
       "      toinsert[0].firstChild.textContent = output.data[JS_MIME_TYPE];\n",
       "      // store reference to embed id on output_area\n",
       "      output_area._bokeh_element_id = output.metadata[EXEC_MIME_TYPE][\"id\"];\n",
       "    }\n",
       "    if (output.metadata[EXEC_MIME_TYPE][\"server_id\"] !== undefined) {\n",
       "      var bk_div = document.createElement(\"div\");\n",
       "      bk_div.innerHTML = output.data[HTML_MIME_TYPE];\n",
       "      var script_attrs = bk_div.children[0].attributes;\n",
       "      for (var i = 0; i < script_attrs.length; i++) {\n",
       "        toinsert[0].firstChild.setAttribute(script_attrs[i].name, script_attrs[i].value);\n",
       "      }\n",
       "      // store reference to server id on output_area\n",
       "      output_area._bokeh_server_id = output.metadata[EXEC_MIME_TYPE][\"server_id\"];\n",
       "    }\n",
       "  }\n",
       "\n",
       "  function register_renderer(events, OutputArea) {\n",
       "\n",
       "    function append_mime(data, metadata, element) {\n",
       "      // create a DOM node to render to\n",
       "      var toinsert = this.create_output_subarea(\n",
       "        metadata,\n",
       "        CLASS_NAME,\n",
       "        EXEC_MIME_TYPE\n",
       "      );\n",
       "      this.keyboard_manager.register_events(toinsert);\n",
       "      // Render to node\n",
       "      var props = {data: data, metadata: metadata[EXEC_MIME_TYPE]};\n",
       "      render(props, toinsert[0]);\n",
       "      element.append(toinsert);\n",
       "      return toinsert\n",
       "    }\n",
       "\n",
       "    /* Handle when an output is cleared or removed */\n",
       "    events.on('clear_output.CodeCell', handleClearOutput);\n",
       "    events.on('delete.Cell', handleClearOutput);\n",
       "\n",
       "    /* Handle when a new output is added */\n",
       "    events.on('output_added.OutputArea', handleAddOutput);\n",
       "\n",
       "    /**\n",
       "     * Register the mime type and append_mime function with output_area\n",
       "     */\n",
       "    OutputArea.prototype.register_mime_type(EXEC_MIME_TYPE, append_mime, {\n",
       "      /* Is output safe? */\n",
       "      safe: true,\n",
       "      /* Index of renderer in `output_area.display_order` */\n",
       "      index: 0\n",
       "    });\n",
       "  }\n",
       "\n",
       "  // register the mime type if in Jupyter Notebook environment and previously unregistered\n",
       "  if (root.Jupyter !== undefined) {\n",
       "    var events = require('base/js/events');\n",
       "    var OutputArea = require('notebook/js/outputarea').OutputArea;\n",
       "\n",
       "    if (OutputArea.prototype.mime_types().indexOf(EXEC_MIME_TYPE) == -1) {\n",
       "      register_renderer(events, OutputArea);\n",
       "    }\n",
       "  }\n",
       "\n",
       "  \n",
       "  if (typeof (root._bokeh_timeout) === \"undefined\" || force === true) {\n",
       "    root._bokeh_timeout = Date.now() + 5000;\n",
       "    root._bokeh_failed_load = false;\n",
       "  }\n",
       "\n",
       "  var NB_LOAD_WARNING = {'data': {'text/html':\n",
       "     \"<div style='background-color: #fdd'>\\n\"+\n",
       "     \"<p>\\n\"+\n",
       "     \"BokehJS does not appear to have successfully loaded. If loading BokehJS from CDN, this \\n\"+\n",
       "     \"may be due to a slow or bad network connection. Possible fixes:\\n\"+\n",
       "     \"</p>\\n\"+\n",
       "     \"<ul>\\n\"+\n",
       "     \"<li>re-rerun `output_notebook()` to attempt to load from CDN again, or</li>\\n\"+\n",
       "     \"<li>use INLINE resources instead, as so:</li>\\n\"+\n",
       "     \"</ul>\\n\"+\n",
       "     \"<code>\\n\"+\n",
       "     \"from bokeh.resources import INLINE\\n\"+\n",
       "     \"output_notebook(resources=INLINE)\\n\"+\n",
       "     \"</code>\\n\"+\n",
       "     \"</div>\"}};\n",
       "\n",
       "  function display_loaded() {\n",
       "    var el = document.getElementById(\"20f9fbf5-9983-4b0b-b9c3-974da1814baf\");\n",
       "    if (el != null) {\n",
       "      el.textContent = \"BokehJS is loading...\";\n",
       "    }\n",
       "    if (root.Bokeh !== undefined) {\n",
       "      if (el != null) {\n",
       "        el.textContent = \"BokehJS \" + root.Bokeh.version + \" successfully loaded.\";\n",
       "      }\n",
       "    } else if (Date.now() < root._bokeh_timeout) {\n",
       "      setTimeout(display_loaded, 100)\n",
       "    }\n",
       "  }\n",
       "\n",
       "\n",
       "  function run_callbacks() {\n",
       "    try {\n",
       "      root._bokeh_onload_callbacks.forEach(function(callback) { callback() });\n",
       "    }\n",
       "    finally {\n",
       "      delete root._bokeh_onload_callbacks\n",
       "    }\n",
       "    console.info(\"Bokeh: all callbacks have finished\");\n",
       "  }\n",
       "\n",
       "  function load_libs(js_urls, callback) {\n",
       "    root._bokeh_onload_callbacks.push(callback);\n",
       "    if (root._bokeh_is_loading > 0) {\n",
       "      console.log(\"Bokeh: BokehJS is being loaded, scheduling callback at\", now());\n",
       "      return null;\n",
       "    }\n",
       "    if (js_urls == null || js_urls.length === 0) {\n",
       "      run_callbacks();\n",
       "      return null;\n",
       "    }\n",
       "    console.log(\"Bokeh: BokehJS not loaded, scheduling load and callback at\", now());\n",
       "    root._bokeh_is_loading = js_urls.length;\n",
       "    for (var i = 0; i < js_urls.length; i++) {\n",
       "      var url = js_urls[i];\n",
       "      var s = document.createElement('script');\n",
       "      s.src = url;\n",
       "      s.async = false;\n",
       "      s.onreadystatechange = s.onload = function() {\n",
       "        root._bokeh_is_loading--;\n",
       "        if (root._bokeh_is_loading === 0) {\n",
       "          console.log(\"Bokeh: all BokehJS libraries loaded\");\n",
       "          run_callbacks()\n",
       "        }\n",
       "      };\n",
       "      s.onerror = function() {\n",
       "        console.warn(\"failed to load library \" + url);\n",
       "      };\n",
       "      console.log(\"Bokeh: injecting script tag for BokehJS library: \", url);\n",
       "      document.getElementsByTagName(\"head\")[0].appendChild(s);\n",
       "    }\n",
       "  };var element = document.getElementById(\"20f9fbf5-9983-4b0b-b9c3-974da1814baf\");\n",
       "  if (element == null) {\n",
       "    console.log(\"Bokeh: ERROR: autoload.js configured with elementid '20f9fbf5-9983-4b0b-b9c3-974da1814baf' but no matching script tag was found. \")\n",
       "    return false;\n",
       "  }\n",
       "\n",
       "  var js_urls = [\"https://cdn.pydata.org/bokeh/release/bokeh-0.12.10.min.js\", \"https://cdn.pydata.org/bokeh/release/bokeh-widgets-0.12.10.min.js\", \"https://cdn.pydata.org/bokeh/release/bokeh-tables-0.12.10.min.js\", \"https://cdn.pydata.org/bokeh/release/bokeh-gl-0.12.10.min.js\"];\n",
       "\n",
       "  var inline_js = [\n",
       "    function(Bokeh) {\n",
       "      Bokeh.set_log_level(\"info\");\n",
       "    },\n",
       "    \n",
       "    function(Bokeh) {\n",
       "      \n",
       "    },\n",
       "    function(Bokeh) {\n",
       "      console.log(\"Bokeh: injecting CSS: https://cdn.pydata.org/bokeh/release/bokeh-0.12.10.min.css\");\n",
       "      Bokeh.embed.inject_css(\"https://cdn.pydata.org/bokeh/release/bokeh-0.12.10.min.css\");\n",
       "      console.log(\"Bokeh: injecting CSS: https://cdn.pydata.org/bokeh/release/bokeh-widgets-0.12.10.min.css\");\n",
       "      Bokeh.embed.inject_css(\"https://cdn.pydata.org/bokeh/release/bokeh-widgets-0.12.10.min.css\");\n",
       "      console.log(\"Bokeh: injecting CSS: https://cdn.pydata.org/bokeh/release/bokeh-tables-0.12.10.min.css\");\n",
       "      Bokeh.embed.inject_css(\"https://cdn.pydata.org/bokeh/release/bokeh-tables-0.12.10.min.css\");\n",
       "    }\n",
       "  ];\n",
       "\n",
       "  function run_inline_js() {\n",
       "    \n",
       "    if ((root.Bokeh !== undefined) || (force === true)) {\n",
       "      for (var i = 0; i < inline_js.length; i++) {\n",
       "        inline_js[i].call(root, root.Bokeh);\n",
       "      }if (force === true) {\n",
       "        display_loaded();\n",
       "      }} else if (Date.now() < root._bokeh_timeout) {\n",
       "      setTimeout(run_inline_js, 100);\n",
       "    } else if (!root._bokeh_failed_load) {\n",
       "      console.log(\"Bokeh: BokehJS failed to load within specified timeout.\");\n",
       "      root._bokeh_failed_load = true;\n",
       "    } else if (force !== true) {\n",
       "      var cell = $(document.getElementById(\"20f9fbf5-9983-4b0b-b9c3-974da1814baf\")).parents('.cell').data().cell;\n",
       "      cell.output_area.append_execute_result(NB_LOAD_WARNING)\n",
       "    }\n",
       "\n",
       "  }\n",
       "\n",
       "  if (root._bokeh_is_loading === 0) {\n",
       "    console.log(\"Bokeh: BokehJS loaded, going straight to plotting\");\n",
       "    run_inline_js();\n",
       "  } else {\n",
       "    load_libs(js_urls, function() {\n",
       "      console.log(\"Bokeh: BokehJS plotting callback run at\", now());\n",
       "      run_inline_js();\n",
       "    });\n",
       "  }\n",
       "}(window));"
      ],
      "application/vnd.bokehjs_load.v0+json": "\n(function(root) {\n  function now() {\n    return new Date();\n  }\n\n  var force = true;\n\n  if (typeof (root._bokeh_onload_callbacks) === \"undefined\" || force === true) {\n    root._bokeh_onload_callbacks = [];\n    root._bokeh_is_loading = undefined;\n  }\n\n  \n\n  \n  if (typeof (root._bokeh_timeout) === \"undefined\" || force === true) {\n    root._bokeh_timeout = Date.now() + 5000;\n    root._bokeh_failed_load = false;\n  }\n\n  var NB_LOAD_WARNING = {'data': {'text/html':\n     \"<div style='background-color: #fdd'>\\n\"+\n     \"<p>\\n\"+\n     \"BokehJS does not appear to have successfully loaded. If loading BokehJS from CDN, this \\n\"+\n     \"may be due to a slow or bad network connection. Possible fixes:\\n\"+\n     \"</p>\\n\"+\n     \"<ul>\\n\"+\n     \"<li>re-rerun `output_notebook()` to attempt to load from CDN again, or</li>\\n\"+\n     \"<li>use INLINE resources instead, as so:</li>\\n\"+\n     \"</ul>\\n\"+\n     \"<code>\\n\"+\n     \"from bokeh.resources import INLINE\\n\"+\n     \"output_notebook(resources=INLINE)\\n\"+\n     \"</code>\\n\"+\n     \"</div>\"}};\n\n  function display_loaded() {\n    var el = document.getElementById(\"20f9fbf5-9983-4b0b-b9c3-974da1814baf\");\n    if (el != null) {\n      el.textContent = \"BokehJS is loading...\";\n    }\n    if (root.Bokeh !== undefined) {\n      if (el != null) {\n        el.textContent = \"BokehJS \" + root.Bokeh.version + \" successfully loaded.\";\n      }\n    } else if (Date.now() < root._bokeh_timeout) {\n      setTimeout(display_loaded, 100)\n    }\n  }\n\n\n  function run_callbacks() {\n    try {\n      root._bokeh_onload_callbacks.forEach(function(callback) { callback() });\n    }\n    finally {\n      delete root._bokeh_onload_callbacks\n    }\n    console.info(\"Bokeh: all callbacks have finished\");\n  }\n\n  function load_libs(js_urls, callback) {\n    root._bokeh_onload_callbacks.push(callback);\n    if (root._bokeh_is_loading > 0) {\n      console.log(\"Bokeh: BokehJS is being loaded, scheduling callback at\", now());\n      return null;\n    }\n    if (js_urls == null || js_urls.length === 0) {\n      run_callbacks();\n      return null;\n    }\n    console.log(\"Bokeh: BokehJS not loaded, scheduling load and callback at\", now());\n    root._bokeh_is_loading = js_urls.length;\n    for (var i = 0; i < js_urls.length; i++) {\n      var url = js_urls[i];\n      var s = document.createElement('script');\n      s.src = url;\n      s.async = false;\n      s.onreadystatechange = s.onload = function() {\n        root._bokeh_is_loading--;\n        if (root._bokeh_is_loading === 0) {\n          console.log(\"Bokeh: all BokehJS libraries loaded\");\n          run_callbacks()\n        }\n      };\n      s.onerror = function() {\n        console.warn(\"failed to load library \" + url);\n      };\n      console.log(\"Bokeh: injecting script tag for BokehJS library: \", url);\n      document.getElementsByTagName(\"head\")[0].appendChild(s);\n    }\n  };var element = document.getElementById(\"20f9fbf5-9983-4b0b-b9c3-974da1814baf\");\n  if (element == null) {\n    console.log(\"Bokeh: ERROR: autoload.js configured with elementid '20f9fbf5-9983-4b0b-b9c3-974da1814baf' but no matching script tag was found. \")\n    return false;\n  }\n\n  var js_urls = [\"https://cdn.pydata.org/bokeh/release/bokeh-0.12.10.min.js\", \"https://cdn.pydata.org/bokeh/release/bokeh-widgets-0.12.10.min.js\", \"https://cdn.pydata.org/bokeh/release/bokeh-tables-0.12.10.min.js\", \"https://cdn.pydata.org/bokeh/release/bokeh-gl-0.12.10.min.js\"];\n\n  var inline_js = [\n    function(Bokeh) {\n      Bokeh.set_log_level(\"info\");\n    },\n    \n    function(Bokeh) {\n      \n    },\n    function(Bokeh) {\n      console.log(\"Bokeh: injecting CSS: https://cdn.pydata.org/bokeh/release/bokeh-0.12.10.min.css\");\n      Bokeh.embed.inject_css(\"https://cdn.pydata.org/bokeh/release/bokeh-0.12.10.min.css\");\n      console.log(\"Bokeh: injecting CSS: https://cdn.pydata.org/bokeh/release/bokeh-widgets-0.12.10.min.css\");\n      Bokeh.embed.inject_css(\"https://cdn.pydata.org/bokeh/release/bokeh-widgets-0.12.10.min.css\");\n      console.log(\"Bokeh: injecting CSS: https://cdn.pydata.org/bokeh/release/bokeh-tables-0.12.10.min.css\");\n      Bokeh.embed.inject_css(\"https://cdn.pydata.org/bokeh/release/bokeh-tables-0.12.10.min.css\");\n    }\n  ];\n\n  function run_inline_js() {\n    \n    if ((root.Bokeh !== undefined) || (force === true)) {\n      for (var i = 0; i < inline_js.length; i++) {\n        inline_js[i].call(root, root.Bokeh);\n      }if (force === true) {\n        display_loaded();\n      }} else if (Date.now() < root._bokeh_timeout) {\n      setTimeout(run_inline_js, 100);\n    } else if (!root._bokeh_failed_load) {\n      console.log(\"Bokeh: BokehJS failed to load within specified timeout.\");\n      root._bokeh_failed_load = true;\n    } else if (force !== true) {\n      var cell = $(document.getElementById(\"20f9fbf5-9983-4b0b-b9c3-974da1814baf\")).parents('.cell').data().cell;\n      cell.output_area.append_execute_result(NB_LOAD_WARNING)\n    }\n\n  }\n\n  if (root._bokeh_is_loading === 0) {\n    console.log(\"Bokeh: BokehJS loaded, going straight to plotting\");\n    run_inline_js();\n  } else {\n    load_libs(js_urls, function() {\n      console.log(\"Bokeh: BokehJS plotting callback run at\", now());\n      run_inline_js();\n    });\n  }\n}(window));"
     },
     "metadata": {},
     "output_type": "display_data"
    }
   ],
   "source": [
    "from bokeh.models import ColumnDataSource, LabelSet\n",
    "from bokeh.plotting import figure, show, output_file\n",
    "from bokeh.io import output_notebook\n",
    "output_notebook()"
   ]
  },
  {
   "cell_type": "markdown",
   "metadata": {},
   "source": [
    "### Load dataset"
   ]
  },
  {
   "cell_type": "code",
   "execution_count": 3,
   "metadata": {
    "ExecuteTime": {
     "end_time": "2017-12-29T16:52:34.246573Z",
     "start_time": "2017-12-29T16:52:33.673450Z"
    },
    "collapsed": true
   },
   "outputs": [],
   "source": [
    "import urllib.request\n",
    "import zipfile\n",
    "import lxml.etree"
   ]
  },
  {
   "cell_type": "code",
   "execution_count": 65,
   "metadata": {
    "ExecuteTime": {
     "end_time": "2017-12-29T18:06:42.932977Z",
     "start_time": "2017-12-29T18:06:41.873629Z"
    },
    "collapsed": true
   },
   "outputs": [],
   "source": [
    "# For now, we're only interested in the subtitle text, so let's extract that from the XML:\n",
    "with zipfile.ZipFile('c:/Users/kun/NLP/oxford-cs-deepnlp-2017/practical1/ted_en-20160408.zip', 'r') as z:\n",
    "    doc = lxml.etree.parse(z.open('ted_en-20160408.xml', 'r'))\n",
    "input_text = doc.xpath('//content/text()')\n",
    "input_keywords = doc.xpath('//keywords/text()')\n",
    "#input_text_string = '\\n'.join(input_text)\n",
    "del doc"
   ]
  },
  {
   "cell_type": "code",
   "execution_count": 61,
   "metadata": {
    "ExecuteTime": {
     "end_time": "2017-12-29T18:03:24.349867Z",
     "start_time": "2017-12-29T18:03:24.345856Z"
    }
   },
   "outputs": [
    {
     "name": "stdout",
     "output_type": "stream",
     "text": [
      "2085\n",
      "2085\n"
     ]
    }
   ],
   "source": [
    "print(len(input_text))\n",
    "print(len(input_keywords))"
   ]
  },
  {
   "cell_type": "code",
   "execution_count": 66,
   "metadata": {
    "ExecuteTime": {
     "end_time": "2017-12-29T18:06:44.646423Z",
     "start_time": "2017-12-29T18:06:44.425751Z"
    }
   },
   "outputs": [
    {
     "name": "stdout",
     "output_type": "stream",
     "text": [
      "1585 1585\n",
      "250 250\n",
      "250 250\n"
     ]
    }
   ],
   "source": [
    "train_text = input_text[:1585]\n",
    "valid_text = input_text[1585:1835]\n",
    "test_text = input_text[1835:]\n",
    "\n",
    "train_keywords = input_keywords[:1585]\n",
    "valid_keywords = input_keywords[1585:1835]\n",
    "test_keywords = input_keywords[1835:]\n",
    "\n",
    "del input_text\n",
    "\n",
    "print(len(train_text), len(train_keywords))\n",
    "print(len(valid_text), len(valid_keywords))\n",
    "print(len(test_text), len(test_keywords))"
   ]
  },
  {
   "cell_type": "code",
   "execution_count": 81,
   "metadata": {
    "ExecuteTime": {
     "end_time": "2017-12-29T18:29:24.940903Z",
     "start_time": "2017-12-29T18:29:24.904799Z"
    }
   },
   "outputs": [],
   "source": [
    "labels = ['technology', 'design', 'entertainment']\n",
    "\n",
    "def build_pairs(text, keywords):\n",
    "    '''\n",
    "    text: input text, list of string\n",
    "    keywords: input keywords that responding to input text, list of string\n",
    "    return a dictionary mapping text to labels\n",
    "    '''\n",
    "    assert len(text) == len(keywords)\n",
    "    n = len(text)\n",
    "    pairs = {}\n",
    "    for i in range(n):\n",
    "        text_i = text[i]\n",
    "        valid_keyword = []\n",
    "        for keyword in keywords[i].lower().split():\n",
    "            if keyword in labels:\n",
    "                valid_keyword.append(keyword)\n",
    "        \n",
    "        if len(valid_keyword) == 3:\n",
    "            pairs[text_i] = 'TED'\n",
    "        elif len(valid_keyword) == 2:\n",
    "            if 'technology' in valid_keyword:\n",
    "                if 'design' in valid_keyword:\n",
    "                    pairs[text_i] = 'ToD'\n",
    "                elif 'entertainment' in valid_keyword:\n",
    "                    pairs[text_i] = 'TEo'\n",
    "            else:\n",
    "                pairs[text_i] = 'oED'\n",
    "        elif len(valid_keyword) == 1:\n",
    "            if 'technology' in valid_keyword:\n",
    "                pairs[text_i] = 'Too'\n",
    "            elif 'design' in valid_keyword:\n",
    "                pairs[text_i] = 'ooD'\n",
    "            else:\n",
    "                pairs[text_i] = 'oEo'\n",
    "        else:\n",
    "            pairs[text_i] = 'ooo'\n",
    "    \n",
    "    return pairs\n",
    "    "
   ]
  },
  {
   "cell_type": "code",
   "execution_count": 82,
   "metadata": {
    "ExecuteTime": {
     "end_time": "2017-12-29T18:29:56.027668Z",
     "start_time": "2017-12-29T18:29:56.016639Z"
    },
    "collapsed": true
   },
   "outputs": [],
   "source": [
    "train_pairs = build_pairs(train_text, train_keywords)\n",
    "valid_pairs = build_pairs(valid_text, valid_keywords)\n",
    "test_pairs = build_pairs(test_text, test_keywords)"
   ]
  },
  {
   "cell_type": "code",
   "execution_count": 84,
   "metadata": {
    "ExecuteTime": {
     "end_time": "2017-12-29T18:40:54.909519Z",
     "start_time": "2017-12-29T18:40:54.904032Z"
    }
   },
   "outputs": [
    {
     "name": "stdout",
     "output_type": "stream",
     "text": [
      "Here are two reasons companies fail: they only do more of the same, or they only do what's new.\n",
      "To me the real, real solution to quality growth is figuring out the balance between two activities: exploration and exploitation. Both are necessary, but it can be too much of a good thing.\n",
      "Consider Facit. I'm actually old enough to remember them. Facit was a fantastic company. They were born deep in the Swedish forest, and they made the best mechanical calculators in the world. Everybody used them. And what did Facit do when the electronic calculator came along? They continued doing exactly the same. In six months, they went from maximum revenue ... and they were gone. Gone.\n",
      "To me, the irony about the Facit story is hearing about the Facit engineers, who had bought cheap, small electronic calculators in Japan that they used to double-check their calculators.\n",
      "(Laughter)\n",
      "Facit did too much exploitation. But exploration can go wild, too.\n",
      "A few years back, I worked closely alongside a European biotech company. Let's call them OncoSearch. The company was brilliant. They had applications that promised to diagnose, even cure, certain forms of blood cancer. Every day was about creating something new. They were extremely innovative, and the mantra was, \"When we only get it right,\" or even, \"We want it perfect.\" The sad thing is, before they became perfect -- even good enough -- they became obsolete. OncoSearch did too much exploration.\n",
      "I first heard about exploration and exploitation about 15 years ago, when I worked as a visiting scholar at Stanford University. The founder of the idea is Jim March. And to me the power of the idea is its practicality.\n",
      "Exploration. Exploration is about coming up with what's new. It's about search, it's about discovery, it's about new products, it's about new innovations. It's about changing our frontiers. Our heroes are people who have done exploration: Madame Curie, Picasso, Neil Armstrong, Sir Edmund Hillary, etc. I come from Norway; all our heroes are explorers, and they deserve to be. We all know that exploration is risky. We don't know the answers, we don't know if we're going to find them, and we know that the risks are high.\n",
      "Exploitation is the opposite. Exploitation is taking the knowledge we have and making good, better. Exploitation is about making our trains run on time. It's about making good products faster and cheaper. Exploitation is not risky -- in the short term. But if we only exploit, it's very risky in the long term. And I think we all have memories of the famous pop groups who keep singing the same songs again and again, until they become obsolete or even pathetic. That's the risk of exploitation.\n",
      "So if we take a long-term perspective, we explore. If we take a short-term perspective, we exploit. Small children, they explore all day. All day it's about exploration. As we grow older, we explore less because we have more knowledge to exploit on. The same goes for companies. Companies become, by nature, less innovative as they become more competent.\n",
      "And this is, of course, a big worry to CEOs. And I hear very often questions phrased in different ways. For example, \"How can I both effectively run and reinvent my company?\" Or, \"How can I make sure that our company changes before we become obsolete or are hit by a crisis?\" So, doing one well is difficult. Doing both well as the same time is art -- pushing both exploration and exploitation.\n",
      "So one thing we've found is only about two percent of companies are able to effectively explore and exploit at the same time, in parallel. But when they do, the payoffs are huge. So we have lots of great examples. We have Nestlé creating Nespresso, we have Lego going into animated films, Toyota creating the hybrids, Unilever pushing into sustainability -- there are lots of examples, and the benefits are huge.\n",
      "Why is balancing so difficult? I think it's difficult because there are so many traps that keep us where we are. So I'll talk about two, but there are many.\n",
      "So let's talk about the perpetual search trap. We discover something, but we don't have the patience or the persistence to get at it and make it work. So instead of staying with it, we create something new. But the same goes for that, then we're in the vicious circle of actually coming up with ideas but being frustrated. OncoSearch was a good example. A famous example is, of course, Xerox. But we don't only see this in companies. We see this in the public sector as well. We all know that any kind of effective reform of education, research, health care, even defense, takes 10, 15, maybe 20 years to work. But still, we change much more often. We really don't give them the chance.\n",
      "Another trap is the success trap. Facit fell into the success trap. They literally held the future in their hands, but they couldn't see it. They were simply so good at making what they loved doing, that they wouldn't change. We are like that, too. When we know something well, it's difficult to change. Bill Gates has said: \"Success is a lousy teacher. It seduces us into thinking we cannot fail.\" That's the challenge with success.\n",
      "So I think there are some lessons, and I think they apply to us. And they apply to our companies. The first lesson is: get ahead of the crisis. And any company that's able to innovate is actually able to also buy an insurance in the future. Netflix -- they could so easily have been content with earlier generations of distribution, but they always -- and I think they will always -- keep pushing for the next battle. I see other companies that say, \"I'll win the next innovation cycle, whatever it takes.\"\n",
      "Second one: think in multiple time scales. I'll share a chart with you, and I think it's a wonderful one. Any company we look at, taking a one-year perspective and looking at the valuation of the company, innovation typically accounts for only about 30 percent. So when we think one year, innovation isn't really that important. Move ahead, take a 10-year perspective on the same company -- suddenly, innovation and ability to renew account for 70 percent. But companies can't choose. They need to fund the journey and lead the long term.\n",
      "Third: invite talent. I don't think it's possible for any of us to be able to balance exploration and exploitation by ourselves. I think it's a team sport. I think we need to allow challenging. I think the mark of a great company is being open to be challenged, and the mark of a good corporate board is to constructively challenge. I think that's also what good parenting is about.\n",
      "Last one: be skeptical of success. Maybe it's useful to think back at the old triumph marches in Rome, when the generals, after a big victory, were given their celebration. Riding into Rome on the carriage, they always had a companion whispering in their ear, \"Remember, you're only human.\"\n",
      "So I hope I made the point: balancing exploration and exploitation has a huge payoff. But it's difficult, and we need to be conscious.\n",
      "I want to just point out two questions that I think are useful. First question is, looking at your own company: In which areas do you see that the company is at the risk of falling into success traps, of just going on autopilot? And what can you do to challenge?\n",
      "Second question is: When did I explore something new last, and what kind of effect did it have on me? Is that something I should do more of? In my case, yes.\n",
      "So let me leave you with this. Whether you're an explorer by nature or whether you tend to exploit what you already know, don't forget: the beauty is in the balance.\n",
      "Thank you.\n",
      "(Applause) ooo\n"
     ]
    }
   ],
   "source": [
    "for i, j in train_pairs.items():\n",
    "    print(i, j)\n",
    "    break"
   ]
  },
  {
   "cell_type": "markdown",
   "metadata": {},
   "source": [
    "### Preprocessing"
   ]
  },
  {
   "cell_type": "markdown",
   "metadata": {},
   "source": [
    "Let's start by removing all parenthesized strings using a regex:"
   ]
  },
  {
   "cell_type": "code",
   "execution_count": 88,
   "metadata": {
    "ExecuteTime": {
     "end_time": "2017-12-29T22:46:25.496368Z",
     "start_time": "2017-12-29T22:46:25.490348Z"
    },
    "collapsed": true
   },
   "outputs": [],
   "source": [
    "def preprocessing(pairs):\n",
    "    new_pairs = {}\n",
    "    for text, label in pairs.items():\n",
    "        text_noparens = re.sub(r'\\([^)]*\\)', '', text)\n",
    "        tokens = re.sub(r\"[^a-z0-9]+\", \" \", text_noparens.lower()).split()\n",
    "        new_pairs[tuple(tokens)] = label\n",
    "    return new_pairs"
   ]
  },
  {
   "cell_type": "code",
   "execution_count": 91,
   "metadata": {
    "ExecuteTime": {
     "end_time": "2017-12-29T22:48:32.739921Z",
     "start_time": "2017-12-29T22:48:30.843162Z"
    },
    "collapsed": true
   },
   "outputs": [],
   "source": [
    "train_pairs_ = preprocessing(train_pairs)\n",
    "valid_pairs_ = preprocessing(valid_pairs)\n",
    "test_pairs_ = preprocessing(test_pairs)"
   ]
  },
  {
   "cell_type": "code",
   "execution_count": 90,
   "metadata": {
    "ExecuteTime": {
     "end_time": "2017-12-29T22:46:28.567322Z",
     "start_time": "2017-12-29T22:46:28.562786Z"
    }
   },
   "outputs": [
    {
     "name": "stdout",
     "output_type": "stream",
     "text": [
      "('here', 'are', 'two', 'reasons', 'companies', 'fail', 'they', 'only', 'do', 'more', 'of', 'the', 'same', 'or', 'they', 'only', 'do', 'what', 's', 'new', 'to', 'me', 'the', 'real', 'real', 'solution', 'to', 'quality', 'growth', 'is', 'figuring', 'out', 'the', 'balance', 'between', 'two', 'activities', 'exploration', 'and', 'exploitation', 'both', 'are', 'necessary', 'but', 'it', 'can', 'be', 'too', 'much', 'of', 'a', 'good', 'thing', 'consider', 'facit', 'i', 'm', 'actually', 'old', 'enough', 'to', 'remember', 'them', 'facit', 'was', 'a', 'fantastic', 'company', 'they', 'were', 'born', 'deep', 'in', 'the', 'swedish', 'forest', 'and', 'they', 'made', 'the', 'best', 'mechanical', 'calculators', 'in', 'the', 'world', 'everybody', 'used', 'them', 'and', 'what', 'did', 'facit', 'do', 'when', 'the', 'electronic', 'calculator', 'came', 'along', 'they', 'continued', 'doing', 'exactly', 'the', 'same', 'in', 'six', 'months', 'they', 'went', 'from', 'maximum', 'revenue', 'and', 'they', 'were', 'gone', 'gone', 'to', 'me', 'the', 'irony', 'about', 'the', 'facit', 'story', 'is', 'hearing', 'about', 'the', 'facit', 'engineers', 'who', 'had', 'bought', 'cheap', 'small', 'electronic', 'calculators', 'in', 'japan', 'that', 'they', 'used', 'to', 'double', 'check', 'their', 'calculators', 'facit', 'did', 'too', 'much', 'exploitation', 'but', 'exploration', 'can', 'go', 'wild', 'too', 'a', 'few', 'years', 'back', 'i', 'worked', 'closely', 'alongside', 'a', 'european', 'biotech', 'company', 'let', 's', 'call', 'them', 'oncosearch', 'the', 'company', 'was', 'brilliant', 'they', 'had', 'applications', 'that', 'promised', 'to', 'diagnose', 'even', 'cure', 'certain', 'forms', 'of', 'blood', 'cancer', 'every', 'day', 'was', 'about', 'creating', 'something', 'new', 'they', 'were', 'extremely', 'innovative', 'and', 'the', 'mantra', 'was', 'when', 'we', 'only', 'get', 'it', 'right', 'or', 'even', 'we', 'want', 'it', 'perfect', 'the', 'sad', 'thing', 'is', 'before', 'they', 'became', 'perfect', 'even', 'good', 'enough', 'they', 'became', 'obsolete', 'oncosearch', 'did', 'too', 'much', 'exploration', 'i', 'first', 'heard', 'about', 'exploration', 'and', 'exploitation', 'about', '15', 'years', 'ago', 'when', 'i', 'worked', 'as', 'a', 'visiting', 'scholar', 'at', 'stanford', 'university', 'the', 'founder', 'of', 'the', 'idea', 'is', 'jim', 'march', 'and', 'to', 'me', 'the', 'power', 'of', 'the', 'idea', 'is', 'its', 'practicality', 'exploration', 'exploration', 'is', 'about', 'coming', 'up', 'with', 'what', 's', 'new', 'it', 's', 'about', 'search', 'it', 's', 'about', 'discovery', 'it', 's', 'about', 'new', 'products', 'it', 's', 'about', 'new', 'innovations', 'it', 's', 'about', 'changing', 'our', 'frontiers', 'our', 'heroes', 'are', 'people', 'who', 'have', 'done', 'exploration', 'madame', 'curie', 'picasso', 'neil', 'armstrong', 'sir', 'edmund', 'hillary', 'etc', 'i', 'come', 'from', 'norway', 'all', 'our', 'heroes', 'are', 'explorers', 'and', 'they', 'deserve', 'to', 'be', 'we', 'all', 'know', 'that', 'exploration', 'is', 'risky', 'we', 'don', 't', 'know', 'the', 'answers', 'we', 'don', 't', 'know', 'if', 'we', 're', 'going', 'to', 'find', 'them', 'and', 'we', 'know', 'that', 'the', 'risks', 'are', 'high', 'exploitation', 'is', 'the', 'opposite', 'exploitation', 'is', 'taking', 'the', 'knowledge', 'we', 'have', 'and', 'making', 'good', 'better', 'exploitation', 'is', 'about', 'making', 'our', 'trains', 'run', 'on', 'time', 'it', 's', 'about', 'making', 'good', 'products', 'faster', 'and', 'cheaper', 'exploitation', 'is', 'not', 'risky', 'in', 'the', 'short', 'term', 'but', 'if', 'we', 'only', 'exploit', 'it', 's', 'very', 'risky', 'in', 'the', 'long', 'term', 'and', 'i', 'think', 'we', 'all', 'have', 'memories', 'of', 'the', 'famous', 'pop', 'groups', 'who', 'keep', 'singing', 'the', 'same', 'songs', 'again', 'and', 'again', 'until', 'they', 'become', 'obsolete', 'or', 'even', 'pathetic', 'that', 's', 'the', 'risk', 'of', 'exploitation', 'so', 'if', 'we', 'take', 'a', 'long', 'term', 'perspective', 'we', 'explore', 'if', 'we', 'take', 'a', 'short', 'term', 'perspective', 'we', 'exploit', 'small', 'children', 'they', 'explore', 'all', 'day', 'all', 'day', 'it', 's', 'about', 'exploration', 'as', 'we', 'grow', 'older', 'we', 'explore', 'less', 'because', 'we', 'have', 'more', 'knowledge', 'to', 'exploit', 'on', 'the', 'same', 'goes', 'for', 'companies', 'companies', 'become', 'by', 'nature', 'less', 'innovative', 'as', 'they', 'become', 'more', 'competent', 'and', 'this', 'is', 'of', 'course', 'a', 'big', 'worry', 'to', 'ceos', 'and', 'i', 'hear', 'very', 'often', 'questions', 'phrased', 'in', 'different', 'ways', 'for', 'example', 'how', 'can', 'i', 'both', 'effectively', 'run', 'and', 'reinvent', 'my', 'company', 'or', 'how', 'can', 'i', 'make', 'sure', 'that', 'our', 'company', 'changes', 'before', 'we', 'become', 'obsolete', 'or', 'are', 'hit', 'by', 'a', 'crisis', 'so', 'doing', 'one', 'well', 'is', 'difficult', 'doing', 'both', 'well', 'as', 'the', 'same', 'time', 'is', 'art', 'pushing', 'both', 'exploration', 'and', 'exploitation', 'so', 'one', 'thing', 'we', 've', 'found', 'is', 'only', 'about', 'two', 'percent', 'of', 'companies', 'are', 'able', 'to', 'effectively', 'explore', 'and', 'exploit', 'at', 'the', 'same', 'time', 'in', 'parallel', 'but', 'when', 'they', 'do', 'the', 'payoffs', 'are', 'huge', 'so', 'we', 'have', 'lots', 'of', 'great', 'examples', 'we', 'have', 'nestl', 'creating', 'nespresso', 'we', 'have', 'lego', 'going', 'into', 'animated', 'films', 'toyota', 'creating', 'the', 'hybrids', 'unilever', 'pushing', 'into', 'sustainability', 'there', 'are', 'lots', 'of', 'examples', 'and', 'the', 'benefits', 'are', 'huge', 'why', 'is', 'balancing', 'so', 'difficult', 'i', 'think', 'it', 's', 'difficult', 'because', 'there', 'are', 'so', 'many', 'traps', 'that', 'keep', 'us', 'where', 'we', 'are', 'so', 'i', 'll', 'talk', 'about', 'two', 'but', 'there', 'are', 'many', 'so', 'let', 's', 'talk', 'about', 'the', 'perpetual', 'search', 'trap', 'we', 'discover', 'something', 'but', 'we', 'don', 't', 'have', 'the', 'patience', 'or', 'the', 'persistence', 'to', 'get', 'at', 'it', 'and', 'make', 'it', 'work', 'so', 'instead', 'of', 'staying', 'with', 'it', 'we', 'create', 'something', 'new', 'but', 'the', 'same', 'goes', 'for', 'that', 'then', 'we', 're', 'in', 'the', 'vicious', 'circle', 'of', 'actually', 'coming', 'up', 'with', 'ideas', 'but', 'being', 'frustrated', 'oncosearch', 'was', 'a', 'good', 'example', 'a', 'famous', 'example', 'is', 'of', 'course', 'xerox', 'but', 'we', 'don', 't', 'only', 'see', 'this', 'in', 'companies', 'we', 'see', 'this', 'in', 'the', 'public', 'sector', 'as', 'well', 'we', 'all', 'know', 'that', 'any', 'kind', 'of', 'effective', 'reform', 'of', 'education', 'research', 'health', 'care', 'even', 'defense', 'takes', '10', '15', 'maybe', '20', 'years', 'to', 'work', 'but', 'still', 'we', 'change', 'much', 'more', 'often', 'we', 'really', 'don', 't', 'give', 'them', 'the', 'chance', 'another', 'trap', 'is', 'the', 'success', 'trap', 'facit', 'fell', 'into', 'the', 'success', 'trap', 'they', 'literally', 'held', 'the', 'future', 'in', 'their', 'hands', 'but', 'they', 'couldn', 't', 'see', 'it', 'they', 'were', 'simply', 'so', 'good', 'at', 'making', 'what', 'they', 'loved', 'doing', 'that', 'they', 'wouldn', 't', 'change', 'we', 'are', 'like', 'that', 'too', 'when', 'we', 'know', 'something', 'well', 'it', 's', 'difficult', 'to', 'change', 'bill', 'gates', 'has', 'said', 'success', 'is', 'a', 'lousy', 'teacher', 'it', 'seduces', 'us', 'into', 'thinking', 'we', 'cannot', 'fail', 'that', 's', 'the', 'challenge', 'with', 'success', 'so', 'i', 'think', 'there', 'are', 'some', 'lessons', 'and', 'i', 'think', 'they', 'apply', 'to', 'us', 'and', 'they', 'apply', 'to', 'our', 'companies', 'the', 'first', 'lesson', 'is', 'get', 'ahead', 'of', 'the', 'crisis', 'and', 'any', 'company', 'that', 's', 'able', 'to', 'innovate', 'is', 'actually', 'able', 'to', 'also', 'buy', 'an', 'insurance', 'in', 'the', 'future', 'netflix', 'they', 'could', 'so', 'easily', 'have', 'been', 'content', 'with', 'earlier', 'generations', 'of', 'distribution', 'but', 'they', 'always', 'and', 'i', 'think', 'they', 'will', 'always', 'keep', 'pushing', 'for', 'the', 'next', 'battle', 'i', 'see', 'other', 'companies', 'that', 'say', 'i', 'll', 'win', 'the', 'next', 'innovation', 'cycle', 'whatever', 'it', 'takes', 'second', 'one', 'think', 'in', 'multiple', 'time', 'scales', 'i', 'll', 'share', 'a', 'chart', 'with', 'you', 'and', 'i', 'think', 'it', 's', 'a', 'wonderful', 'one', 'any', 'company', 'we', 'look', 'at', 'taking', 'a', 'one', 'year', 'perspective', 'and', 'looking', 'at', 'the', 'valuation', 'of', 'the', 'company', 'innovation', 'typically', 'accounts', 'for', 'only', 'about', '30', 'percent', 'so', 'when', 'we', 'think', 'one', 'year', 'innovation', 'isn', 't', 'really', 'that', 'important', 'move', 'ahead', 'take', 'a', '10', 'year', 'perspective', 'on', 'the', 'same', 'company', 'suddenly', 'innovation', 'and', 'ability', 'to', 'renew', 'account', 'for', '70', 'percent', 'but', 'companies', 'can', 't', 'choose', 'they', 'need', 'to', 'fund', 'the', 'journey', 'and', 'lead', 'the', 'long', 'term', 'third', 'invite', 'talent', 'i', 'don', 't', 'think', 'it', 's', 'possible', 'for', 'any', 'of', 'us', 'to', 'be', 'able', 'to', 'balance', 'exploration', 'and', 'exploitation', 'by', 'ourselves', 'i', 'think', 'it', 's', 'a', 'team', 'sport', 'i', 'think', 'we', 'need', 'to', 'allow', 'challenging', 'i', 'think', 'the', 'mark', 'of', 'a', 'great', 'company', 'is', 'being', 'open', 'to', 'be', 'challenged', 'and', 'the', 'mark', 'of', 'a', 'good', 'corporate', 'board', 'is', 'to', 'constructively', 'challenge', 'i', 'think', 'that', 's', 'also', 'what', 'good', 'parenting', 'is', 'about', 'last', 'one', 'be', 'skeptical', 'of', 'success', 'maybe', 'it', 's', 'useful', 'to', 'think', 'back', 'at', 'the', 'old', 'triumph', 'marches', 'in', 'rome', 'when', 'the', 'generals', 'after', 'a', 'big', 'victory', 'were', 'given', 'their', 'celebration', 'riding', 'into', 'rome', 'on', 'the', 'carriage', 'they', 'always', 'had', 'a', 'companion', 'whispering', 'in', 'their', 'ear', 'remember', 'you', 're', 'only', 'human', 'so', 'i', 'hope', 'i', 'made', 'the', 'point', 'balancing', 'exploration', 'and', 'exploitation', 'has', 'a', 'huge', 'payoff', 'but', 'it', 's', 'difficult', 'and', 'we', 'need', 'to', 'be', 'conscious', 'i', 'want', 'to', 'just', 'point', 'out', 'two', 'questions', 'that', 'i', 'think', 'are', 'useful', 'first', 'question', 'is', 'looking', 'at', 'your', 'own', 'company', 'in', 'which', 'areas', 'do', 'you', 'see', 'that', 'the', 'company', 'is', 'at', 'the', 'risk', 'of', 'falling', 'into', 'success', 'traps', 'of', 'just', 'going', 'on', 'autopilot', 'and', 'what', 'can', 'you', 'do', 'to', 'challenge', 'second', 'question', 'is', 'when', 'did', 'i', 'explore', 'something', 'new', 'last', 'and', 'what', 'kind', 'of', 'effect', 'did', 'it', 'have', 'on', 'me', 'is', 'that', 'something', 'i', 'should', 'do', 'more', 'of', 'in', 'my', 'case', 'yes', 'so', 'let', 'me', 'leave', 'you', 'with', 'this', 'whether', 'you', 're', 'an', 'explorer', 'by', 'nature', 'or', 'whether', 'you', 'tend', 'to', 'exploit', 'what', 'you', 'already', 'know', 'don', 't', 'forget', 'the', 'beauty', 'is', 'in', 'the', 'balance', 'thank', 'you') ooo\n"
     ]
    }
   ],
   "source": [
    "for i, j in train_pairs_.items():\n",
    "    print(i, j)\n",
    "    break"
   ]
  },
  {
   "cell_type": "markdown",
   "metadata": {
    "ExecuteTime": {
     "end_time": "2017-12-29T16:52:35.940002Z",
     "start_time": "2017-12-29T16:52:35.839612Z"
    },
    "collapsed": true
   },
   "source": [
    "### Build Vocabulary "
   ]
  },
  {
   "cell_type": "code",
   "execution_count": 94,
   "metadata": {
    "ExecuteTime": {
     "end_time": "2017-12-29T22:52:34.650047Z",
     "start_time": "2017-12-29T22:52:34.578357Z"
    },
    "collapsed": true
   },
   "outputs": [],
   "source": [
    "train_text_string = '\\n'.join(train_text)\n",
    "valid_text_string = '\\n'.join(valid_text)\n",
    "\n",
    "train_text_noparens = re.sub(r'\\([^)]*\\)', '', train_text_string)\n",
    "valid_text_noparens = re.sub(r'\\([^)]*\\)', '', valid_text_string)"
   ]
  },
  {
   "cell_type": "code",
   "execution_count": 95,
   "metadata": {
    "ExecuteTime": {
     "end_time": "2017-12-29T22:53:01.023010Z",
     "start_time": "2017-12-29T22:53:01.018496Z"
    }
   },
   "outputs": [
    {
     "data": {
      "text/plain": [
       "'Here are two reasons'"
      ]
     },
     "execution_count": 95,
     "metadata": {},
     "output_type": "execute_result"
    }
   ],
   "source": [
    "train_text_noparens[:20]"
   ]
  },
  {
   "cell_type": "markdown",
   "metadata": {},
   "source": [
    "Now, let's attempt to remove speakers' names that occur at the beginning of a line, by deleting pieces of the form \"up to 20 characters:\", as shown in this example. Of course, this is an imperfect heuristic."
   ]
  },
  {
   "cell_type": "code",
   "execution_count": 97,
   "metadata": {
    "ExecuteTime": {
     "end_time": "2017-12-29T22:53:15.345988Z",
     "start_time": "2017-12-29T22:53:15.122544Z"
    }
   },
   "outputs": [
    {
     "name": "stdout",
     "output_type": "stream",
     "text": [
      "[\"Here are two reasons companies fail: they only do more of the same, or they only do what's new\"]\n",
      "[\"I'm extremely excited to be given the opportunity to come and speak to you today about what I consider to be the biggest stunt on Earth\"]\n"
     ]
    }
   ],
   "source": [
    "train_sentences_strings_ted = []\n",
    "valid_sentences_strings_ted = []\n",
    "\n",
    "for line in train_text_noparens.split('\\n'):\n",
    "    m = re.match(r'^(?:(?P<precolon>[^:]{,20}):)?(?P<postcolon>.*)$', line)\n",
    "    train_sentences_strings_ted.extend(sent for sent in m.groupdict()['postcolon'].split('.') if sent)\n",
    "\n",
    "for line in valid_text_noparens.split('\\n'):\n",
    "    m = re.match(r'^(?:(?P<precolon>[^:]{,20}):)?(?P<postcolon>.*)$', line)\n",
    "    valid_sentences_strings_ted.extend(sent for sent in m.groupdict()['postcolon'].split('.') if sent)\n",
    "\n",
    "# Uncomment if you need to save some RAM: these strings are about 50MB.\n",
    "# del input_text, input_text_noparens\n",
    "\n",
    "# Let's view the first few:\n",
    "print(train_sentences_strings_ted[:1])\n",
    "print(valid_sentences_strings_ted[:1])"
   ]
  },
  {
   "cell_type": "markdown",
   "metadata": {
    "ExecuteTime": {
     "end_time": "2017-12-29T04:06:33.630992Z",
     "start_time": "2017-12-29T04:06:33.626981Z"
    }
   },
   "source": [
    "Now that we have sentences, we're ready to tokenize each of them into words. This tokenization is imperfect, of course. For instance, how many tokens is \"can't\", and where/how do we split it? We'll take the simplest naive approach of splitting on spaces. Before splitting, we remove non-alphanumeric characters, such as punctuation. You may want to consider the following question: why do we replace these characters with spaces rather than deleting them? Think of a case where this yields a different answer."
   ]
  },
  {
   "cell_type": "code",
   "execution_count": 98,
   "metadata": {
    "ExecuteTime": {
     "end_time": "2017-12-29T22:53:30.507224Z",
     "start_time": "2017-12-29T22:53:27.714133Z"
    },
    "collapsed": true
   },
   "outputs": [],
   "source": [
    "train_tokens_ted = []\n",
    "valid_tokens_ted = []\n",
    "\n",
    "for sent_str in train_sentences_strings_ted:\n",
    "    tokens = re.sub(r\"[^a-z0-9]+\", \" \", sent_str.lower()).split()\n",
    "    train_tokens_ted.append(tokens)\n",
    "    \n",
    "for sent_str in valid_sentences_strings_ted:\n",
    "    tokens = re.sub(r\"[^a-z0-9]+\", \" \", sent_str.lower()).split()\n",
    "    valid_tokens_ted.append(tokens)"
   ]
  },
  {
   "cell_type": "code",
   "execution_count": 99,
   "metadata": {
    "ExecuteTime": {
     "end_time": "2017-12-29T22:53:30.513743Z",
     "start_time": "2017-12-29T22:53:30.508729Z"
    }
   },
   "outputs": [
    {
     "name": "stdout",
     "output_type": "stream",
     "text": [
      "train tokens: 188306\n",
      "valid tokens: 38182\n"
     ]
    }
   ],
   "source": [
    "print('train tokens:', len(train_tokens_ted))\n",
    "print('valid tokens:', len(valid_tokens_ted))"
   ]
  },
  {
   "cell_type": "code",
   "execution_count": 44,
   "metadata": {
    "ExecuteTime": {
     "end_time": "2017-12-29T17:30:13.562812Z",
     "start_time": "2017-12-29T17:30:01.691151Z"
    }
   },
   "outputs": [],
   "source": [
    "from nltk.stem import WordNetLemmatizer\n",
    "wordnet_lemmatizer = WordNetLemmatizer()\n",
    "\n",
    "train_lems_ted = []\n",
    "for sen in train_tokens_ted:\n",
    "    lems_sen = []\n",
    "    for token in sen:\n",
    "        lems_sen.append(wordnet_lemmatizer.lemmatize(token))\n",
    "    train_lems_ted.append(lems_sen)\n",
    "\n",
    "valid_lems_ted = []\n",
    "for sen in valid_tokens_ted:\n",
    "    lems_sen = []\n",
    "    for token in sen:\n",
    "        lems_sen.append(wordnet_lemmatizer.lemmatize(token))\n",
    "    valid_lems_ted.append(lems_sen)"
   ]
  },
  {
   "cell_type": "code",
   "execution_count": 102,
   "metadata": {
    "ExecuteTime": {
     "end_time": "2017-12-29T22:56:30.876006Z",
     "start_time": "2017-12-29T22:56:30.139057Z"
    }
   },
   "outputs": [
    {
     "name": "stdout",
     "output_type": "stream",
     "text": [
      "before filtered: 47115\n",
      "after filtered 47115\n"
     ]
    }
   ],
   "source": [
    "import collections\n",
    "\n",
    "train_counter = collections.Counter()\n",
    "for sen in train_tokens_ted:\n",
    "    train_counter.update(sen)\n",
    "print('before filtered:', len(train_counter))\n",
    "    \n",
    "min_freq = 1\n",
    "train_filtered = [item for item in train_counter.items() if item[1]>=min_freq]\n",
    "print('after filtered', len(train_filtered))\n",
    "\n",
    "filtered_words = [item for item in train_counter.items() if item[1]<min_freq]\n",
    "\n",
    "train_count_pairs = sorted(train_filtered, key=lambda x:-x[1])\n",
    "train_words, _ = list(zip(*train_count_pairs))\n",
    "word_to_id = dict(zip(train_words, range(len(train_words))))\n"
   ]
  },
  {
   "cell_type": "code",
   "execution_count": 101,
   "metadata": {
    "ExecuteTime": {
     "end_time": "2017-12-29T22:55:24.442222Z",
     "start_time": "2017-12-29T22:55:24.426207Z"
    }
   },
   "outputs": [
    {
     "data": {
      "text/plain": [
       "{'the': 0,\n",
       " 'and': 1,\n",
       " 'to': 2,\n",
       " 'of': 3,\n",
       " 'a': 4,\n",
       " 'that': 5,\n",
       " 'i': 6,\n",
       " 'in': 7,\n",
       " 'it': 8,\n",
       " 'we': 9,\n",
       " 'you': 10,\n",
       " 'is': 11,\n",
       " 's': 12,\n",
       " 'this': 13,\n",
       " 'so': 14,\n",
       " 'they': 15,\n",
       " 'was': 16,\n",
       " 'for': 17,\n",
       " 'are': 18,\n",
       " 'have': 19,\n",
       " 'but': 20,\n",
       " 'what': 21,\n",
       " 'on': 22,\n",
       " 'with': 23,\n",
       " 'can': 24,\n",
       " 't': 25,\n",
       " 'about': 26,\n",
       " 'there': 27,\n",
       " 'be': 28,\n",
       " 'as': 29,\n",
       " 'at': 30,\n",
       " 'my': 31,\n",
       " 'not': 32,\n",
       " 'all': 33,\n",
       " 'do': 34,\n",
       " 'one': 35,\n",
       " 'people': 36,\n",
       " 're': 37,\n",
       " 'like': 38,\n",
       " 'if': 39,\n",
       " 'from': 40,\n",
       " 'our': 41,\n",
       " 'now': 42,\n",
       " 'or': 43,\n",
       " 'an': 44,\n",
       " 'these': 45,\n",
       " 'he': 46,\n",
       " 'just': 47,\n",
       " 'when': 48,\n",
       " 'because': 49,\n",
       " 'me': 50,\n",
       " 'by': 51,\n",
       " 'very': 52,\n",
       " 'how': 53,\n",
       " 'out': 54,\n",
       " 'them': 55,\n",
       " 'more': 56,\n",
       " 'up': 57,\n",
       " 'had': 58,\n",
       " 'their': 59,\n",
       " 'who': 60,\n",
       " 'were': 61,\n",
       " 'going': 62,\n",
       " 'your': 63,\n",
       " 'see': 64,\n",
       " 'know': 65,\n",
       " 'think': 66,\n",
       " 'would': 67,\n",
       " 'which': 68,\n",
       " 'really': 69,\n",
       " 'us': 70,\n",
       " 'here': 71,\n",
       " 've': 72,\n",
       " 'get': 73,\n",
       " 'then': 74,\n",
       " 'time': 75,\n",
       " 'world': 76,\n",
       " 'm': 77,\n",
       " 'some': 78,\n",
       " 'actually': 79,\n",
       " 'has': 80,\n",
       " 'don': 81,\n",
       " 'where': 82,\n",
       " 'into': 83,\n",
       " 'will': 84,\n",
       " 'way': 85,\n",
       " 'years': 86,\n",
       " 'other': 87,\n",
       " 'could': 88,\n",
       " 'well': 89,\n",
       " 'no': 90,\n",
       " 'been': 91,\n",
       " 'things': 92,\n",
       " 'want': 93,\n",
       " 'go': 94,\n",
       " 'she': 95,\n",
       " 'make': 96,\n",
       " 'those': 97,\n",
       " 'right': 98,\n",
       " 'first': 99,\n",
       " 'two': 100,\n",
       " 'something': 101,\n",
       " 'than': 102,\n",
       " 'said': 103,\n",
       " 'also': 104,\n",
       " 'much': 105,\n",
       " 'new': 106,\n",
       " 'look': 107,\n",
       " 'even': 108,\n",
       " 'most': 109,\n",
       " 'over': 110,\n",
       " 'back': 111,\n",
       " 'his': 112,\n",
       " 'work': 113,\n",
       " 'only': 114,\n",
       " 'need': 115,\n",
       " 'many': 116,\n",
       " 'thing': 117,\n",
       " 'little': 118,\n",
       " 'take': 119,\n",
       " 'life': 120,\n",
       " 'got': 121,\n",
       " 'say': 122,\n",
       " 'did': 123,\n",
       " 'every': 124,\n",
       " 'her': 125,\n",
       " 'why': 126,\n",
       " 'around': 127,\n",
       " 'different': 128,\n",
       " 'lot': 129,\n",
       " 'let': 130,\n",
       " 'good': 131,\n",
       " 'through': 132,\n",
       " 'same': 133,\n",
       " 'day': 134,\n",
       " 'kind': 135,\n",
       " 'use': 136,\n",
       " 'being': 137,\n",
       " 'down': 138,\n",
       " 'year': 139,\n",
       " 'come': 140,\n",
       " 'three': 141,\n",
       " 'll': 142,\n",
       " 'd': 143,\n",
       " 'today': 144,\n",
       " 'thank': 145,\n",
       " 'doing': 146,\n",
       " 'called': 147,\n",
       " 'percent': 148,\n",
       " 'any': 149,\n",
       " 'after': 150,\n",
       " 'tell': 151,\n",
       " 'put': 152,\n",
       " 'made': 153,\n",
       " 'find': 154,\n",
       " 'human': 155,\n",
       " 'great': 156,\n",
       " 'fact': 157,\n",
       " 'change': 158,\n",
       " 'own': 159,\n",
       " 'didn': 160,\n",
       " 'started': 161,\n",
       " 'might': 162,\n",
       " 'before': 163,\n",
       " 'its': 164,\n",
       " 'talk': 165,\n",
       " 'better': 166,\n",
       " 'another': 167,\n",
       " 'never': 168,\n",
       " 'idea': 169,\n",
       " 'big': 170,\n",
       " 'should': 171,\n",
       " 'give': 172,\n",
       " 'last': 173,\n",
       " 'together': 174,\n",
       " 'able': 175,\n",
       " 'women': 176,\n",
       " 'problem': 177,\n",
       " 'still': 178,\n",
       " 'important': 179,\n",
       " 'system': 180,\n",
       " 'thought': 181,\n",
       " 'went': 182,\n",
       " 'again': 183,\n",
       " 'story': 184,\n",
       " 'part': 185,\n",
       " 'each': 186,\n",
       " 'next': 187,\n",
       " 'course': 188,\n",
       " 'brain': 189,\n",
       " '000': 190,\n",
       " 'start': 191,\n",
       " 'data': 192,\n",
       " 'him': 193,\n",
       " 'off': 194,\n",
       " 'does': 195,\n",
       " 'few': 196,\n",
       " 'used': 197,\n",
       " 'between': 198,\n",
       " 'ago': 199,\n",
       " 'long': 200,\n",
       " 'came': 201,\n",
       " 'show': 202,\n",
       " 'water': 203,\n",
       " 'example': 204,\n",
       " 'place': 205,\n",
       " 'old': 206,\n",
       " 'found': 207,\n",
       " 'maybe': 208,\n",
       " 'too': 209,\n",
       " 'technology': 210,\n",
       " 'question': 211,\n",
       " 'bit': 212,\n",
       " 'school': 213,\n",
       " 'doesn': 214,\n",
       " 'looking': 215,\n",
       " 'end': 216,\n",
       " 'ever': 217,\n",
       " 'children': 218,\n",
       " 'wanted': 219,\n",
       " '10': 220,\n",
       " 'love': 221,\n",
       " 'live': 222,\n",
       " 'understand': 223,\n",
       " 'done': 224,\n",
       " 'help': 225,\n",
       " 'real': 226,\n",
       " 'mean': 227,\n",
       " 'call': 228,\n",
       " 'four': 229,\n",
       " 'point': 230,\n",
       " 'may': 231,\n",
       " 'information': 232,\n",
       " 'country': 233,\n",
       " 'trying': 234,\n",
       " 'feel': 235,\n",
       " 'always': 236,\n",
       " 'believe': 237,\n",
       " 'away': 238,\n",
       " 'person': 239,\n",
       " 'using': 240,\n",
       " 'working': 241,\n",
       " 'home': 242,\n",
       " 'five': 243,\n",
       " 'means': 244,\n",
       " 'power': 245,\n",
       " 'thinking': 246,\n",
       " 'everything': 247,\n",
       " 'try': 248,\n",
       " 'times': 249,\n",
       " 'become': 250,\n",
       " 'social': 251,\n",
       " 'second': 252,\n",
       " 'create': 253,\n",
       " 'million': 254,\n",
       " 'whole': 255,\n",
       " 'high': 256,\n",
       " 'small': 257,\n",
       " 'money': 258,\n",
       " 'number': 259,\n",
       " 'best': 260,\n",
       " 'okay': 261,\n",
       " 'without': 262,\n",
       " 'took': 263,\n",
       " 'kids': 264,\n",
       " 'left': 265,\n",
       " 'future': 266,\n",
       " 'city': 267,\n",
       " 'sort': 268,\n",
       " 'light': 269,\n",
       " 'men': 270,\n",
       " 'less': 271,\n",
       " 'body': 272,\n",
       " 'making': 273,\n",
       " 'lives': 274,\n",
       " 'food': 275,\n",
       " 'told': 276,\n",
       " 'energy': 277,\n",
       " 'family': 278,\n",
       " 'getting': 279,\n",
       " 'am': 280,\n",
       " 'quite': 281,\n",
       " 'man': 282,\n",
       " 'ask': 283,\n",
       " 'comes': 284,\n",
       " 'happened': 285,\n",
       " 'enough': 286,\n",
       " 'space': 287,\n",
       " 'countries': 288,\n",
       " 'science': 289,\n",
       " 'hard': 290,\n",
       " 'probably': 291,\n",
       " 'talking': 292,\n",
       " 'health': 293,\n",
       " 'such': 294,\n",
       " 'while': 295,\n",
       " 'imagine': 296,\n",
       " 'moment': 297,\n",
       " 'sense': 298,\n",
       " 'across': 299,\n",
       " 'half': 300,\n",
       " 'young': 301,\n",
       " 'saw': 302,\n",
       " 'living': 303,\n",
       " 'care': 304,\n",
       " 'pretty': 305,\n",
       " 'side': 306,\n",
       " 'asked': 307,\n",
       " 'once': 308,\n",
       " 'interesting': 309,\n",
       " 'later': 310,\n",
       " 'yet': 311,\n",
       " 'someone': 312,\n",
       " 'case': 313,\n",
       " 'learn': 314,\n",
       " 'coming': 315,\n",
       " 'anything': 316,\n",
       " 'ways': 317,\n",
       " 'having': 318,\n",
       " 'makes': 319,\n",
       " 'almost': 320,\n",
       " 'design': 321,\n",
       " 'inside': 322,\n",
       " '20': 323,\n",
       " 'building': 324,\n",
       " 'days': 325,\n",
       " 'play': 326,\n",
       " 'happen': 327,\n",
       " 'build': 328,\n",
       " 'experience': 329,\n",
       " 'simple': 330,\n",
       " 'hand': 331,\n",
       " 'room': 332,\n",
       " 'community': 333,\n",
       " 'nothing': 334,\n",
       " 'states': 335,\n",
       " 'open': 336,\n",
       " 'single': 337,\n",
       " 'remember': 338,\n",
       " 'else': 339,\n",
       " 'mind': 340,\n",
       " 'happens': 341,\n",
       " 'seen': 342,\n",
       " 'process': 343,\n",
       " 'myself': 344,\n",
       " 'whether': 345,\n",
       " 'often': 346,\n",
       " 'dollars': 347,\n",
       " 'cells': 348,\n",
       " 'reason': 349,\n",
       " 'global': 350,\n",
       " 'both': 351,\n",
       " 'public': 352,\n",
       " 'government': 353,\n",
       " 'already': 354,\n",
       " 'far': 355,\n",
       " 'sometimes': 356,\n",
       " 'goes': 357,\n",
       " 'move': 358,\n",
       " 'bad': 359,\n",
       " 'six': 360,\n",
       " 'within': 361,\n",
       " 'instead': 362,\n",
       " 'friends': 363,\n",
       " 'wrong': 364,\n",
       " 'project': 365,\n",
       " 'looked': 366,\n",
       " 'possible': 367,\n",
       " 'cancer': 368,\n",
       " 'says': 369,\n",
       " 'problems': 370,\n",
       " 'answer': 371,\n",
       " 'control': 372,\n",
       " 'top': 373,\n",
       " 'months': 374,\n",
       " 'sure': 375,\n",
       " 'research': 376,\n",
       " 'stuff': 377,\n",
       " 'job': 378,\n",
       " 'billion': 379,\n",
       " 'u': 380,\n",
       " 'basically': 381,\n",
       " 'face': 382,\n",
       " 'earth': 383,\n",
       " 'amazing': 384,\n",
       " 'picture': 385,\n",
       " 'business': 386,\n",
       " 'age': 387,\n",
       " 'saying': 388,\n",
       " 'set': 389,\n",
       " 'hope': 390,\n",
       " 'since': 391,\n",
       " 'computer': 392,\n",
       " 'child': 393,\n",
       " 'state': 394,\n",
       " 'keep': 395,\n",
       " 'yes': 396,\n",
       " 'true': 397,\n",
       " 'words': 398,\n",
       " 'self': 399,\n",
       " 'united': 400,\n",
       " 'study': 401,\n",
       " 'woman': 402,\n",
       " 'matter': 403,\n",
       " 'order': 404,\n",
       " 'learned': 405,\n",
       " 'looks': 406,\n",
       " 'history': 407,\n",
       " 'wasn': 408,\n",
       " 'until': 409,\n",
       " 'knew': 410,\n",
       " '30': 411,\n",
       " 'internet': 412,\n",
       " 'bring': 413,\n",
       " 'group': 414,\n",
       " 'against': 415,\n",
       " 'heard': 416,\n",
       " 'share': 417,\n",
       " 'under': 418,\n",
       " 'stories': 419,\n",
       " 'car': 420,\n",
       " 'planet': 421,\n",
       " 'everyone': 422,\n",
       " 'isn': 423,\n",
       " 'read': 424,\n",
       " 'turn': 425,\n",
       " 'middle': 426,\n",
       " 'taking': 427,\n",
       " 'night': 428,\n",
       " 'language': 429,\n",
       " 'war': 430,\n",
       " 'became': 431,\n",
       " 'society': 432,\n",
       " 'stop': 433,\n",
       " 'guy': 434,\n",
       " 'education': 435,\n",
       " 'line': 436,\n",
       " 'places': 437,\n",
       " 'decided': 438,\n",
       " 'video': 439,\n",
       " 'questions': 440,\n",
       " 'level': 441,\n",
       " 'though': 442,\n",
       " 'ourselves': 443,\n",
       " 'themselves': 444,\n",
       " 'book': 445,\n",
       " 'built': 446,\n",
       " 'everybody': 447,\n",
       " 'couple': 448,\n",
       " 'form': 449,\n",
       " 'exactly': 450,\n",
       " 'heart': 451,\n",
       " 'oh': 452,\n",
       " 'works': 453,\n",
       " 'black': 454,\n",
       " 'beautiful': 455,\n",
       " '100': 456,\n",
       " 'created': 457,\n",
       " 'run': 458,\n",
       " 'completely': 459,\n",
       " '50': 460,\n",
       " 'music': 461,\n",
       " 'students': 462,\n",
       " 'ideas': 463,\n",
       " 'gets': 464,\n",
       " 'model': 465,\n",
       " 'word': 466,\n",
       " 'turns': 467,\n",
       " 'happening': 468,\n",
       " 'somebody': 469,\n",
       " 'hours': 470,\n",
       " 'name': 471,\n",
       " 'head': 472,\n",
       " 'large': 473,\n",
       " 'disease': 474,\n",
       " 'hear': 475,\n",
       " 'american': 476,\n",
       " 'thousands': 477,\n",
       " 'front': 478,\n",
       " 'america': 479,\n",
       " 'environment': 480,\n",
       " 'mother': 481,\n",
       " 'animals': 482,\n",
       " 'art': 483,\n",
       " 'others': 484,\n",
       " 'piece': 485,\n",
       " 'learning': 486,\n",
       " 'india': 487,\n",
       " 'huge': 488,\n",
       " 'kinds': 489,\n",
       " 'rather': 490,\n",
       " 'past': 491,\n",
       " 'systems': 492,\n",
       " 'early': 493,\n",
       " 'sound': 494,\n",
       " 'worked': 495,\n",
       " 'minutes': 496,\n",
       " 'company': 497,\n",
       " 'during': 498,\n",
       " 'based': 499,\n",
       " 'itself': 500,\n",
       " 'third': 501,\n",
       " 'game': 502,\n",
       " 'house': 503,\n",
       " 'changed': 504,\n",
       " 'entire': 505,\n",
       " 'couldn': 506,\n",
       " 'perhaps': 507,\n",
       " 'africa': 508,\n",
       " 'species': 509,\n",
       " 'least': 510,\n",
       " 'must': 511,\n",
       " 'companies': 512,\n",
       " 'nature': 513,\n",
       " 'yeah': 514,\n",
       " 'century': 515,\n",
       " '1': 516,\n",
       " 'given': 517,\n",
       " 'ones': 518,\n",
       " 'local': 519,\n",
       " 'behind': 520,\n",
       " 'reality': 521,\n",
       " 'gave': 522,\n",
       " 'news': 523,\n",
       " 'china': 524,\n",
       " 'lots': 525,\n",
       " 'per': 526,\n",
       " 'particular': 527,\n",
       " 'difficult': 528,\n",
       " 'machine': 529,\n",
       " 'cities': 530,\n",
       " '15': 531,\n",
       " 'guys': 532,\n",
       " 'free': 533,\n",
       " 'team': 534,\n",
       " 'parents': 535,\n",
       " 'leave': 536,\n",
       " 'cell': 537,\n",
       " 'patients': 538,\n",
       " 'full': 539,\n",
       " 'finally': 540,\n",
       " 'easy': 541,\n",
       " 'yourself': 542,\n",
       " 'along': 543,\n",
       " 'outside': 544,\n",
       " 'figure': 545,\n",
       " 'taken': 546,\n",
       " 'population': 547,\n",
       " 'simply': 548,\n",
       " 'difference': 549,\n",
       " 'natural': 550,\n",
       " 'needed': 551,\n",
       " 'culture': 552,\n",
       " 'father': 553,\n",
       " 'takes': 554,\n",
       " 'air': 555,\n",
       " 'close': 556,\n",
       " 'seeing': 557,\n",
       " 'realized': 558,\n",
       " 'economic': 559,\n",
       " 'happy': 560,\n",
       " 'image': 561,\n",
       " 'scale': 562,\n",
       " 'eyes': 563,\n",
       " 'powerful': 564,\n",
       " 'ocean': 565,\n",
       " 'fish': 566,\n",
       " 'turned': 567,\n",
       " 'political': 568,\n",
       " 'seven': 569,\n",
       " 'felt': 570,\n",
       " 'universe': 571,\n",
       " 'needs': 572,\n",
       " 'won': 573,\n",
       " 'ted': 574,\n",
       " 'media': 575,\n",
       " 'red': 576,\n",
       " 'cost': 577,\n",
       " 'week': 578,\n",
       " 'hands': 579,\n",
       " 'spend': 580,\n",
       " 'known': 581,\n",
       " 'death': 582,\n",
       " 'humans': 583,\n",
       " 'parts': 584,\n",
       " 'blue': 585,\n",
       " 'white': 586,\n",
       " 'area': 587,\n",
       " 'walk': 588,\n",
       " 'york': 589,\n",
       " 'terms': 590,\n",
       " 'longer': 591,\n",
       " 'grow': 592,\n",
       " 'challenge': 593,\n",
       " 'national': 594,\n",
       " 'weeks': 595,\n",
       " 'friend': 596,\n",
       " 'step': 597,\n",
       " 'began': 598,\n",
       " 'cannot': 599,\n",
       " 'spent': 600,\n",
       " 'paper': 601,\n",
       " 'growth': 602,\n",
       " 'risk': 603,\n",
       " 'field': 604,\n",
       " 'green': 605,\n",
       " 'born': 606,\n",
       " 'shows': 607,\n",
       " 'poor': 608,\n",
       " 'low': 609,\n",
       " 'girl': 610,\n",
       " 'phone': 611,\n",
       " 'changes': 612,\n",
       " 'eight': 613,\n",
       " 'physical': 614,\n",
       " 'climate': 615,\n",
       " 'certain': 616,\n",
       " 'moving': 617,\n",
       " 'online': 618,\n",
       " 'land': 619,\n",
       " 'hundreds': 620,\n",
       " 'opportunity': 621,\n",
       " 'sitting': 622,\n",
       " 'common': 623,\n",
       " 'lost': 624,\n",
       " 'view': 625,\n",
       " 'beginning': 626,\n",
       " 'size': 627,\n",
       " 'value': 628,\n",
       " 'oil': 629,\n",
       " 'access': 630,\n",
       " 'feeling': 631,\n",
       " 'pay': 632,\n",
       " 'average': 633,\n",
       " 'center': 634,\n",
       " 'tried': 635,\n",
       " 'ability': 636,\n",
       " 'either': 637,\n",
       " 'amount': 638,\n",
       " 'images': 639,\n",
       " 'gone': 640,\n",
       " 'fear': 641,\n",
       " 'attention': 642,\n",
       " 'write': 643,\n",
       " 'market': 644,\n",
       " 'street': 645,\n",
       " 'medical': 646,\n",
       " 'scientists': 647,\n",
       " 'growing': 648,\n",
       " 'economy': 649,\n",
       " 'blood': 650,\n",
       " 'behavior': 651,\n",
       " 'whatever': 652,\n",
       " 'numbers': 653,\n",
       " 'god': 654,\n",
       " 'met': 655,\n",
       " 'wouldn': 656,\n",
       " 'rest': 657,\n",
       " 'test': 658,\n",
       " 'speak': 659,\n",
       " 'movement': 660,\n",
       " 'south': 661,\n",
       " 'quickly': 662,\n",
       " 'complex': 663,\n",
       " 'buy': 664,\n",
       " 'deal': 665,\n",
       " 'girls': 666,\n",
       " 'anyone': 667,\n",
       " 'giving': 668,\n",
       " 'interested': 669,\n",
       " '2': 670,\n",
       " 'alone': 671,\n",
       " 'realize': 672,\n",
       " 'law': 673,\n",
       " 'lab': 674,\n",
       " 'areas': 675,\n",
       " 'deep': 676,\n",
       " 'morning': 677,\n",
       " 'animal': 678,\n",
       " 'drug': 679,\n",
       " 'support': 680,\n",
       " 'voice': 681,\n",
       " 'developed': 682,\n",
       " 'hold': 683,\n",
       " 'knowledge': 684,\n",
       " 'individual': 685,\n",
       " 'millions': 686,\n",
       " 'development': 687,\n",
       " 'patient': 688,\n",
       " 'stage': 689,\n",
       " 'understanding': 690,\n",
       " 'innovation': 691,\n",
       " 'audience': 692,\n",
       " 'map': 693,\n",
       " 'issue': 694,\n",
       " 'act': 695,\n",
       " 'key': 696,\n",
       " '40': 697,\n",
       " 'rights': 698,\n",
       " 'result': 699,\n",
       " 'absolutely': 700,\n",
       " 'incredible': 701,\n",
       " 'telling': 702,\n",
       " 'kid': 703,\n",
       " 'structure': 704,\n",
       " 'ground': 705,\n",
       " 'watch': 706,\n",
       " 'dna': 707,\n",
       " 'seems': 708,\n",
       " 'bottom': 709,\n",
       " 'program': 710,\n",
       " 'north': 711,\n",
       " 'changing': 712,\n",
       " 'personal': 713,\n",
       " 'brought': 714,\n",
       " 'die': 715,\n",
       " 'wrote': 716,\n",
       " 'sea': 717,\n",
       " 'europe': 718,\n",
       " 'eat': 719,\n",
       " 'choice': 720,\n",
       " 'drugs': 721,\n",
       " 'wonderful': 722,\n",
       " 'tools': 723,\n",
       " 'short': 724,\n",
       " 'especially': 725,\n",
       " 'class': 726,\n",
       " 'forward': 727,\n",
       " 'network': 728,\n",
       " 'normal': 729,\n",
       " 'communities': 730,\n",
       " 'books': 731,\n",
       " 'asking': 732,\n",
       " 'clear': 733,\n",
       " 'starting': 734,\n",
       " 'rate': 735,\n",
       " 'creating': 736,\n",
       " 'violence': 737,\n",
       " 'surface': 738,\n",
       " 'issues': 739,\n",
       " 'playing': 740,\n",
       " 'literally': 741,\n",
       " 'nice': 742,\n",
       " 'fast': 743,\n",
       " 'running': 744,\n",
       " 'recently': 745,\n",
       " 'baby': 746,\n",
       " 'material': 747,\n",
       " 'soon': 748,\n",
       " 'tiny': 749,\n",
       " 'solve': 750,\n",
       " '12': 751,\n",
       " 'several': 752,\n",
       " 'evidence': 753,\n",
       " 'digital': 754,\n",
       " 'technologies': 755,\n",
       " 'box': 756,\n",
       " 'solution': 757,\n",
       " 'special': 758,\n",
       " 'impact': 759,\n",
       " 'resources': 760,\n",
       " 'likely': 761,\n",
       " 'cars': 762,\n",
       " 'allow': 763,\n",
       " 'meet': 764,\n",
       " 'fly': 765,\n",
       " 'hour': 766,\n",
       " 'miles': 767,\n",
       " 'writing': 768,\n",
       " 'pick': 769,\n",
       " 'groups': 770,\n",
       " 'generation': 771,\n",
       " 'beyond': 772,\n",
       " 'relationship': 773,\n",
       " 'university': 774,\n",
       " 'seem': 775,\n",
       " 'international': 776,\n",
       " 'save': 777,\n",
       " 'hundred': 778,\n",
       " 'stand': 779,\n",
       " 'type': 780,\n",
       " 'indeed': 781,\n",
       " 'available': 782,\n",
       " 'color': 783,\n",
       " 'robot': 784,\n",
       " 'stay': 785,\n",
       " 'security': 786,\n",
       " 'message': 787,\n",
       " 'showed': 788,\n",
       " 'send': 789,\n",
       " 'trust': 790,\n",
       " 'cut': 791,\n",
       " 'wall': 792,\n",
       " 'situation': 793,\n",
       " 'led': 794,\n",
       " 'office': 795,\n",
       " 'gives': 796,\n",
       " 'modern': 797,\n",
       " 'english': 798,\n",
       " 'dead': 799,\n",
       " 'industry': 800,\n",
       " 'developing': 801,\n",
       " 'eye': 802,\n",
       " 'discovered': 803,\n",
       " 'cause': 804,\n",
       " 'revolution': 805,\n",
       " 'term': 806,\n",
       " 'dark': 807,\n",
       " 'nobody': 808,\n",
       " 'crazy': 809,\n",
       " 'sex': 810,\n",
       " 'ready': 811,\n",
       " 'obviously': 812,\n",
       " 'bigger': 813,\n",
       " 'similar': 814,\n",
       " 'journey': 815,\n",
       " 'produce': 816,\n",
       " 'quality': 817,\n",
       " 'chance': 818,\n",
       " 'west': 819,\n",
       " 'police': 820,\n",
       " 'device': 821,\n",
       " 'product': 822,\n",
       " 'designed': 823,\n",
       " 'sun': 824,\n",
       " 'ice': 825,\n",
       " 'focus': 826,\n",
       " 'major': 827,\n",
       " 'sounds': 828,\n",
       " 'memory': 829,\n",
       " 'reasons': 830,\n",
       " 'aren': 831,\n",
       " 'incredibly': 832,\n",
       " 'nine': 833,\n",
       " 'medicine': 834,\n",
       " 'truth': 835,\n",
       " 'force': 836,\n",
       " 'feet': 837,\n",
       " 'month': 838,\n",
       " 'democracy': 839,\n",
       " 'cool': 840,\n",
       " 'doctor': 841,\n",
       " 'examples': 842,\n",
       " 'suddenly': 843,\n",
       " 'measure': 844,\n",
       " 'dream': 845,\n",
       " 'scientific': 846,\n",
       " 'boy': 847,\n",
       " 'chinese': 848,\n",
       " 'hit': 849,\n",
       " 'potential': 850,\n",
       " 'begin': 851,\n",
       " 'towards': 852,\n",
       " 'basic': 853,\n",
       " 'walking': 854,\n",
       " 'talked': 855,\n",
       " 'worth': 856,\n",
       " 'camera': 857,\n",
       " 'google': 858,\n",
       " 'games': 859,\n",
       " 'explain': 860,\n",
       " 'action': 861,\n",
       " 'hospital': 862,\n",
       " 'theory': 863,\n",
       " 'college': 864,\n",
       " 'teach': 865,\n",
       " 'choose': 866,\n",
       " 'present': 867,\n",
       " 'starts': 868,\n",
       " 'effect': 869,\n",
       " 'source': 870,\n",
       " 'sleep': 871,\n",
       " 'experiment': 872,\n",
       " 'haven': 873,\n",
       " 'lived': 874,\n",
       " 'knows': 875,\n",
       " 'involved': 876,\n",
       " 'success': 877,\n",
       " 'notice': 878,\n",
       " 'reach': 879,\n",
       " 'please': 880,\n",
       " 'individuals': 881,\n",
       " 'solar': 882,\n",
       " 'perfect': 883,\n",
       " 'plant': 884,\n",
       " 'putting': 885,\n",
       " 'approach': 886,\n",
       " 'listen': 887,\n",
       " 'watching': 888,\n",
       " 'east': 889,\n",
       " 'died': 890,\n",
       " 'conversation': 891,\n",
       " 'general': 892,\n",
       " 'including': 893,\n",
       " 'pictures': 894,\n",
       " 'safe': 895,\n",
       " 'carbon': 896,\n",
       " 'guess': 897,\n",
       " 'leaders': 898,\n",
       " 'computers': 899,\n",
       " 'freedom': 900,\n",
       " 'becomes': 901,\n",
       " '25': 902,\n",
       " 'table': 903,\n",
       " 'fight': 904,\n",
       " 'among': 905,\n",
       " 'cases': 906,\n",
       " 'certainly': 907,\n",
       " 'non': 908,\n",
       " 'largest': 909,\n",
       " 'higher': 910,\n",
       " 'drive': 911,\n",
       " '60': 912,\n",
       " 'worse': 913,\n",
       " 'biggest': 914,\n",
       " 'film': 915,\n",
       " 'eventually': 916,\n",
       " '3': 917,\n",
       " 'doctors': 918,\n",
       " 'organization': 919,\n",
       " 'schools': 920,\n",
       " 'favorite': 921,\n",
       " 'break': 922,\n",
       " 'families': 923,\n",
       " 'everywhere': 924,\n",
       " 'extremely': 925,\n",
       " 'connected': 926,\n",
       " 'objects': 927,\n",
       " 'fun': 928,\n",
       " 'particularly': 929,\n",
       " 'results': 930,\n",
       " 'onto': 931,\n",
       " 'grew': 932,\n",
       " 'anybody': 933,\n",
       " 'response': 934,\n",
       " 'standing': 935,\n",
       " 'sit': 936,\n",
       " '200': 937,\n",
       " 'moved': 938,\n",
       " 'develop': 939,\n",
       " 'faster': 940,\n",
       " 'strong': 941,\n",
       " 'son': 942,\n",
       " 'code': 943,\n",
       " 'protect': 944,\n",
       " 'allowed': 945,\n",
       " 'plan': 946,\n",
       " 'creative': 947,\n",
       " 'mom': 948,\n",
       " 'role': 949,\n",
       " 'treatment': 950,\n",
       " 'shown': 951,\n",
       " 'fire': 952,\n",
       " 'waste': 953,\n",
       " 'further': 954,\n",
       " 'extraordinary': 955,\n",
       " 'wants': 956,\n",
       " 'sent': 957,\n",
       " 'bodies': 958,\n",
       " 'finding': 959,\n",
       " 'jobs': 960,\n",
       " 'conditions': 961,\n",
       " '11': 962,\n",
       " 'brains': 963,\n",
       " 'teachers': 964,\n",
       " 'showing': 965,\n",
       " 'road': 966,\n",
       " 'positive': 967,\n",
       " 'models': 968,\n",
       " 'minute': 969,\n",
       " 'however': 970,\n",
       " 'wife': 971,\n",
       " 'shape': 972,\n",
       " 'crisis': 973,\n",
       " 'totally': 974,\n",
       " 'loved': 975,\n",
       " 'follow': 976,\n",
       " 'software': 977,\n",
       " 'taught': 978,\n",
       " 'older': 979,\n",
       " 'period': 980,\n",
       " 'wait': 981,\n",
       " 'tells': 982,\n",
       " 'essentially': 983,\n",
       " 'decision': 984,\n",
       " 'vision': 985,\n",
       " 'web': 986,\n",
       " '80': 987,\n",
       " 'smart': 988,\n",
       " 'studies': 989,\n",
       " 'add': 990,\n",
       " 'continue': 991,\n",
       " 'object': 992,\n",
       " 'visual': 993,\n",
       " 'activity': 994,\n",
       " 'lead': 995,\n",
       " 'skin': 996,\n",
       " 'usually': 997,\n",
       " 'truly': 998,\n",
       " 'progress': 999,\n",
       " ...}"
      ]
     },
     "execution_count": 101,
     "metadata": {},
     "output_type": "execute_result"
    }
   ],
   "source": [
    "word_to_id"
   ]
  },
  {
   "cell_type": "markdown",
   "metadata": {
    "ExecuteTime": {
     "end_time": "2017-12-29T17:31:30.919067Z",
     "start_time": "2017-12-29T17:31:30.915056Z"
    }
   },
   "source": [
    "words appears in the valid dataset but not in the training dataset, map these words to a special token. "
   ]
  },
  {
   "cell_type": "code",
   "execution_count": 57,
   "metadata": {
    "ExecuteTime": {
     "end_time": "2017-12-29T17:56:15.336549Z",
     "start_time": "2017-12-29T17:56:15.321509Z"
    }
   },
   "outputs": [
    {
     "name": "stdout",
     "output_type": "stream",
     "text": [
      "22583\n",
      "3823\n"
     ]
    }
   ],
   "source": [
    "special_token = '<unkown>'\n",
    "\n",
    "len_vocab = len(word_to_id)\n",
    "unkown_words = []\n",
    "\n",
    "print(len(valid_counter))\n",
    "for word, _ in valid_counter.items():\n",
    "    if word not in word_to_id:\n",
    "        unkown_words.append(word)\n",
    "print(len(unkown_words))"
   ]
  },
  {
   "cell_type": "markdown",
   "metadata": {
    "ExecuteTime": {
     "end_time": "2017-12-29T17:31:01.118582Z",
     "start_time": "2017-12-29T17:31:01.115062Z"
    }
   },
   "source": [
    "### Convert word to numeric"
   ]
  },
  {
   "cell_type": "code",
   "execution_count": 192,
   "metadata": {
    "ExecuteTime": {
     "end_time": "2017-12-30T04:28:05.921209Z",
     "start_time": "2017-12-30T04:28:05.912185Z"
    }
   },
   "outputs": [],
   "source": [
    "labels = {'TED': 0, 'TEo':1, 'ToD':2, 'oED':3, 'Too':4, 'oEo':5, 'ooD':6, 'ooo':7}\n",
    "\n",
    "def convert_to_num(pairs):\n",
    "    pairs_int = {}\n",
    "    for text, label in pairs.items():\n",
    "        text_int = [word_to_id[word] for word in text if word in word_to_id]\n",
    "        label_int = np.zeros(8)\n",
    "        label_int[labels[label]] = 1\n",
    "        pairs_int[tuple(text_int)] = label_int\n",
    "    return pairs_int"
   ]
  },
  {
   "cell_type": "code",
   "execution_count": 193,
   "metadata": {
    "ExecuteTime": {
     "end_time": "2017-12-30T04:28:10.573785Z",
     "start_time": "2017-12-30T04:28:09.608650Z"
    },
    "collapsed": true
   },
   "outputs": [],
   "source": [
    "train_pairs_int = convert_to_num(train_pairs_)\n",
    "valid_pairs_int = convert_to_num(valid_pairs_)"
   ]
  },
  {
   "cell_type": "code",
   "execution_count": 195,
   "metadata": {
    "ExecuteTime": {
     "end_time": "2017-12-30T04:28:51.229388Z",
     "start_time": "2017-12-30T04:28:51.224370Z"
    }
   },
   "outputs": [
    {
     "name": "stdout",
     "output_type": "stream",
     "text": [
      "(71, 18, 100, 830, 512, 1855, 15, 114, 34, 56, 3, 0, 133, 43, 15, 114, 34, 21, 12, 106, 2, 50, 0, 226, 226, 757, 2, 817, 602, 11, 3530, 54, 0, 1856, 198, 100, 2093, 2343, 1, 5215, 351, 18, 1582, 20, 8, 24, 28, 209, 105, 3, 4, 131, 117, 1014, 13767, 6, 77, 79, 206, 286, 2, 338, 55, 13767, 16, 4, 1225, 497, 15, 61, 606, 676, 7, 0, 7201, 1200, 1, 15, 153, 0, 260, 2227, 16357, 7, 0, 76, 447, 197, 55, 1, 21, 123, 13767, 34, 48, 0, 2642, 9880, 201, 543, 15, 3069, 146, 450, 0, 133, 7, 360, 374, 15, 182, 40, 5537, 3715, 1, 15, 61, 640, 640, 2, 50, 0, 4769, 26, 0, 13767, 184, 11, 1440, 26, 0, 13767, 1834, 60, 58, 1518, 2266, 257, 2642, 16357, 7, 1640, 5, 15, 197, 2, 1753, 1506, 59, 16357, 13767, 123, 209, 105, 5215, 20, 2343, 24, 94, 1682, 209, 4, 196, 86, 111, 6, 495, 2728, 4480, 4, 1472, 7857, 497, 130, 12, 228, 55, 20741, 0, 497, 16, 1783, 15, 58, 2279, 5, 3716, 2, 6176, 108, 1808, 616, 1100, 3, 650, 368, 124, 134, 16, 26, 736, 101, 106, 15, 61, 925, 2358, 1, 0, 6964, 16, 48, 9, 114, 73, 8, 98, 43, 108, 9, 93, 8, 883, 0, 1784, 117, 11, 163, 15, 431, 883, 108, 131, 286, 15, 431, 4956, 20741, 123, 209, 105, 2343, 6, 99, 416, 26, 2343, 1, 5215, 26, 531, 86, 199, 48, 6, 495, 29, 4, 4404, 6323, 30, 3488, 774, 0, 6177, 3, 0, 169, 11, 3941, 2248, 1, 2, 50, 0, 245, 3, 0, 169, 11, 164, 18167, 2343, 2343, 11, 26, 315, 57, 23, 21, 12, 106, 8, 12, 26, 1152, 8, 12, 26, 1539, 8, 12, 26, 106, 1057, 8, 12, 26, 106, 2993, 8, 12, 26, 712, 41, 8716, 41, 2859, 18, 36, 60, 19, 224, 2343, 18168, 20742, 8717, 9040, 9458, 2643, 16358, 10329, 1729, 6, 140, 40, 3942, 33, 41, 2859, 18, 7634, 1, 15, 3427, 2, 28, 9, 33, 65, 5, 2343, 11, 3880, 9, 81, 25, 65, 0, 1342, 9, 81, 25, 65, 39, 9, 37, 62, 2, 154, 55, 1, 9, 65, 5, 0, 1798, 18, 256, 5215, 11, 0, 1377, 5215, 11, 427, 0, 684, 9, 19, 1, 273, 131, 166, 5215, 11, 26, 273, 41, 3659, 458, 22, 75, 8, 12, 26, 273, 131, 1057, 940, 1, 2579, 5215, 11, 32, 3880, 7, 0, 724, 806, 20, 39, 9, 114, 4405, 8, 12, 52, 3880, 7, 0, 200, 806, 1, 6, 66, 9, 33, 19, 1942, 3, 0, 1170, 2022, 770, 60, 395, 2546, 0, 133, 2624, 183, 1, 183, 409, 15, 250, 4956, 43, 108, 9459, 5, 12, 0, 603, 3, 5215, 14, 39, 9, 119, 4, 200, 806, 1069, 9, 1414, 39, 9, 119, 4, 724, 806, 1069, 9, 4405, 257, 218, 15, 1414, 33, 134, 33, 134, 8, 12, 26, 2343, 29, 9, 592, 979, 9, 1414, 271, 49, 9, 19, 56, 684, 2, 4405, 22, 0, 133, 357, 17, 512, 512, 250, 51, 513, 271, 2358, 29, 15, 250, 56, 7635, 1, 13, 11, 3, 188, 4, 170, 1324, 2, 5216, 1, 6, 475, 52, 346, 440, 20743, 7, 128, 317, 17, 204, 53, 24, 6, 351, 1905, 458, 1, 5764, 31, 497, 43, 53, 24, 6, 96, 375, 5, 41, 497, 612, 163, 9, 250, 4956, 43, 18, 849, 51, 4, 973, 14, 146, 35, 89, 11, 528, 146, 351, 89, 29, 0, 133, 75, 11, 483, 2326, 351, 2343, 1, 5215, 14, 35, 117, 9, 72, 207, 11, 114, 26, 100, 148, 3, 512, 18, 175, 2, 1905, 1414, 1, 4405, 30, 0, 133, 75, 7, 3569, 20, 48, 15, 34, 0, 14920, 18, 488, 14, 9, 19, 525, 3, 156, 842, 9, 19, 30982, 736, 30983, 9, 19, 4545, 62, 83, 6965, 3120, 10860, 736, 0, 13768, 11453, 2326, 83, 2644, 27, 18, 525, 3, 842, 1, 0, 1576, 18, 488, 126, 11, 6636, 14, 528, 6, 66, 8, 12, 528, 49, 27, 18, 14, 116, 9041, 5, 395, 70, 82, 9, 18, 14, 6, 142, 165, 26, 100, 20, 27, 18, 116, 14, 130, 12, 165, 26, 0, 8406, 1152, 5422, 9, 1483, 101, 20, 9, 81, 25, 19, 0, 6026, 43, 0, 8718, 2, 73, 30, 8, 1, 96, 8, 113, 14, 362, 3, 3608, 23, 8, 9, 253, 101, 106, 20, 0, 133, 357, 17, 5, 74, 9, 37, 7, 0, 6478, 1706, 3, 79, 315, 57, 23, 463, 20, 137, 3039, 20741, 16, 4, 131, 204, 4, 1170, 204, 11, 3, 188, 13769, 20, 9, 81, 25, 114, 64, 13, 7, 512, 9, 64, 13, 7, 0, 352, 1730, 29, 89, 9, 33, 65, 5, 149, 135, 3, 1037, 2994, 3, 435, 376, 293, 304, 108, 2492, 554, 220, 531, 208, 323, 86, 2, 113, 20, 178, 9, 158, 105, 56, 346, 9, 69, 81, 25, 172, 55, 0, 818, 167, 5422, 11, 0, 877, 5422, 13767, 1823, 83, 0, 877, 5422, 15, 741, 1441, 0, 266, 7, 59, 579, 20, 15, 506, 25, 64, 8, 15, 61, 548, 14, 131, 30, 273, 21, 15, 975, 146, 5, 15, 656, 25, 158, 9, 18, 38, 5, 209, 48, 9, 65, 101, 89, 8, 12, 528, 2, 158, 1459, 3070, 80, 103, 877, 11, 4, 10330, 1015, 8, 30984, 70, 83, 246, 9, 599, 1855, 5, 12, 0, 593, 23, 877, 14, 6, 66, 27, 18, 78, 2134, 1, 6, 66, 15, 1432, 2, 70, 1, 15, 1432, 2, 41, 512, 0, 99, 1595, 11, 73, 1266, 3, 0, 973, 1, 149, 497, 5, 12, 175, 2, 5121, 11, 79, 175, 2, 104, 664, 44, 2729, 7, 0, 266, 7202, 15, 88, 14, 1387, 19, 91, 1242, 23, 1147, 1925, 3, 2037, 20, 15, 236, 1, 6, 66, 15, 84, 236, 395, 2326, 17, 0, 187, 2280, 6, 64, 87, 512, 5, 122, 6, 142, 1213, 0, 187, 691, 1688, 652, 8, 554, 252, 35, 66, 7, 1603, 75, 3355, 6, 142, 417, 4, 2580, 23, 10, 1, 6, 66, 8, 12, 4, 722, 35, 149, 497, 9, 107, 30, 427, 4, 35, 139, 1069, 1, 215, 30, 0, 12097, 3, 0, 497, 691, 2162, 3609, 17, 114, 26, 411, 148, 14, 48, 9, 66, 35, 139, 691, 423, 25, 69, 5, 179, 358, 1266, 119, 4, 220, 139, 1069, 22, 0, 133, 497, 843, 691, 1, 636, 2, 20744, 1589, 17, 1236, 148, 20, 512, 24, 25, 866, 15, 115, 2, 1906, 0, 815, 1, 995, 0, 200, 806, 501, 2562, 3121, 6, 81, 25, 66, 8, 12, 367, 17, 149, 3, 70, 2, 28, 175, 2, 1856, 2343, 1, 5215, 51, 443, 6, 66, 8, 12, 4, 534, 3531, 6, 66, 9, 115, 2, 763, 2249, 6, 66, 0, 1967, 3, 4, 156, 497, 11, 137, 336, 2, 28, 3780, 1, 0, 1967, 3, 4, 131, 2603, 1192, 11, 2, 18169, 593, 6, 66, 5, 12, 104, 21, 131, 5765, 11, 26, 173, 35, 28, 6027, 3, 877, 208, 8, 12, 1257, 2, 66, 111, 30, 0, 206, 7403, 9042, 7, 6324, 48, 0, 14921, 150, 4, 170, 5423, 61, 517, 59, 6966, 4691, 83, 6324, 22, 0, 12861, 15, 236, 58, 4, 9881, 13770, 7, 59, 2995, 338, 10, 37, 114, 155, 14, 6, 390, 6, 153, 0, 230, 6636, 2343, 1, 5215, 80, 4, 488, 10861, 20, 8, 12, 528, 1, 9, 115, 2, 28, 1799, 6, 93, 2, 47, 230, 54, 100, 440, 5, 6, 66, 18, 1257, 99, 211, 11, 215, 30, 63, 159, 497, 7, 68, 675, 34, 10, 64, 5, 0, 497, 11, 30, 0, 603, 3, 2228, 83, 877, 9041, 3, 47, 62, 22, 16359, 1, 21, 24, 10, 34, 2, 593, 252, 211, 11, 48, 123, 6, 1414, 101, 106, 173, 1, 21, 135, 3, 869, 123, 8, 19, 22, 50, 11, 5, 101, 6, 171, 34, 56, 3, 7, 31, 313, 396, 14, 130, 50, 536, 10, 23, 13, 345, 10, 37, 44, 6794, 51, 513, 43, 345, 10, 1095, 2, 4405, 21, 10, 354, 65, 81, 25, 1226, 0, 1325, 11, 7, 0, 1856, 145, 10) [ 0.  0.  0.  0.  0.  0.  0.  1.]\n"
     ]
    }
   ],
   "source": [
    "for i, j in train_pairs_int.items():\n",
    "    print(i, j)\n",
    "    break"
   ]
  },
  {
   "cell_type": "code",
   "execution_count": 210,
   "metadata": {
    "ExecuteTime": {
     "end_time": "2017-12-30T04:34:22.415917Z",
     "start_time": "2017-12-30T04:34:22.408397Z"
    }
   },
   "outputs": [],
   "source": [
    "def get_data_label(pairs_int):\n",
    "    data = []\n",
    "    labels = np.zeros([len(pairs_int), 8], dtype=np.float32)\n",
    "    i = 0\n",
    "    for text, label in pairs_int.items():\n",
    "        data.append(list(text))\n",
    "        #labels.append(label)\n",
    "        labels[i, :] = label\n",
    "        i += 1\n",
    "    return data, labels"
   ]
  },
  {
   "cell_type": "code",
   "execution_count": 211,
   "metadata": {
    "ExecuteTime": {
     "end_time": "2017-12-30T04:34:23.032040Z",
     "start_time": "2017-12-30T04:34:22.983866Z"
    },
    "collapsed": true
   },
   "outputs": [],
   "source": [
    "train_data, train_labels = get_data_label(train_pairs_int)\n",
    "valid_data, valid_labels = get_data_label(valid_pairs_int)"
   ]
  },
  {
   "cell_type": "code",
   "execution_count": 212,
   "metadata": {
    "ExecuteTime": {
     "end_time": "2017-12-30T04:34:24.722532Z",
     "start_time": "2017-12-30T04:34:24.719549Z"
    },
    "collapsed": true
   },
   "outputs": [],
   "source": [
    "assert len(train_data) == len(train_labels)\n",
    "assert len(valid_data) == len(valid_labels)"
   ]
  },
  {
   "cell_type": "markdown",
   "metadata": {},
   "source": [
    "### Bulid model"
   ]
  },
  {
   "cell_type": "code",
   "execution_count": 200,
   "metadata": {
    "ExecuteTime": {
     "end_time": "2017-12-30T04:29:34.008202Z",
     "start_time": "2017-12-30T04:29:34.000203Z"
    }
   },
   "outputs": [],
   "source": [
    "from keras.layers import Dense, Input, LSTM, Embedding, Dropout, Activation\n",
    "from keras.layers.merge import concatenate\n",
    "from keras.models import Model, Sequential\n",
    "from keras.layers.normalization import BatchNormalization\n",
    "from keras.callbacks import EarlyStopping, ModelCheckpoint\n",
    "from keras import optimizers\n",
    "import keras.backend as K\n",
    "import random\n",
    "\n",
    "random.seed(55)"
   ]
  },
  {
   "cell_type": "code",
   "execution_count": 201,
   "metadata": {
    "ExecuteTime": {
     "end_time": "2017-12-30T04:29:36.511646Z",
     "start_time": "2017-12-30T04:29:36.400302Z"
    }
   },
   "outputs": [],
   "source": [
    "import vsmlib\n",
    "\n",
    "def load_glove(word_to_id, emb_size):\n",
    "    path = 'glove.6B.50d.txt'\n",
    "    wordvecs = {}\n",
    "    with open(path, 'r', encoding=\"utf-8\") as file:\n",
    "        lines = file.readlines()\n",
    "        for line in lines:\n",
    "            tokens = line.split(' ')\n",
    "            vec = np.array(tokens[1:], dtype=np.float32)\n",
    "            wordvecs[tokens[0]] = vec\n",
    "    file.close()\n",
    "        \n",
    "    word_vecs = {}\n",
    "    #n_words = len(word_to_id)\n",
    "    #res = np.zeros([n_words, emb_size], dtype=np.float32)\n",
    "    n_not_found = 0\n",
    "    for word, id in word_to_id.items():\n",
    "        if word in wordvecs:\n",
    "            #res[id, :] = wordvecs[word]\n",
    "            word_vecs[id] = wordvecs[word]\n",
    "        else:\n",
    "            n_not_found += 1\n",
    "            #res[id, :] = np.random.normal(0.0, 0.1, emb_size)\n",
    "            word_vecs[id] = np.random.normal(0.0, 0.1, emb_size)\n",
    "    print('n words not found in glove word vectors: ' + str(n_not_found))\n",
    "    \n",
    "    return word_vecs  \n",
    "\n",
    "def load_cbow(word_to_id, emb_size):\n",
    "    path_to_vsm = \"word_linear_sg_50d\"\n",
    "    my_vsm = vsmlib.model.load_from_dir(path_to_vsm)\n",
    "    \n",
    "    #n_words = len(word_to_id)\n",
    "    #res = np.zeros([n_words, emb_size], dtype=np.float32)\n",
    "    word_vecs = {}\n",
    "    n_not_found = 0\n",
    "    for word, id in word_to_id.items():\n",
    "        try:\n",
    "            #res[id, :] = my_vsm.get_row(word)\n",
    "            word_vecs[id] = my_vsm.get_row(word)\n",
    "        except:\n",
    "            n_not_found += 1\n",
    "            #res[id, :] = np.random.normal(0.0, 0.1, emb_size)          \n",
    "            word_vecs[id] = np.random.normal(0.0, 0.1, emb_size)\n",
    "            # pass                   \n",
    "    print('n words not found in skip gram word vectors: ' + str(n_not_found))\n",
    "\n",
    "    return word_vecs\n",
    "\n",
    "def load_random(word_to_id, emb_size):\n",
    "    #n_words = len(word_to_id)\n",
    "    #res = np.zeros([n_words, emb_size], dtype=np.float32)\n",
    "    word_vecs = {}\n",
    "    for word, id in word_to_id.items():        \n",
    "        word_vecs[id] = np.random.normal(0.0, 0.1, emb_size)\n",
    "\n",
    "    return res\n",
    "\n",
    "def fill_with_pretrained_embedding(word_to_id, emb_size, tag='random'):       \n",
    "    if tag == 'glove':\n",
    "        return load_glove(word_to_id, emb_size)\n",
    "    elif tag == 'word2vec':\n",
    "        return load_cbow(word_to_id, emb_size)\n",
    "    else:\n",
    "        return load_random(word_to_id, emb_size)\n",
    "    "
   ]
  },
  {
   "cell_type": "code",
   "execution_count": 202,
   "metadata": {
    "ExecuteTime": {
     "end_time": "2017-12-30T04:29:38.643112Z",
     "start_time": "2017-12-30T04:29:38.000152Z"
    }
   },
   "outputs": [
    {
     "name": "stdout",
     "output_type": "stream",
     "text": [
      "n words not found in skip gram word vectors: 2957\n"
     ]
    }
   ],
   "source": [
    "res = fill_with_pretrained_embedding(word_to_id, 50, 'word2vec')"
   ]
  },
  {
   "cell_type": "code",
   "execution_count": 174,
   "metadata": {
    "ExecuteTime": {
     "end_time": "2017-12-30T04:12:46.514565Z",
     "start_time": "2017-12-30T04:12:46.497042Z"
    }
   },
   "outputs": [
    {
     "name": "stdout",
     "output_type": "stream",
     "text": [
      "0 [-0.095738    0.189961   -0.034146    0.54617798  0.22668301  0.335547\n",
      "  0.20208301  0.037279   -0.013199   -0.35584199 -0.69640303  0.314886\n",
      " -0.065017    0.007158    0.09426    -0.88436699 -0.67106098  0.491606\n",
      " -0.62265903  0.027554    0.049129    0.55017298  0.43252     0.013473\n",
      "  0.070288    0.058233   -0.207626    0.104432    0.041371   -0.13020501\n",
      "  0.079588   -1.04272997  0.14076    -0.93160999 -0.006122   -0.71364897\n",
      "  0.674326   -0.164903    0.48833501 -0.37884301  0.126022    0.86592901\n",
      " -0.154432    0.619959   -0.148994   -0.56824201  0.66016299 -0.200849\n",
      "  0.229782    0.023693  ]\n"
     ]
    }
   ],
   "source": [
    "for i, j in res.items():\n",
    "    print(i, j)\n",
    "    break"
   ]
  },
  {
   "cell_type": "code",
   "execution_count": 203,
   "metadata": {
    "ExecuteTime": {
     "end_time": "2017-12-30T04:29:43.182307Z",
     "start_time": "2017-12-30T04:29:43.167747Z"
    }
   },
   "outputs": [],
   "source": [
    "def build_doc_embedding(data, word_to_id, emb_size=50, tag='random'):\n",
    "    '''\n",
    "    bag-of-mean representation of document.\n",
    "    '''\n",
    "    word_embedding = fill_with_pretrained_embedding(word_to_id, emb_size, tag)\n",
    "    \n",
    "    doc_embeddings = np.zeros([len(data), emb_size], dtype=np.float32)\n",
    "    for i in range(len(data)):\n",
    "        doc = data[i]\n",
    "        vecs = np.zeros(emb_size, dtype=np.float32)\n",
    "        count = 0\n",
    "        for word_id in doc:\n",
    "            if word_id in word_embedding:\n",
    "                vecs += word_embedding[word_id]\n",
    "                count += 1\n",
    "        doc_embeddings[i, :] = vecs/count\n",
    "    \n",
    "    return doc_embeddings\n",
    "    "
   ]
  },
  {
   "cell_type": "code",
   "execution_count": 204,
   "metadata": {
    "ExecuteTime": {
     "end_time": "2017-12-30T04:29:49.826713Z",
     "start_time": "2017-12-30T04:29:44.879784Z"
    }
   },
   "outputs": [
    {
     "name": "stdout",
     "output_type": "stream",
     "text": [
      "n words not found in skip gram word vectors: 2957\n"
     ]
    },
    {
     "name": "stderr",
     "output_type": "stream",
     "text": [
      "E:\\software\\anaconda\\lib\\site-packages\\ipykernel_launcher.py:16: RuntimeWarning: invalid value encountered in true_divide\n",
      "  app.launch_new_instance()\n"
     ]
    },
    {
     "name": "stdout",
     "output_type": "stream",
     "text": [
      "n words not found in skip gram word vectors: 2957\n"
     ]
    }
   ],
   "source": [
    "train_embeddings = build_doc_embedding(train_data, word_to_id, tag='word2vec')\n",
    "valid_embeddings = build_doc_embedding(valid_data, word_to_id, tag='word2vec')"
   ]
  },
  {
   "cell_type": "code",
   "execution_count": 213,
   "metadata": {
    "ExecuteTime": {
     "end_time": "2017-12-30T04:34:53.748582Z",
     "start_time": "2017-12-30T04:34:53.744070Z"
    }
   },
   "outputs": [
    {
     "name": "stdout",
     "output_type": "stream",
     "text": [
      "(1580, 50)\n",
      "(1580, 8)\n",
      "(250, 50)\n",
      "(250, 8)\n"
     ]
    }
   ],
   "source": [
    "print(train_embeddings.shape)\n",
    "print(train_labels.shape)\n",
    "print(valid_embeddings.shape)\n",
    "print(valid_labels.shape)"
   ]
  },
  {
   "cell_type": "code",
   "execution_count": 245,
   "metadata": {
    "ExecuteTime": {
     "end_time": "2017-12-30T05:09:15.733123Z",
     "start_time": "2017-12-30T05:09:15.726124Z"
    },
    "collapsed": true
   },
   "outputs": [],
   "source": [
    "def build_model():\n",
    "    \n",
    "    model = Sequential()\n",
    "    model.add(Dense(100, activation='sigmoid', input_dim=50))    \n",
    "    #model.add(Dense(100, activation='sigmoid'))\n",
    "    model.add(Dense(8, activation='softmax'))\n",
    "    \n",
    "    adam = optimizers.adam()\n",
    "    model.compile(loss='categorical_crossentropy',\n",
    "                  optimizer=adam,\n",
    "                  metrics=['accuracy'])\n",
    "    \n",
    "    return model"
   ]
  },
  {
   "cell_type": "code",
   "execution_count": 246,
   "metadata": {
    "ExecuteTime": {
     "end_time": "2017-12-30T05:09:19.082691Z",
     "start_time": "2017-12-30T05:09:17.734167Z"
    }
   },
   "outputs": [
    {
     "name": "stdout",
     "output_type": "stream",
     "text": [
      "Train on 1580 samples, validate on 250 samples\n",
      "Epoch 1/100\n",
      "1150/1580 [====================>.........] - ETA: 0s - loss: 0.3835 - acc: 0.2052Epoch 00001: val_loss improved from inf to 0.00000, saving model to weights.best.hdf5\n",
      "1580/1580 [==============================] - 1s 414us/step - loss: 0.2791 - acc: 0.1494 - val_loss: 1.1921e-07 - val_acc: 0.0000e+00\n",
      "Epoch 2/100\n",
      "1400/1580 [=========================>....] - ETA: 0s - loss: 1.1921e-07 - acc: 0.0000e+00Epoch 00002: val_loss did not improve\n",
      "1580/1580 [==============================] - 0s 86us/step - loss: 1.1921e-07 - acc: 0.0000e+00 - val_loss: 1.1921e-07 - val_acc: 0.0000e+00\n",
      "Epoch 3/100\n",
      "1500/1580 [===========================>..] - ETA: 0s - loss: 1.1921e-07 - acc: 0.0000e+00Epoch 00003: val_loss did not improve\n",
      "1580/1580 [==============================] - 0s 78us/step - loss: 1.1921e-07 - acc: 0.0000e+00 - val_loss: 1.1921e-07 - val_acc: 0.0000e+00\n",
      "Epoch 4/100\n",
      "1350/1580 [========================>.....] - ETA: 0s - loss: 1.1921e-07 - acc: 0.0000e+00Epoch 00004: val_loss did not improve\n",
      "1580/1580 [==============================] - 0s 94us/step - loss: 1.1921e-07 - acc: 0.0000e+00 - val_loss: 1.1921e-07 - val_acc: 0.0000e+00\n"
     ]
    }
   ],
   "source": [
    "model = build_model()\n",
    "\n",
    "bst_model_path = \"weights.best.hdf5\"\n",
    "model_checkpoint = ModelCheckpoint(bst_model_path, save_best_only=True, save_weights_only=True, verbose=1)\n",
    "early_stopping =EarlyStopping(monitor='val_loss', patience=3)\n",
    "    \n",
    "history = model.fit(train_embeddings, train_labels, epochs=100, batch_size=50,\n",
    "                   validation_data = (valid_embeddings, valid_labels),\n",
    "                   callbacks=[early_stopping, model_checkpoint])"
   ]
  },
  {
   "cell_type": "code",
   "execution_count": 247,
   "metadata": {
    "ExecuteTime": {
     "end_time": "2017-12-30T05:09:19.347925Z",
     "start_time": "2017-12-30T05:09:19.149369Z"
    }
   },
   "outputs": [
    {
     "data": {
      "image/png": "[encoded data removed]",
      "text/plain": [
       "<matplotlib.figure.Figure at 0x1ed55c2eac8>"
      ]
     },
     "metadata": {},
     "output_type": "display_data"
    },
    {
     "data": {
      "image/png": "[encoded data removed]",
      "text/plain": [
       "<matplotlib.figure.Figure at 0x1ed55dd3400>"
      ]
     },
     "metadata": {},
     "output_type": "display_data"
    }
   ],
   "source": [
    "import matplotlib.pyplot as plt\n",
    "\n",
    "acc = history.history['acc']\n",
    "val_acc = history.history['val_acc']\n",
    "loss = history.history['loss']\n",
    "val_loss = history.history['val_loss']\n",
    "\n",
    "epochs = range(len(acc))\n",
    "\n",
    "plt.plot(epochs, acc, 'bo', label='Training acc')\n",
    "plt.plot(epochs, val_acc, 'b', label='Validation acc')\n",
    "plt.title('Training and validation accuracy')\n",
    "plt.legend()\n",
    "\n",
    "plt.figure()\n",
    "\n",
    "plt.plot(epochs, loss, 'bo', label='Training loss')\n",
    "plt.plot(epochs, val_loss, 'b', label='Validation loss')\n",
    "plt.title('Training and validation loss')\n",
    "plt.legend()\n",
    "\n",
    "plt.show()"
   ]
  },
  {
   "cell_type": "code",
   "execution_count": 244,
   "metadata": {
    "ExecuteTime": {
     "end_time": "2017-12-30T05:08:49.922037Z",
     "start_time": "2017-12-30T05:08:49.758475Z"
    }
   },
   "outputs": [
    {
     "name": "stdout",
     "output_type": "stream",
     "text": [
      "250/250 [==============================] - 0s 97us/step\n",
      "Test loss: 1.19209303762e-07\n",
      "Test accuracy: 0.0\n"
     ]
    }
   ],
   "source": [
    "model.load_weights(filepath=bst_model_path)\n",
    "score = model.evaluate(valid_embeddings, valid_labels, verbose=1)\n",
    "print('Test loss:', score[0])\n",
    "print('Test accuracy:', score[1])"
   ]
  },
  {
   "cell_type": "code",
   "execution_count": null,
   "metadata": {
    "collapsed": true
   },
   "outputs": [],
   "source": []
  }
 ],
 "metadata": {
  "kernelspec": {
   "display_name": "Python 3",
   "language": "python",
   "name": "python3"
  },
  "language_info": {
   "codemirror_mode": {
    "name": "ipython",
    "version": 3
   },
   "file_extension": ".py",
   "mimetype": "text/x-python",
   "name": "python",
   "nbconvert_exporter": "python",
   "pygments_lexer": "ipython3",
   "version": "3.6.3"
  }
 },
 "nbformat": 4,
 "nbformat_minor": 2
}
